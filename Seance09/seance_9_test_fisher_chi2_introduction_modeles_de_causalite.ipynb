{
 "cells": [
  {
   "cell_type": "markdown",
   "metadata": {},
   "source": [
    "# Test $\\chi^2$ approximant le test exact de Fisher et introduction aux modèles de causalité de Pearl"
   ]
  },
  {
   "cell_type": "markdown",
   "metadata": {},
   "source": [
    "Plan de la séance:\n",
    "\n",
    "+ Distribution empirique de la $p$-value des tableaux de contingence $2\\times 2$.\n",
    "\n",
    "+ Généralisation aux tableaux $N \\times M$ (notion de degré de liberté $k=(N-1)(M-1)$)\n",
    "\n",
    "+ Approximation par le test du $\\chi^2$ de paramètre $k$.\n",
    "\n",
    "+ Notion d'indépendance conditionelle\n",
    "\n",
    "+ Exemples de modélisation avec des hypothèses de dépendance\n",
    "\n",
    "+ Modèles à variables en arguement ou d'affectation unique \n",
    "\n",
    "+ Graphe d'un Probabilistic Causal Model\n",
    "\n",
    "+ Petits exemples de modèles causale probabilistes\n",
    "\n",
    "+ Relations d'indépendances conditionelles et axiomes des graphoids\n",
    "\n",
    "+ Condition suffisante à l'indépendance conditionnelle : la notion de $d$-séparation pour les graphes\n",
    "\n",
    "+ Les niveaux Observer/Expérimenter/Imaginer de Pearl\n",
    "\n",
    "+ Distinction entre le conditionnement _$P(...|X=x)$_ dans l'observation et de l'intervention _$do(X=x)$_ dans l'experimentation. \n",
    "\n",
    "+ Le __do-calculus__ pour identifier la partie finalement observable dans l'expérimentale (Enoncé approximatif du résultat de Pearl et Shpitser."
   ]
  },
  {
   "cell_type": "markdown",
   "metadata": {},
   "source": [
    "### Rappel de la séance précédente"
   ]
  },
  {
   "cell_type": "code",
   "execution_count": 62,
   "metadata": {},
   "outputs": [],
   "source": [
    "import copy\n",
    "import fractions\n",
    "import math\n",
    "import random\n",
    "from typing import *"
   ]
  },
  {
   "cell_type": "code",
   "execution_count": 63,
   "metadata": {},
   "outputs": [],
   "source": [
    "def XY():\n",
    "    p = {(0,0): 0.4, (0,1):0.2, (1,0):0.3, (1,1):0.1}\n",
    "    r = random.random()\n",
    "    for xy in p:\n",
    "        if p[xy] >= r:\n",
    "            return xy\n",
    "        r -= p[xy]\n",
    "    assert(False)\n",
    "    \n",
    "maxX = 1\n",
    "maxY = 1"
   ]
  },
  {
   "cell_type": "code",
   "execution_count": 64,
   "metadata": {},
   "outputs": [],
   "source": [
    "def build_tableau_from_data(xys:List[Tuple[int]],maxX:int,maxY:int):\n",
    "    tableau = { (x,y): 0 for x in range(maxX+2) for y in range(maxY+2)} # TODO\n",
    "    for (x,y) in xys:\n",
    "        tableau[x,y] += 1\n",
    "        tableau[maxX+1,y] += 1\n",
    "        tableau[x,maxY+1] += 1\n",
    "        tableau[maxX+1,maxY+1] += 1\n",
    "    return tableau    \n",
    "\n",
    "\n",
    "def simulate_X_and_Y_for_tableau(XY:Callable[[],Tuple[int]],maxX:int,maxY:int,nb_tosses:int)-> Dict:\n",
    "    xys = [XY() for _ in range(nb_tosses)]\n",
    "    return build_tableau_from_data(xys,maxX,maxY)\n",
    "\n",
    "\n",
    "def print_tableau(tableau:Dict)->None:\n",
    "    (xs,ys) = ([ x for (x,_) in tableau],[ y for (y,_) in tableau])\n",
    "    (maxX,maxY) = (max(xs),max(ys))\n",
    "    print('<tableau>')\n",
    "    for y in range(maxY+1):\n",
    "        row = ''\n",
    "        for x in range(maxX+1):\n",
    "            if tableau[(x,y)] < 10: # XXX\n",
    "                row += f'[ {tableau[(x,y)]}]'\n",
    "            else:\n",
    "                row += f'[{tableau[(x,y)]}]'\n",
    "        print(row)\n",
    "    print('</tableau>')"
   ]
  },
  {
   "cell_type": "code",
   "execution_count": 65,
   "metadata": {},
   "outputs": [],
   "source": [
    "def list_all_2x2_tableaux_with_same_marginals(tableau:Dict):\n",
    "    found_tableaux = [copy.deepcopy(tableau)] # TODO\n",
    "    while min(found_tableaux[0][(0,0)],found_tableaux[0][(1,1)]) > 0:\n",
    "        new_tableau = copy.deepcopy(found_tableaux[0])\n",
    "        new_tableau[(0,0)] -= 1; new_tableau[(1,0)] += 1\n",
    "        new_tableau[(0,1)] += 1; new_tableau[(1,1)] -= 1\n",
    "        found_tableaux = [new_tableau]+found_tableaux\n",
    "    while min(found_tableaux[-1][(1,0)],found_tableaux[-1][(0,1)]) > 0:\n",
    "        new_tableau = copy.deepcopy(found_tableaux[-1])\n",
    "        new_tableau[(0,0)] += 1; new_tableau[(1,0)] -= 1\n",
    "        new_tableau[(0,1)] -= 1; new_tableau[(1,1)] += 1\n",
    "        found_tableaux += [new_tableau]\n",
    "    return found_tableaux"
   ]
  },
  {
   "cell_type": "code",
   "execution_count": 66,
   "metadata": {},
   "outputs": [],
   "source": [
    "def hash_tableau(tableau:Dict)->Tuple[Tuple[int]]:\n",
    "    n = max([x for (x,_) in tableau])\n",
    "    m = max([y for (_,y) in tableau])\n",
    "    return tuple([ tuple([ tableau[x,y] for x in range(n+1)]) for y in range(m+1)])\n",
    "\n",
    "def dehash_tableau(hashed_tableau:Tuple[Tuple[int]]):\n",
    "    n = len(hashed_tableau[0])\n",
    "    m = len(hashed_tableau)\n",
    "    return { (x,y): hashed_tableau[y][x] for x in range(n) for y in range(m)}\n",
    "    \n",
    "def canonical_box_of_balls_from_distribution(distribution):\n",
    "    balls = []\n",
    "    for z in range(len(distribution)):\n",
    "        balls += distribution[z]*[z]\n",
    "    return balls\n",
    "    \n",
    "def all_resamplings_of_tableau(tableau:Dict)->Dict:\n",
    "    n = max([x for (x,_) in tableau]) #TODO\n",
    "    m = max([y for (_,y) in tableau])\n",
    "    k = tableau[n,m]\n",
    "    X_marginal_distribution = tuple([ tableau[x,m] for x in range(n)])\n",
    "    X_box_of_balls = canonical_box_of_balls_from_distribution(X_marginal_distribution)\n",
    "    Y_marginal_distribution = tuple([ tableau[n,y] for y in range(m)])\n",
    "    Y_box_of_balls = canonical_box_of_balls_from_distribution(Y_marginal_distribution)\n",
    "    permutations_per_tableau = {}\n",
    "    for a_ball_permutation in itertools.permutations(range(k)):\n",
    "        xys = [ (X_box_of_balls[i],Y_box_of_balls[a_ball_permutation[i]]) for i in range(k)]\n",
    "        its_tableau = build_tableau_from_data(xys,n-1,m-1)\n",
    "        its_hashed_tableau = hash_tableau(its_tableau)\n",
    "        if its_hashed_tableau not in permutations_per_tableau:\n",
    "            print_tableau(its_tableau)\n",
    "            permutations_per_tableau[its_hashed_tableau] = []\n",
    "        permutations_per_tableau[its_hashed_tableau] += [a_ball_permutation]\n",
    "    return permutations_per_tableau"
   ]
  },
  {
   "cell_type": "code",
   "execution_count": 67,
   "metadata": {},
   "outputs": [],
   "source": [
    "def probability_of_a_tableau(tableau:Dict)->fractions.Fraction:\n",
    "    n = max([x for (x,_) in tableau]) #TODO\n",
    "    m = max([y for (_,y) in tableau])\n",
    "    probability = 1\n",
    "    for x in range(n+1):\n",
    "        for y in range(m+1):\n",
    "            if (x < m and y < n) or (x,y) == (m,n):\n",
    "                probability /= fractions.Fraction(math.factorial(tableau[x,y]))\n",
    "            else:\n",
    "                probability *= fractions.Fraction(math.factorial(tableau[x,y]))\n",
    "    return probability"
   ]
  },
  {
   "cell_type": "code",
   "execution_count": 68,
   "metadata": {},
   "outputs": [],
   "source": [
    "def p_value_of_tableau(tableau):\n",
    "    all_tableaux = list_all_2x2_tableaux_with_same_marginals(tableau)\n",
    "    tableau_probability = probability_of_a_tableau(tableau)\n",
    "    lower_probabilities = [ probability_of_a_tableau(t) for t in all_tableaux\\\n",
    "                           if probability_of_a_tableau(tableau) >= probability_of_a_tableau(t)]\n",
    "    return sum(p for p in lower_probabilities)"
   ]
  },
  {
   "cell_type": "markdown",
   "metadata": {},
   "source": [
    "## 1. Du test exact de Fisher au test approché du $\\chi^2$"
   ]
  },
  {
   "cell_type": "markdown",
   "metadata": {},
   "source": [
    "### Expérimentation sur la $p-$ value d'un tableau $2 \\times 2$ de contingence"
   ]
  },
  {
   "cell_type": "markdown",
   "metadata": {},
   "source": [
    "TODO 1.1:  Créer un tableau __tableau__ avec 300 tirages des paires réalisations de $(X,Y)$ donné par __XY()__. Lister dans __all_tableaux__ toutes les tableaux avec les mêmes marginales. En utilisant comme abscisse l'index d'un tableau dans la liste de tout les tableaux équivalents, tracer trois courbes:\n",
    "- la $p$-value de chaque tableau\n",
    "- la probabilité de chaque tableau\n",
    "- le seuil constant 0.05=1/20 usuellement utilisé comme seuil de signifiance lors des tests de $p$-value."
   ]
  },
  {
   "cell_type": "code",
   "execution_count": 69,
   "metadata": {},
   "outputs": [
    {
     "name": "stdout",
     "output_type": "stream",
     "text": [
      "<tableau>\n",
      "[117][88][205]\n",
      "[64][31][95]\n",
      "[181][119][300]\n",
      "</tableau>\n"
     ]
    }
   ],
   "source": [
    "#TODO (Création du tableau)\n",
    "nb_tosses = 300\n",
    "tableau = simulate_X_and_Y_for_tableau(XY, maxX, maxY, nb_tosses)\n",
    "print_tableau(tableau)"
   ]
  },
  {
   "cell_type": "code",
   "execution_count": 70,
   "metadata": {},
   "outputs": [
    {
     "name": "stdout",
     "output_type": "stream",
     "text": [
      "nb de tableaux 96\n"
     ]
    }
   ],
   "source": [
    "#TODO (Création de tous les tableaux équivalents)\n",
    "all_tableaux = list_all_2x2_tableaux_with_same_marginals(tableau)\n",
    "print(f'nb de tableaux {len(all_tableaux)}')"
   ]
  },
  {
   "cell_type": "code",
   "execution_count": 71,
   "metadata": {
    "scrolled": true
   },
   "outputs": [
    {
     "data": {
      "image/png": "[encoded data removed]",
      "text/plain": [
       "<Figure size 432x288 with 1 Axes>"
      ]
     },
     "metadata": {
      "needs_background": "light"
     },
     "output_type": "display_data"
    }
   ],
   "source": [
    "#TODO\n",
    "import matplotlib.pyplot as plt\n",
    "\n",
    "xs = list(range(len(all_tableaux)))\n",
    "ys = [ probability_of_a_tableau(all_tableaux[x]) for x in range(len(all_tableaux)) ] # probabilités\n",
    "zs = [ p_value_of_tableau(all_tableaux[x]) for x in range(len(all_tableaux)) ] # p-values\n",
    "us = [ 0.05 for _ in range(len(all_tableaux)) ] # seuil de signifiance\n",
    "plt.plot(xs,ys)\n",
    "plt.plot(xs,zs)\n",
    "plt.plot(xs,us)\n",
    "plt.show()\n",
    "# print(ys.index(1))"
   ]
  },
  {
   "cell_type": "markdown",
   "metadata": {},
   "source": [
    "### Généralisation aux tableaux $N \\times M$"
   ]
  },
  {
   "cell_type": "markdown",
   "metadata": {},
   "source": [
    "Le cas des matrices $2 \\times 2$ est le plus petit, nous souhaitons étudiez sa généralisation au cas $n \\times m$."
   ]
  },
  {
   "cell_type": "markdown",
   "metadata": {},
   "source": [
    "Une hypothèse forte sur les tableaux de contingence est que les lois marginales sont déterminée par le tableau.\n",
    "Donc les autres tableau possibles doivent avoir les même sommes sur les lignes et les colonnes.\n",
    "Nous allons étudier la possibilité de naviguer dans les tableaux de contingence possibles sous $H_0$ à l'aide de l'addition de sous-tableaux $2 \\times 2$ sur les données (et non les sommes partielles) de la forme soit:\n",
    "$$R_{i,j}^+:= \\left(\\begin{array}{cc} \n",
    "1 & -1 \\\\\n",
    "-1 & 1 \\\\\n",
    "\\end{array}\\right) \\mbox{ et } \n",
    "R_{i,j}^-:= \\left(\\begin{array}{cc} \n",
    "-1 & 1 \\\\\n",
    "1 & -1 \\\\\n",
    "\\end{array}\\right)\n",
    "$$\n",
    "et appliqué sur les cases $(i,j),(i+1,j),(i,j+1),(i+1,j+1)$ de la partie donnée du tableau de contingence."
   ]
  },
  {
   "cell_type": "markdown",
   "metadata": {},
   "source": [
    "TODO 1.2: Synthétiser la présentation au tableau pour répondre aux questions suivantes. Quelle est le nombre de matrices $R_{i,j}^+$, aussi appelé plus tard le degré de liberté, pour un tableau $N\\times M$ de contingence ? Pourquoi ne compte t on pas les coins de rectangles plus grands que les carrés $2 \\times 2$ comme $$ \\left( \\begin{array}{ccc} 1 & 0 & -1 \\\\ -1 & 0 & 1 \\end{array} \\right)$$ ?  Discuter des limites de la réduction de la questions précédente si il y de petites valeurs dans certaines entrées."
   ]
  },
  {
   "cell_type": "markdown",
   "metadata": {},
   "source": [
    "Supposons disposer d'une table de contingence, par exemple les données que nous avons collectée. Nous souhaitons explorer toute les tables vérifiant les même sommes partielles en déclarant deux tables voisines si elle ne diffère que par une addition de sous-table $R^+_{i,j}$ ou $R^-_{i,j}$. Nous allons alors calculer un graphe explorant toutes les tables connexes par ces opérations.   \n",
    "\n",
    "Une table de contingence est un tuple de tuple pour être \"hashable\"."
   ]
  },
  {
   "cell_type": "code",
   "execution_count": 72,
   "metadata": {},
   "outputs": [],
   "source": [
    "import networkx # graph library https://networkx.org/\n",
    "\n",
    "def convert_dict_to_table(d): ## XXX duplicate of hash_tableau\n",
    "    n = max([ p[0] for p in d])+1\n",
    "    m = max([ p[1] for p in d])+1\n",
    "    return tuple([ tuple([ d[(x,y)] for y in range(m)]) for x in range(n)])\n",
    "\n",
    "\n",
    "def convert_table_to_dict(table): ## XXX duplicate of dehash_tableau\n",
    "    n = len(table)\n",
    "    m = len(table[0])\n",
    "    return { (x,y): table[x][y] for x in range(n) for y in range(m)}\n",
    "    \n",
    "def generate_random_table(n:int, m:int, total:int)->Tuple[Tuple[int]]:\n",
    "    d = { (x,y) : 0 for x in range(n) for y in range(m)}\n",
    "    for _ in range(total):\n",
    "        x = random.randint(0,n-1)\n",
    "        y = random.randint(0,m-1)\n",
    "        d[(x,y)] += 1\n",
    "    return convert_dict_to_table(d)\n"
   ]
  },
  {
   "cell_type": "code",
   "execution_count": 73,
   "metadata": {
    "scrolled": true
   },
   "outputs": [
    {
     "data": {
      "text/plain": [
       "((0, 1, 0, 0, 2, 3, 2, 0), (1, 0, 1, 1, 0, 0, 1, 0), (0, 1, 1, 0, 2, 0, 2, 0))"
      ]
     },
     "execution_count": 73,
     "metadata": {},
     "output_type": "execute_result"
    }
   ],
   "source": [
    "generate_random_table(3,8,18)"
   ]
  },
  {
   "cell_type": "markdown",
   "metadata": {},
   "source": [
    "TODO 1.3: Complétez la fonction applicant une transformation $R_{i,j}^{\\pm}$ à un tableau puis celle construisant de graphe des tableaux. Dessiner le graphe pour plusieurs tableaux $2 \\times 3$, quel est la forme typique de ces graphes ? Faites vous un lien entre les degrés de libertés et une notion de dimension ? Dessiner le graphe pour quelques tableaux $2 \\times 4$  et $2 \\times 2$ pour confirmer vos intuitions."
   ]
  },
  {
   "cell_type": "code",
   "execution_count": 74,
   "metadata": {},
   "outputs": [],
   "source": [
    "def apply_R_on_table(i:int,j:int,sign:int,table:Tuple[Tuple[int]])->(bool,Tuple[Tuple[int]]):\n",
    "    d = convert_table_to_dict(table)\n",
    "    d[i,j] += sign\n",
    "    d[i+1,j] -= sign\n",
    "    d[i,j+1] -= sign\n",
    "    d[i+1,j+1] += sign\n",
    "    result_table = convert_dict_to_table(d)\n",
    "    if d[i,j] < 0 or d[i+1,j] < 0 or d[i,j+1] < 0 or d[i+1,j+1] < 0:\n",
    "        return (False,None)\n",
    "    return (True,convert_dict_to_table(d))\n",
    "    \n",
    "def graph_of_table(table:Tuple[Tuple[int]])->networkx.Graph:\n",
    "    n = len(table)\n",
    "    m = len(table[0])\n",
    "    graph = networkx.Graph()\n",
    "    unexplored_tables = [table]\n",
    "    graph.add_node(table)\n",
    "    while unexplored_tables != []:\n",
    "        explored_table = unexplored_tables.pop()\n",
    "        for i in range(n-1):\n",
    "            for j in range(m-1):\n",
    "                for sign in [-1,1]:\n",
    "                    (does_exist, neighbor_table) = apply_R_on_table(i,j,sign,explored_table)\n",
    "                    if does_exist:\n",
    "                        if not neighbor_table in graph.nodes():\n",
    "                            unexplored_tables += [neighbor_table]\n",
    "                            graph.add_node(neighbor_table)\n",
    "                            graph.add_edge(explored_table,neighbor_table)\n",
    "                        elif neighbor_table in unexplored_tables:\n",
    "                            graph.add_edge(explored_table,neighbor_table)\n",
    "                        else:\n",
    "                            pass\n",
    "    return graph"
   ]
  },
  {
   "cell_type": "code",
   "execution_count": 75,
   "metadata": {},
   "outputs": [
    {
     "data": {
      "image/png": "[encoded data removed]",
      "text/plain": [
       "<Figure size 432x288 with 1 Axes>"
      ]
     },
     "metadata": {},
     "output_type": "display_data"
    }
   ],
   "source": [
    "random_table = generate_random_table(2,3,50)\n",
    "graph = graph_of_table(random_table)\n",
    "layout = networkx.spring_layout(graph)\n",
    "networkx.draw(graph,pos=layout)\n",
    "plt.show()"
   ]
  },
  {
   "cell_type": "code",
   "execution_count": 76,
   "metadata": {},
   "outputs": [
    {
     "data": {
      "image/png": "[encoded data removed]",
      "text/plain": [
       "<Figure size 432x288 with 1 Axes>"
      ]
     },
     "metadata": {},
     "output_type": "display_data"
    }
   ],
   "source": [
    "random_table = generate_random_table(2,2,50)\n",
    "graph = graph_of_table(random_table)\n",
    "layout = networkx.spring_layout(graph)\n",
    "networkx.draw(graph,pos=layout)\n",
    "plt.show()"
   ]
  },
  {
   "cell_type": "code",
   "execution_count": 77,
   "metadata": {},
   "outputs": [
    {
     "data": {
      "image/png": "[encoded data removed]",
      "text/plain": [
       "<Figure size 432x288 with 1 Axes>"
      ]
     },
     "metadata": {},
     "output_type": "display_data"
    }
   ],
   "source": [
    "random_table = generate_random_table(2,4,30)\n",
    "graph = graph_of_table(random_table)\n",
    "layout = networkx.spring_layout(graph)\n",
    "networkx.draw(graph,pos=layout)\n",
    "plt.show()"
   ]
  },
  {
   "cell_type": "markdown",
   "metadata": {},
   "source": [
    "TODO 1.4 (A faire à la maison): Calculer la $p$-value d'un tableau $N\\times M$. Colorier les sommets du graphe selon la valeur de la $p$-value. Deux versions sont attendues:\n",
    "- pour le seuil $0.05$, colorier en rouge les sommets représentant des tableaux non-significatif et en vert des sommets des tableaux significatifs.\n",
    "- utiliser la $p$-value pour faire un degradé de couleurs."
   ]
  },
  {
   "cell_type": "markdown",
   "metadata": {},
   "source": [
    "## Test approché du $\\chi^2$"
   ]
  },
  {
   "cell_type": "markdown",
   "metadata": {},
   "source": [
    "TODO 1.5: Notez la définition présenté au tableau de la quantité statistique évaluée sur le tableau de contingence lors du test du $\\chi^2$. Compléter la fonction calculant cette statistique."
   ]
  },
  {
   "cell_type": "code",
   "execution_count": 120,
   "metadata": {},
   "outputs": [],
   "source": [
    "def chi2_statistique(tableau, debug=False):\n",
    "    n = max([x for (x,_) in tableau])\n",
    "    m = min([y for (_,y) in tableau])\n",
    "    result = 0\n",
    "    N = tableau[(n,m)]\n",
    "    for x in range(n):\n",
    "        for y in range(m):\n",
    "            exy = (tableau[(x,m)]/N)*(tableau[(n,y)]/N)*N\n",
    "            result += (tableau[(x,y)] - exy)**2/exy\n",
    "            if debug:\n",
    "                print(f' (x = {x}, y = {y}), tableau[x,y] = {tableau[x,y]}, exy = {exy}')\n",
    "    return result"
   ]
  },
  {
   "cell_type": "code",
   "execution_count": 121,
   "metadata": {
    "scrolled": true
   },
   "outputs": [
    {
     "name": "stdout",
     "output_type": "stream",
     "text": [
      "<tableau>\n",
      "[117][88][205]\n",
      "[64][31][95]\n",
      "[181][119][300]\n",
      "</tableau>\n"
     ]
    }
   ],
   "source": [
    "print_tableau(tableau)"
   ]
  },
  {
   "cell_type": "code",
   "execution_count": 122,
   "metadata": {},
   "outputs": [
    {
     "data": {
      "text/plain": [
       "0"
      ]
     },
     "execution_count": 122,
     "metadata": {},
     "output_type": "execute_result"
    }
   ],
   "source": [
    "chi2_statistique(tableau, debug=True)"
   ]
  },
  {
   "cell_type": "markdown",
   "metadata": {},
   "source": [
    "TODO 1.6: Calculer la distribution de cette statistique sur un tableau aléatoire à marginale fixée. Tracer la fonction cumulative empirique."
   ]
  },
  {
   "cell_type": "code",
   "execution_count": 123,
   "metadata": {},
   "outputs": [],
   "source": [
    "# Ici le cas 2x2:\n",
    "def chi2_statistique_distribution_all_tableaux_with_same_marginal(tableau):\n",
    "    all_tableaux = list_all_2x2_tableaux_with_same_marginals(tableau)\n",
    "    probabilities = { hash_tableau(a_tableau) : probability_of_a_tableau(a_tableau)\\\n",
    "                    for a_tableau in all_tableaux }\n",
    "    chi2values = { hash_tableau(a_tableau) : chi2_statistique(a_tableau)\\\n",
    "                 for a_tableau in all_tableaux }\n",
    "    pairs_tableau_chi2value = [ (t,chi2values[t]) for t in chi2values ]\n",
    "    pairs_tableau_chi2value.sort(key=lambda p:p[1])\n",
    "    probability_found = 0\n",
    "    cdf = [(0,0)] # (chi2value.probability at least chi2value)\n",
    "    for i in range(len(pairs_tableau_chi2value)):\n",
    "        (a_tableau, its_chi2_value) = pairs_tableau_chi2value[i]\n",
    "        probability_found += probabilities[a_tableau]\n",
    "        cdf += [(its_chi2_value, probability_found)]\n",
    "    return cdf"
   ]
  },
  {
   "cell_type": "code",
   "execution_count": 124,
   "metadata": {},
   "outputs": [
    {
     "name": "stdout",
     "output_type": "stream",
     "text": [
      "(0, Fraction(1, 1))\n"
     ]
    }
   ],
   "source": [
    "cdf = chi2_statistique_distribution_all_tableaux_with_same_marginal(tableau)\n",
    "print(cdf[-1])"
   ]
  },
  {
   "cell_type": "markdown",
   "metadata": {},
   "source": [
    "La distribution $\\chi^2_k$ est une loi de distribution codée par une fonction spéciale, avec un paramètre $k$, aussi nommé le degré de liberté.\n",
    "__numpy__ propose un générateur de la distribution:"
   ]
  },
  {
   "cell_type": "code",
   "execution_count": 125,
   "metadata": {},
   "outputs": [
    {
     "name": "stdout",
     "output_type": "stream",
     "text": [
      "Help on built-in function chisquare:\n",
      "\n",
      "chisquare(...) method of numpy.random.mtrand.RandomState instance\n",
      "    chisquare(df, size=None)\n",
      "    \n",
      "    Draw samples from a chi-square distribution.\n",
      "    \n",
      "    When `df` independent random variables, each with standard normal\n",
      "    distributions (mean 0, variance 1), are squared and summed, the\n",
      "    resulting distribution is chi-square (see Notes).  This distribution\n",
      "    is often used in hypothesis testing.\n",
      "    \n",
      "    .. note::\n",
      "        New code should use the ``chisquare`` method of a ``default_rng()``\n",
      "        instance instead; please see the :ref:`random-quick-start`.\n",
      "    \n",
      "    Parameters\n",
      "    ----------\n",
      "    df : float or array_like of floats\n",
      "         Number of degrees of freedom, must be > 0.\n",
      "    size : int or tuple of ints, optional\n",
      "        Output shape.  If the given shape is, e.g., ``(m, n, k)``, then\n",
      "        ``m * n * k`` samples are drawn.  If size is ``None`` (default),\n",
      "        a single value is returned if ``df`` is a scalar.  Otherwise,\n",
      "        ``np.array(df).size`` samples are drawn.\n",
      "    \n",
      "    Returns\n",
      "    -------\n",
      "    out : ndarray or scalar\n",
      "        Drawn samples from the parameterized chi-square distribution.\n",
      "    \n",
      "    Raises\n",
      "    ------\n",
      "    ValueError\n",
      "        When `df` <= 0 or when an inappropriate `size` (e.g. ``size=-1``)\n",
      "        is given.\n",
      "    \n",
      "    See Also\n",
      "    --------\n",
      "    Generator.chisquare: which should be used for new code.\n",
      "    \n",
      "    Notes\n",
      "    -----\n",
      "    The variable obtained by summing the squares of `df` independent,\n",
      "    standard normally distributed random variables:\n",
      "    \n",
      "    .. math:: Q = \\sum_{i=0}^{\\mathtt{df}} X^2_i\n",
      "    \n",
      "    is chi-square distributed, denoted\n",
      "    \n",
      "    .. math:: Q \\sim \\chi^2_k.\n",
      "    \n",
      "    The probability density function of the chi-squared distribution is\n",
      "    \n",
      "    .. math:: p(x) = \\frac{(1/2)^{k/2}}{\\Gamma(k/2)}\n",
      "                     x^{k/2 - 1} e^{-x/2},\n",
      "    \n",
      "    where :math:`\\Gamma` is the gamma function,\n",
      "    \n",
      "    .. math:: \\Gamma(x) = \\int_0^{-\\infty} t^{x - 1} e^{-t} dt.\n",
      "    \n",
      "    References\n",
      "    ----------\n",
      "    .. [1] NIST \"Engineering Statistics Handbook\"\n",
      "           https://www.itl.nist.gov/div898/handbook/eda/section3/eda3666.htm\n",
      "    \n",
      "    Examples\n",
      "    --------\n",
      "    >>> np.random.chisquare(2,4)\n",
      "    array([ 1.89920014,  9.00867716,  3.13710533,  5.62318272]) # random\n",
      "\n"
     ]
    }
   ],
   "source": [
    "import numpy\n",
    "import numpy.random\n",
    "\n",
    "help(numpy.random.chisquare)"
   ]
  },
  {
   "cell_type": "markdown",
   "metadata": {},
   "source": [
    "TODO 1.7: Tracer la fonction cumulative empirique pour le générateur avec un paramètre $k$ correspondant à $(N-1)\\times (M-1)$ pour un tableau de taille $N\\times M$. Comparer avec la fonction cumulative de la statistique __chi2_stastistique__ pour un tableau."
   ]
  },
  {
   "cell_type": "code",
   "execution_count": 164,
   "metadata": {},
   "outputs": [],
   "source": [
    "def empirical_cdf_of_chisquare_generator(k:int,nb_tosses:int)->List[Tuple[float, float]]:\n",
    "    samples = [ numpy.random.chisquare(k) for _ in range(nb_tosses)]\n",
    "    samples.sort()\n",
    "    cdf = [ (samples[i], (i+1)/len(samples)) for i in range(len(samples)) ]\n",
    "    return cdf"
   ]
  },
  {
   "cell_type": "code",
   "execution_count": 165,
   "metadata": {},
   "outputs": [
    {
     "data": {
      "text/plain": [
       "[]"
      ]
     },
     "execution_count": 165,
     "metadata": {},
     "output_type": "execute_result"
    },
    {
     "data": {
      "image/png": "[encoded data removed]",
      "text/plain": [
       "<Figure size 432x288 with 1 Axes>"
      ]
     },
     "metadata": {
      "needs_background": "light"
     },
     "output_type": "display_data"
    }
   ],
   "source": [
    "cdf2 = empirical_cdf_of_chisquare_generator(1,50)\n",
    "\n",
    "x2s = [ p[0] for p in cdf2 ]\n",
    "y2s = [ p[1] for p in cdf2 ]\n",
    "plt.plot(x2s,y2s)\n",
    "plt.plot()"
   ]
  },
  {
   "cell_type": "code",
   "execution_count": 166,
   "metadata": {
    "scrolled": true
   },
   "outputs": [
    {
     "data": {
      "image/png": "[encoded data removed]",
      "text/plain": [
       "<Figure size 432x288 with 1 Axes>"
      ]
     },
     "metadata": {
      "needs_background": "light"
     },
     "output_type": "display_data"
    }
   ],
   "source": [
    "plt.plot(xs,ys)\n",
    "plt.plot(x2s,y2s)\n",
    "plt.show()"
   ]
  },
  {
   "cell_type": "markdown",
   "metadata": {},
   "source": [
    "## La suite au tableau"
   ]
  },
  {
   "cell_type": "code",
   "execution_count": null,
   "metadata": {},
   "outputs": [],
   "source": []
  }
 ],
 "metadata": {
  "kernelspec": {
   "display_name": "Python 3.10.2 64-bit",
   "language": "python",
   "name": "python3"
  },
  "language_info": {
   "codemirror_mode": {
    "name": "ipython",
    "version": 3
   },
   "file_extension": ".py",
   "mimetype": "text/x-python",
   "name": "python",
   "nbconvert_exporter": "python",
   "pygments_lexer": "ipython3",
   "version": "3.10.2"
  },
  "vscode": {
   "interpreter": {
    "hash": "97ee55dfb33b9927a622f5c9bd96b1a91655453cc031e550b25fc9030a8478a2"
   }
  }
 },
 "nbformat": 4,
 "nbformat_minor": 2
}
