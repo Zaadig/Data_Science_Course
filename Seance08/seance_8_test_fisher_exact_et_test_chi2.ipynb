{
 "cells": [
  {
   "cell_type": "markdown",
   "metadata": {},
   "source": [
    "# Expérimentation sur les tests d'indépendance de Fisher exact et le $\\chi^2$."
   ]
  },
  {
   "cell_type": "markdown",
   "metadata": {},
   "source": [
    "Plan de la séance:\n",
    "\n",
    "- Programmation du formalisme des probabilités\n",
    "- Simulation pour les fréquences de table de contingence produites par deux variables indépendantes ou non. \n",
    "- Énumération et graphes des tables de contingences de même marginales sous l'hypothèse de Fisher\n",
    "- Vérification expérimentale de la formule de Fisher (et une façon de la re-découvrir)\n",
    "- Calcul de la $p$-value pour le test de Fisher exact\n",
    "- Vérification expérimentale de l'approximation par les lois $\\chi^2$ du test de Fisher\n",
    "- Application du test de $\\chi^2$ sur des tables plus grandes."
   ]
  },
  {
   "cell_type": "markdown",
   "metadata": {},
   "source": [
    "## 1. Programmation du formalisme des probabilités"
   ]
  },
  {
   "cell_type": "markdown",
   "metadata": {},
   "source": [
    "Nous allons travailler avec $\\Omega := \\Omega(N)$ qui est la loi uniforme sur les entiers de $0$ à $N-1$, chacun évenement $\\omega \\in \\Omega$ ayant une probabilité $P(\\omega) := \\frac{1}{N}$.\n",
    "\n",
    "Nos variables aléatoires seront des fonctions déterministes définient par trois entiers $(a,b,c)$:\n",
    "$$X_{a,b,c}(\\omega) := (a\\omega + b)\\mod c.$$"
   ]
  },
  {
   "cell_type": "markdown",
   "metadata": {},
   "source": [
    "TODO 1.1: Complétez la fonction __create_random_outcome_generator__ qui simule des tirages aléatoire selon l'espace probabilisé $\\Omega$. Complétez la fonction __create_outcome_probability__ qui crée une fonction donnant la probabilité d'un évenement $\\omega$. Vérifiez si la somme probabilité fait bien $1$. Corrigez le problème en important le module __fractions__ documenté ici: https://docs.python.org/3/library/fractions.html . Compléter la fonction __create_iterator_on_outcomes__ qui un itérateur sur les évènements possibles."
   ]
  },
  {
   "cell_type": "code",
   "execution_count": 15,
   "metadata": {},
   "outputs": [
    {
     "name": "stdout",
     "output_type": "stream",
     "text": [
      "some events [14, 8, 2, 12, 2, 0, 13, 0, 14, 5]\n",
      "some outcome probabilities [0, 0, 0, 0, 0.05, 0.05, 0.05, 0.05, 0.05, 0.05, 0.05, 0.05, 0.05, 0.05, 0.05, 0.05, 0.05, 0.05, 0.05, 0.05, 0.05, 0.05, 0.05, 0.05, 0, 0, 0, 0]\n",
      "Omega = [0, 1, 2, 3, 4, 5, 6, 7, 8, 9, 10, 11, 12, 13, 14, 15, 16, 17, 18, 19]\n",
      "total_probabilities 1.0000000000000002\n"
     ]
    }
   ],
   "source": [
    "from typing import *\n",
    "import random\n",
    "import fractions #TODO\n",
    "\n",
    "\n",
    "def create_random_outcome_generator(N:int)->Callable[[],int]:\n",
    "    return lambda : random.randint(0,N-1)\n",
    "\n",
    "def create_outcome_probability(N:int)->Callable[[],float]:\n",
    "    return lambda w: {True: float(fractions.Fraction(1/N)), False: 0}[0 <= w < N]\n",
    "\n",
    "def create_iterator_on_outcomes(N:int)->range:\n",
    "    return range(N)\n",
    "\n",
    "N = 20\n",
    "generate_outcome = create_random_outcome_generator(N)\n",
    "print(f'some events {[generate_outcome() for _ in range(10)]}')\n",
    "\n",
    "outcome_probability = create_outcome_probability(N)\n",
    "some_outcome_probabilities = [ outcome_probability(omega) for omega in range(-4,N+4)]\n",
    "print(f'some outcome probabilities {some_outcome_probabilities}')\n",
    "\n",
    "\n",
    "outcomes_iterator = create_iterator_on_outcomes(N)\n",
    "print(f'Omega = {[omega for omega in outcomes_iterator]}')\n",
    "\n",
    "total_probabilities = sum(outcome_probability(omega) for omega in outcomes_iterator)\n",
    "print(f'total_probabilities {total_probabilities}')\n",
    "\n",
    "    "
   ]
  },
  {
   "cell_type": "code",
   "execution_count": 16,
   "metadata": {},
   "outputs": [
    {
     "data": {
      "text/plain": [
       "range"
      ]
     },
     "execution_count": 16,
     "metadata": {},
     "output_type": "execute_result"
    }
   ],
   "source": [
    "type(range(10))"
   ]
  },
  {
   "cell_type": "markdown",
   "metadata": {},
   "source": [
    "TODO 1.2: Complètez la fonction __create_random_variable(a,b,c)__ qui retourne la variable aléatoire paramétrée par $a$, $b$ et $c$. A partir de cette fonction créer trois variables aléatoires $X$, $Y$ et $Z$ telle que $X$ et $Y$ soient indépendentes alors que $X$ et $Z$ ne le soient pas.   "
   ]
  },
  {
   "cell_type": "code",
   "execution_count": 17,
   "metadata": {},
   "outputs": [],
   "source": [
    "def create_random_variable(a:int,b:int,c:int)->Callable[[int],int]:\n",
    "    return lambda omega : (a*omega+b)%c # TODO\n",
    "\n",
    "X = create_random_variable(1,0,4)\n",
    "Y = create_random_variable(1,0,5)\n",
    "Z = create_random_variable(1,0,2)"
   ]
  },
  {
   "cell_type": "markdown",
   "metadata": {},
   "source": [
    "TODO 1.3: Calculez une liste de 13 réalisations de la variable aléatoire $X$ (sur l'espace de probabilité $\\Omega$). Faites de même sur $Y$ et $Z$."
   ]
  },
  {
   "cell_type": "code",
   "execution_count": 18,
   "metadata": {},
   "outputs": [
    {
     "name": "stdout",
     "output_type": "stream",
     "text": [
      "sample_X [3, 2, 2, 3, 0, 1, 3, 3, 0, 2, 0, 1, 2]\n",
      "sample_Y [2, 4, 4, 1, 4, 3, 4, 2, 2, 2, 2, 3, 3]\n",
      "sample_Z [0, 0, 0, 0, 1, 1, 1, 0, 1, 1, 0, 1, 0]\n"
     ]
    }
   ],
   "source": [
    "sample_X = [ X(generate_outcome()) for _ in range(13)]\n",
    "print(f'sample_X {sample_X}')\n",
    "sample_Y = [ Y(generate_outcome()) for _ in range(13)]\n",
    "print(f'sample_Y {sample_Y}')\n",
    "sample_Z = [ Z(generate_outcome()) for _ in range(13)]\n",
    "print(f'sample_Z {sample_Z}')"
   ]
  },
  {
   "cell_type": "markdown",
   "metadata": {},
   "source": [
    "TODO 1.4: Completez dans __get_distribution__ le calcul de la loi d'une variable aléatoire (discrète et à support fini) sous la forme d'un dictionnaire où seul les élements de probabilité non-nulle sont présents."
   ]
  },
  {
   "cell_type": "code",
   "execution_count": 19,
   "metadata": {},
   "outputs": [],
   "source": [
    "def get_distribution(X:Callable[[int],int],\\\n",
    "                 outcomes_iterator:range, outcome_probability:Callable[[int],fractions.Fraction])->Dict:\n",
    "    distribution = {}\n",
    "    for omega in outcomes_iterator:\n",
    "        x = X(omega)\n",
    "        if x not in distribution:\n",
    "            distribution[x]=0\n",
    "        distribution[x] += outcome_probability(omega)\n",
    "    return {x: distribution[x] for x in distribution if distribution[x] > 0}\n",
    "    "
   ]
  },
  {
   "cell_type": "code",
   "execution_count": 20,
   "metadata": {},
   "outputs": [
    {
     "name": "stdout",
     "output_type": "stream",
     "text": [
      "X_distribution {0: 0.25, 1: 0.25, 2: 0.25, 3: 0.25}\n",
      "Y_distribution {0: 0.2, 1: 0.2, 2: 0.2, 3: 0.2, 4: 0.2}\n",
      "Z_distribution {0: 0.49999999999999994, 1: 0.49999999999999994}\n"
     ]
    }
   ],
   "source": [
    "X_distribution = get_distribution(X,outcomes_iterator,outcome_probability)\n",
    "print(f'X_distribution {X_distribution}')\n",
    "Y_distribution = get_distribution(Y,outcomes_iterator,outcome_probability)\n",
    "print(f'Y_distribution {Y_distribution}')\n",
    "Z_distribution = get_distribution(Z,outcomes_iterator,outcome_probability)\n",
    "print(f'Z_distribution {Z_distribution}')"
   ]
  },
  {
   "cell_type": "markdown",
   "metadata": {},
   "source": [
    "TODO 1.5: En prenant soin d'utiliser une fonction anonyme (__lambda omega: ... __) calculez une liste de 7 réalisations de la paire de variables aléatoire $(X,Z)$."
   ]
  },
  {
   "cell_type": "code",
   "execution_count": 21,
   "metadata": {},
   "outputs": [
    {
     "name": "stdout",
     "output_type": "stream",
     "text": [
      "sample_XZ [(1, 1), (3, 1), (0, 0), (3, 1), (1, 1), (1, 1), (3, 1)]\n"
     ]
    }
   ],
   "source": [
    "sample_XZ = [ (lambda omega: (X(omega),Z(omega)))(generate_outcome()) for _ in range(7)] # TODO\n",
    "print(f'sample_XZ {sample_XZ}')"
   ]
  },
  {
   "cell_type": "markdown",
   "metadata": {},
   "source": [
    "TODO 1.6: Complétez la fonction __joint_variables__ qui étant donné une liste de variable aléatoires renvoit le vecteur/tuple de leur réalisation sur le même évènement $\\omega$. Avec cette fonction calculez la variable aléatoire $XY(\\omega) := (X(\\omega),Y(\\omega))$. "
   ]
  },
  {
   "cell_type": "code",
   "execution_count": 22,
   "metadata": {},
   "outputs": [],
   "source": [
    "def joint_variables(Xs:List[Callable[[int],int]])->Callable[[int],Tuple[int]]:\n",
    "    return lambda omega: tuple([ X(omega) for X in Xs]) # TODO\n",
    "\n",
    "XY = joint_variables([X,Y])"
   ]
  },
  {
   "cell_type": "markdown",
   "metadata": {},
   "source": [
    "TODO 1.7: En ignorant les possibles problèmes de typage, calculez la loi jointe de $X$ et $Y$ avec la fonction __get_distribution__. Que pensez vous du typage en python ?"
   ]
  },
  {
   "cell_type": "code",
   "execution_count": 23,
   "metadata": {},
   "outputs": [
    {
     "name": "stdout",
     "output_type": "stream",
     "text": [
      "XY_distribution {(0, 0): 0.05, (1, 1): 0.05, (2, 2): 0.05, (3, 3): 0.05, (0, 4): 0.05, (1, 0): 0.05, (2, 1): 0.05, (3, 2): 0.05, (0, 3): 0.05, (1, 4): 0.05, (2, 0): 0.05, (3, 1): 0.05, (0, 2): 0.05, (1, 3): 0.05, (2, 4): 0.05, (3, 0): 0.05, (0, 1): 0.05, (1, 2): 0.05, (2, 3): 0.05, (3, 4): 0.05}\n"
     ]
    }
   ],
   "source": [
    "XY_distribution = get_distribution(XY,outcomes_iterator,outcome_probability)\n",
    "print(f'XY_distribution {XY_distribution}')"
   ]
  },
  {
   "cell_type": "markdown",
   "metadata": {},
   "source": [
    "TODO 1.8: Complétez la fonction __get_marginal_distribution__ calculant la loi marginal $X_i$ étant donné une loi jointe pour $(X_j)_{j=0,\\ldots k-1}$. Puis calculer les marginals des lois jointes $(X,Y)$ et $(X,Z)$. "
   ]
  },
  {
   "cell_type": "code",
   "execution_count": 24,
   "metadata": {},
   "outputs": [],
   "source": [
    "def get_marginal_distribution(Xs_distribution:Dict,index:int)->Dict:\n",
    "    marginal_distribution = {}\n",
    "    for p in Xs_distribution:\n",
    "        if p[index] not in marginal_distribution:\n",
    "            marginal_distribution[p[index]] = 0\n",
    "        marginal_distribution[p[index]] += Xs_distribution[p]\n",
    "    return marginal_distribution"
   ]
  },
  {
   "cell_type": "code",
   "execution_count": 25,
   "metadata": {},
   "outputs": [
    {
     "name": "stdout",
     "output_type": "stream",
     "text": [
      "XY_distribution {(0, 0): 0.05, (1, 1): 0.05, (2, 2): 0.05, (3, 3): 0.05, (0, 4): 0.05, (1, 0): 0.05, (2, 1): 0.05, (3, 2): 0.05, (0, 3): 0.05, (1, 4): 0.05, (2, 0): 0.05, (3, 1): 0.05, (0, 2): 0.05, (1, 3): 0.05, (2, 4): 0.05, (3, 0): 0.05, (0, 1): 0.05, (1, 2): 0.05, (2, 3): 0.05, (3, 4): 0.05}\n",
      "X_marginal_from_XY{0: 0.25, 1: 0.25, 2: 0.25, 3: 0.25}\n"
     ]
    }
   ],
   "source": [
    "print(f'XY_distribution {XY_distribution}')\n",
    "X_marginal_from_XY = get_marginal_distribution(XY_distribution,0)\n",
    "Y_marginal_from_XY = get_marginal_distribution(XY_distribution,1)\n",
    "print(f'X_marginal_from_XY{X_marginal_from_XY}')"
   ]
  },
  {
   "cell_type": "markdown",
   "metadata": {},
   "source": [
    "TODO 1.9: Complétez la fonction __get_joint_distribution_of_two_variables_assuming_independance__ calculant la loi jointe de deux variables _supposées indépendantes_. Vous utiliserez $\\Omega^2 := \\Omega \\times \\Omega$ au lieu de $\\Omega$ comme espace de probabilité pour définir une nouvelle variable aléatoire retournant une paire d'entiers."
   ]
  },
  {
   "cell_type": "code",
   "execution_count": 26,
   "metadata": {},
   "outputs": [],
   "source": [
    "import itertools\n",
    "\n",
    "def get_joint_distribution_of_two_variables_assuming_independance(Xs:List[Callable[[int],int]],\\\n",
    "            outcomes_iterator:range,outcome_probability:Callable[[int],fractions.Fraction])->Dict:\n",
    "    distribution = {}\n",
    "    X_marginal = get_distribution(Xs[0],outcomes_iterator,outcome_probability)\n",
    "    Y_marginal = get_distribution(Xs[1],outcomes_iterator,outcome_probability)\n",
    "    for x in X_marginal:\n",
    "        for y in Y_marginal:\n",
    "                distribution[(x,y)] = X_marginal[x]*Y_marginal[y]\n",
    "    return distribution\n"
   ]
  },
  {
   "cell_type": "code",
   "execution_count": 27,
   "metadata": {},
   "outputs": [
    {
     "name": "stdout",
     "output_type": "stream",
     "text": [
      "new_XY_distribution {(0, 0): 0.05, (0, 1): 0.05, (0, 2): 0.05, (0, 3): 0.05, (0, 4): 0.05, (1, 0): 0.05, (1, 1): 0.05, (1, 2): 0.05, (1, 3): 0.05, (1, 4): 0.05, (2, 0): 0.05, (2, 1): 0.05, (2, 2): 0.05, (2, 3): 0.05, (2, 4): 0.05, (3, 0): 0.05, (3, 1): 0.05, (3, 2): 0.05, (3, 3): 0.05, (3, 4): 0.05}\n"
     ]
    }
   ],
   "source": [
    "new_XY_distribution = get_joint_distribution_of_two_variables_assuming_independance([X,Y],\\\n",
    "                                    outcomes_iterator,outcome_probability)\n",
    "print(f'new_XY_distribution {new_XY_distribution}')"
   ]
  },
  {
   "cell_type": "markdown",
   "metadata": {},
   "source": [
    "TODO 1.10: Généralisez le cas de $n\\geq 2$ variables dans la fonction __get_joint_distribution_of_variables_assuming_independance__ en passant par l'espace de probabilité $\\Omega^n$ et la fonction __reduce__ du module __functools__ documentée ici https://docs.python.org/3/library/functools.html#functools.reduce. Utilisez cette nouvelle fonction que vous avez définie pour calculer la loi jointe $(X,Y,Z)$ _en supposant l'indépendance_ des trois variables. "
   ]
  },
  {
   "cell_type": "code",
   "execution_count": 53,
   "metadata": {},
   "outputs": [],
   "source": [
    "import operator\n",
    "import functools\n",
    "\n",
    "def get_joint_distribution_of_variables_assuming_independance(Xs:List[Callable[[int],int]],\\\n",
    "            outcomes_iterator:range,outcome_probability:Callable[[int],fractions.Fraction])->Dict:\n",
    "            pass\n"
   ]
  },
  {
   "cell_type": "code",
   "execution_count": 55,
   "metadata": {},
   "outputs": [
    {
     "name": "stdout",
     "output_type": "stream",
     "text": [
      "new_XYZ_distribution_assuming_independance None\n"
     ]
    }
   ],
   "source": [
    "new_XYZ_distribution_assuming_independance = get_joint_distribution_of_variables_assuming_independance([X,Y,Z],\\\n",
    "            outcomes_iterator,outcome_probability)\n",
    "print(f'new_XYZ_distribution_assuming_independance {new_XYZ_distribution_assuming_independance}')"
   ]
  },
  {
   "cell_type": "markdown",
   "metadata": {},
   "source": [
    "TODO 1.11: Complétez la fonction __are_variables_independant__ qui détermine si les variables données sur l'espace de probabilité commun $\\Omega$ sont indépendantes. Testez cette fonction avec les lois jointes $(X,Y)$, $(X,Z)$ et $(X,Y,Z)$."
   ]
  },
  {
   "cell_type": "code",
   "execution_count": 56,
   "metadata": {},
   "outputs": [],
   "source": [
    "def are_variables_independant(Xs:List[Callable[[int],int]],\\\n",
    "            outcomes_iterator:range,outcome_probability:Callable[[int],fractions.Fraction])->bool:\n",
    "            assert(len(Xs))\n",
    "            real_XY_distribution = get_distribution(joint_variables(Xs),outcomes_iterator,outcome_probability)\n",
    "            XY_distribution_assuming_independance = get_joint_distribution_of_two_variables_assuming_independance(Xs,outcomes_iterator,outcome_probability)\n",
    "\n",
    "            for (x,y) in real_XY_distribution:\n",
    "                if real_XY_distribution[x,y] != XY_distribution_assuming_independance[x,y]:\n",
    "                    return False\n",
    "            return True\n"
   ]
  },
  {
   "cell_type": "code",
   "execution_count": 58,
   "metadata": {},
   "outputs": [
    {
     "name": "stdout",
     "output_type": "stream",
     "text": [
      "independance of X and Y : True\n",
      "independance of X and Z : False\n"
     ]
    }
   ],
   "source": [
    "print(f'independance of X and Y : {are_variables_independant([X,Y],outcomes_iterator,outcome_probability)}')\n",
    "print(f'independance of X and Z : {are_variables_independant([X,Z],outcomes_iterator,outcome_probability)}')\n",
    "# print(f'independance of X, Y and Z : {are_variables_independant([X,Y,Z],outcomes_iterator,outcome_probability)}')"
   ]
  },
  {
   "cell_type": "markdown",
   "metadata": {},
   "source": [
    "TODO 1.12: (Optionnel) Étudiez empiriquement les conditions sur les triplets $(a,b,d)$ et $(e,f,g)$ pour l'indépendance de $X_{a,b,c}$ et $X_{e,f,g}$ définie sur un espace de probabilité (\"uniforme\") des $N$ entiers $\\{0,\\ldots, N-1\\}$. Pouvez vous prouver certaines de vos conjectures ?"
   ]
  },
  {
   "cell_type": "markdown",
   "metadata": {},
   "source": [
    "## 2. Tableaux de contingence"
   ]
  },
  {
   "cell_type": "markdown",
   "metadata": {},
   "source": [
    "Soit $X$ une variable aléatoire à valeur dans $\\{0,\\ldots n-1\\}$ par exemple $X_{a,b,n}$ et $Y$ une variable aléatoire à valeur dans $\\{0,\\ldots m-1\\}$, par exemple $X_{c,d,m}$.\n",
    "\n",
    "A partir de la variable jointe $(X,Y)$ et de $k$ réalisations nous allons construire son __tableau de contingence__ qui est une matrice $T:= (T_{i,j})_{i=0,\\ldots n, j=0,\\ldots m}$ où:\n",
    "- pour $i < n$ et $j < m$, $T_{i,j}$ est le nombre de réalisations/tirages de $(X(\\omega)=i,Y(\\omega)=j)$.\n",
    "- pour $i < n$ et $j = m$, $T_{i,m} := \\sum_{j=0}^{m-1} T_{i,j}$ la somme partielle sur la colonne $i$.\n",
    "- pour $i = n$ et $j = n$, $T_{n,j} := \\sum_{i=0}^{n-1} T_{i,j}$ la somme partielle sur la ligne $j$.\n",
    "- $T_{n,m} = K = \\sum_{i<n,j<m} T_{i,j}$ le nombre de tirages."
   ]
  },
  {
   "cell_type": "markdown",
   "metadata": {},
   "source": [
    "### 2.1 Simulation de la collecte de données"
   ]
  },
  {
   "cell_type": "markdown",
   "metadata": {},
   "source": [
    "Oublions un instant la construction des variables aléatoires de la partie précédente et construisons un générateur pour deux variables jointes $(X,Y)$ dont nous précisons la valeur maximale pour chaque variable ici $1$ pour les deux."
   ]
  },
  {
   "cell_type": "code",
   "execution_count": 34,
   "metadata": {},
   "outputs": [],
   "source": [
    "def XY():\n",
    "    p = {(0,0): 0.4, (0,1):0.2, (1,0):0.3, (1,1):0.1}\n",
    "    r = random.random()\n",
    "    for xy in p:\n",
    "        if p[xy] >= r:\n",
    "            return xy\n",
    "        r -= p[xy]\n",
    "    assert(False)\n",
    "    \n",
    "maxX = 1\n",
    "maxY = 1"
   ]
  },
  {
   "cell_type": "markdown",
   "metadata": {},
   "source": [
    "Remarquez qu'il est possible d'obtenir le même résultat:"
   ]
  },
  {
   "cell_type": "code",
   "execution_count": 35,
   "metadata": {},
   "outputs": [],
   "source": [
    "def XY_from_omega(omega:int):\n",
    "    if 0 <= omega < 8:\n",
    "        return (0,0)\n",
    "    elif omega < 12:\n",
    "        return (0,1)\n",
    "    elif omega < 18:\n",
    "        return (1,0)\n",
    "    elif omega < 20:\n",
    "        return (1,1)\n",
    "    assert(False)\n",
    "    \n",
    "def alt_XY():\n",
    "    global generate_outcome\n",
    "    return XY_from_omega(generate_outcome)"
   ]
  },
  {
   "cell_type": "markdown",
   "metadata": {},
   "source": [
    "TODO 2.1: Complétez la fonction __simulate_X_and_Y_for_tableau__, remplissez un tableau après 9 tirages selon __XY__ et afficher le avec __print_tableau__."
   ]
  },
  {
   "cell_type": "code",
   "execution_count": 36,
   "metadata": {},
   "outputs": [],
   "source": [
    "def build_tableau_from_data(xys:List[Tuple[int]],maxX:int,maxY:int):\n",
    "    tableau = {(x,y):0 for x in range(maxX + 2) for y in range(maxY+2)}\n",
    "    for (x,y) in xys:\n",
    "        for(xx,yy) in [(x,y),(x,maxY+1),(maxX+1,y),(maxX+1,maxY+1)]:\n",
    "            tableau[(xx,yy)] += 1\n",
    "    return tableau\n",
    "\n",
    "\n",
    "def simulate_X_and_Y_for_tableau(XY:Callable[[],Tuple[int]],maxX:int,maxY:int,nb_tosses:int)-> Dict:\n",
    "    xys = [XY() for _ in range(nb_tosses)]\n",
    "    return build_tableau_from_data(xys,maxX,maxY)\n",
    "\n",
    "\n",
    "def print_tableau(tableau:Dict)->None:\n",
    "    (xs,ys) = ([ x for (x,_) in tableau],[ y for (y,_) in tableau])\n",
    "    (maxX,maxY) = (max(xs),max(ys))\n",
    "    print('<tableau>')\n",
    "    for y in range(maxY+1):\n",
    "        row = ''\n",
    "        for x in range(maxX+1):\n",
    "            if tableau[(x,y)] < 10: # XXX\n",
    "                row += f'[ {tableau[(x,y)]}]'\n",
    "            else:\n",
    "                row += f'[{tableau[(x,y)]}]'\n",
    "        print(row)\n",
    "    print('</tableau>')\n",
    "        \n",
    "    "
   ]
  },
  {
   "cell_type": "code",
   "execution_count": 37,
   "metadata": {},
   "outputs": [
    {
     "name": "stdout",
     "output_type": "stream",
     "text": [
      "<tableau>\n",
      "[ 3][ 1][ 4]\n",
      "[ 2][ 0][ 2]\n",
      "[ 5][ 1][ 6]\n",
      "</tableau>\n"
     ]
    }
   ],
   "source": [
    "nb_tosses = 6\n",
    "\n",
    "tableau = simulate_X_and_Y_for_tableau(XY,maxX,maxY,nb_tosses)\n",
    "\n",
    "print_tableau(tableau)"
   ]
  },
  {
   "cell_type": "markdown",
   "metadata": {},
   "source": [
    "### 2.2 Enumération et $p$-value pour le test de Fisher sur des tableaux $2 \\times 2$.\n"
   ]
  },
  {
   "cell_type": "markdown",
   "metadata": {},
   "source": [
    "Nous représentons les tableaux de contingence par des dictionnaires.\n",
    "Pour l'instant nous supposons que $n=2=m$."
   ]
  },
  {
   "cell_type": "markdown",
   "metadata": {},
   "source": [
    "TODO 2.2 : Etant donné un tableau de contingence lister les tableaux qui ont les même marginables empiriques qu'un tableau donné dans la fonction __list_all_2x2_tableaux_with_same_marginals__."
   ]
  },
  {
   "cell_type": "code",
   "execution_count": 38,
   "metadata": {},
   "outputs": [],
   "source": [
    "import copy\n",
    "\n",
    "def list_all_2x2_tableaux_with_same_marginals(tableau:Dict):\n",
    "    tableaux = [copy.deepcopy(tableau)]\n",
    "    while min([tableaux[0][(0,0)],tableaux[0][(1,1)]]) > 0:\n",
    "        new_tableau = copy.deepcopy(tableaux[0])\n",
    "        new_tableau[(0,0)] -= 1\n",
    "        new_tableau[(1,1)] -= 1\n",
    "        new_tableau[(1,0)] += 1\n",
    "        new_tableau[(0,1)] += 1\n",
    "        tableaux.insert(0,new_tableau)\n",
    "    while min([tableaux[-1][(1,0)],tableaux[-1][(0,1)]]) > 0:\n",
    "        new_tableau = copy.deepcopy(tableaux[-1])\n",
    "        new_tableau[(0,0)] += 1\n",
    "        new_tableau[(1,1)] += 1\n",
    "        new_tableau[(1,0)] -= 1\n",
    "        new_tableau[(0,1)] -= 1\n",
    "        tableaux += [new_tableau]\n",
    "    return tableaux"
   ]
  },
  {
   "cell_type": "code",
   "execution_count": 39,
   "metadata": {},
   "outputs": [
    {
     "name": "stdout",
     "output_type": "stream",
     "text": [
      "<tableau>\n",
      "[ 3][ 1][ 4]\n",
      "[ 2][ 0][ 2]\n",
      "[ 5][ 1][ 6]\n",
      "</tableau>\n",
      "<tableau>\n",
      "[ 4][ 0][ 4]\n",
      "[ 1][ 1][ 2]\n",
      "[ 5][ 1][ 6]\n",
      "</tableau>\n"
     ]
    }
   ],
   "source": [
    "all_tableaux = list_all_2x2_tableaux_with_same_marginals(tableau)\n",
    "for t in all_tableaux:\n",
    "    print_tableau(t)"
   ]
  },
  {
   "cell_type": "markdown",
   "metadata": {},
   "source": [
    "TODO 2.3: Compléter la fonction qui sous hypothèse que les marginales soient conservé et que les deux variables soient indépendante retire les paires $(x,y)$. (Explications complémentaires au tableau sur pourquoi cela se réduit à l'exploration d'une permutation et pas d'une paire de permutations)"
   ]
  },
  {
   "cell_type": "code",
   "execution_count": 60,
   "metadata": {},
   "outputs": [],
   "source": [
    "def hash_tableau(tableau:Dict)->Tuple[Tuple[int]]:\n",
    "    n = max([x for (x,_) in tableau])\n",
    "    m = max([y for (_,y) in tableau])\n",
    "    return tuple([ tuple([ tableau[x,y] for x in range(n+1)]) for y in range(m+1)])\n",
    "\n",
    "def dehash_tableau(hashed_tableau:Tuple[Tuple[int]]):\n",
    "    n = len(hashed_tableau[0])\n",
    "    m = len(hashed_tableau)\n",
    "    return { (x,y): hashed_tableau[y][x] for x in range(n) for y in range(m)}\n",
    "    \n",
    "def canonical_box_of_balls_from_distribution(distribution):\n",
    "    balls = []\n",
    "    for z in range(len(distribution)):\n",
    "        balls += distribution[z]*[z]\n",
    "    return balls\n",
    "    \n",
    "def all_resamplings_of_tableau(tableau:Dict)->Dict:\n",
    "    n = max([x for (x,_) in tableau])\n",
    "    m = max([y for (_,y) in tableau])\n",
    "    k = tableau[n,m]\n",
    "    X_marginal_distribution = tuple([tableau[x,m] for x in range(n)])\n",
    "    X_box_of_balls = canonical_box_of_balls_from_distribution(X_marginal_distribution)\n",
    "    Y_marginal_distribution = tuple([tableau[n,y] for y in range(m)])\n",
    "    Y_box_of_balls = canonical_box_of_balls_from_distribution(Y_marginal_distribution)\n",
    "    permutations_per_tableau = {}\n",
    "    for a_ball_permutation in itertools.permutations(range(k)):\n",
    "        xys = [(X_box_of_balls[i],Y_box_of_balls[a_ball_permutation[i]]) for i in range(k)]\n",
    "        its_tableau = build_tableau_from_data(xys,n-1,m-1)\n",
    "        its_hashed_tableau = hash_tableau(its_tableau)\n",
    "        if (its_hashed_tableau not in permutations_per_tableau):\n",
    "            print_tableau(its_tableau)\n",
    "            permutations_per_tableau[its_hashed_tableau] = []\n",
    "        permutations_per_tableau[its_hashed_tableau] += [a_ball_permutation]\n",
    "        return permutations_per_tableau\n",
    "        "
   ]
  },
  {
   "cell_type": "code",
   "execution_count": 62,
   "metadata": {},
   "outputs": [
    {
     "name": "stdout",
     "output_type": "stream",
     "text": [
      "<tableau>\n",
      "[ 4][ 0][ 4]\n",
      "[ 1][ 1][ 2]\n",
      "[ 5][ 1][ 6]\n",
      "</tableau>\n",
      "<tableau>\n",
      "[ 4][ 0][ 4]\n",
      "[ 1][ 1][ 2]\n",
      "[ 5][ 1][ 6]\n",
      "</tableau>\n",
      "nb permutation 1\n"
     ]
    }
   ],
   "source": [
    "permutations_per_tableau = all_resamplings_of_tableau(tableau)\n",
    "for t in permutations_per_tableau:\n",
    "    print_tableau(dehash_tableau(t))\n",
    "    print(f'nb permutation {len(permutations_per_tableau[t])}')"
   ]
  },
  {
   "cell_type": "markdown",
   "metadata": {},
   "source": [
    "TODO 2.4: Notez la preuve au tableau de la formule de Fisher pour les tableau $2 \\times 2$ et $3 \\times 3$."
   ]
  },
  {
   "cell_type": "markdown",
   "metadata": {},
   "source": [
    "Soit deux variables X et Y admettant deux états S1 et S2 différents chacune:\n",
    "\n",
    "    |  X    |Y      |total  |\n",
    "    |-------|-------|-------|\n",
    "    |n      |m      |  m+n  |\n",
    "    |-------|-------|-------|\n",
    "    |p      |q      |  p+q  |\n",
    "    |-------|-------|-------|\n",
    "    |n+p    |m+q    |n+m+p+q|\n",
    "\n",
    "    Si X et Y sont indépendant alors la probabilité d'avoir P(X=m,Y=n) = P(X=m).P(Y=n) -> On peut calculer la probabilité de chaque cas pour X et Y pour calculer la probabilité d'observer le tableau de contingence donné.\n",
    "    On calcule pour tout tableau de contingence la probabilité de l'observer.\n",
    "    p-value = somme des probabilités associés à chaque tableau au moins aussi probable que le tableau étudié.\n",
    "\n",
    "la probabilité de la configuration: $P = \\frac{(m+n)!(p+q)!(n+p)!(m+q)!}{n!m!p!q!}$\n"
   ]
  },
  {
   "cell_type": "markdown",
   "metadata": {},
   "source": [
    "TODO 2.5: Pour un tableau, compléter le calcul de sa probabilité sous l'hypothèse de Fisher pour le test d'indépendance."
   ]
  },
  {
   "cell_type": "code",
   "execution_count": 63,
   "metadata": {},
   "outputs": [],
   "source": [
    "import math\n",
    "\n",
    "def probability_of_a_tableau(tableau:Dict)->fractions.Fraction:\n",
    "    n = max([x for (x, _) in tableau])\n",
    "    m = max([y for (_, y) in tableau])\n",
    "    p = 1\n",
    "    for (x, y) in tableau :\n",
    "        if (x < n and y < m) or (x == n and y == m) :\n",
    "            p /= math.factorial(tableau[(x, y)])\n",
    "        else :\n",
    "            p *= math.factorial(tableau[(x, y)])\n",
    "    return p"
   ]
  },
  {
   "cell_type": "code",
   "execution_count": 64,
   "metadata": {},
   "outputs": [
    {
     "name": "stdout",
     "output_type": "stream",
     "text": [
      "<tableau>\n",
      "[ 3][ 1][ 4]\n",
      "[ 2][ 0][ 2]\n",
      "[ 5][ 1][ 6]\n",
      "</tableau>\n",
      "its probability 0.6666666666666666\n",
      "<tableau>\n",
      "[ 4][ 0][ 4]\n",
      "[ 1][ 1][ 2]\n",
      "[ 5][ 1][ 6]\n",
      "</tableau>\n",
      "its probability 0.3333333333333333\n"
     ]
    }
   ],
   "source": [
    "for t in all_tableaux:\n",
    "    print_tableau(t)\n",
    "    print(f'its probability {probability_of_a_tableau(t)}')"
   ]
  },
  {
   "cell_type": "markdown",
   "metadata": {},
   "source": [
    "TODO 2.6: Calculez la $p$-value de chaque tableau comme la somme des probabilités des tableaux au moins aussi peut probables que le tableau considéré."
   ]
  },
  {
   "cell_type": "code",
   "execution_count": 65,
   "metadata": {},
   "outputs": [],
   "source": [
    "def p_value_of_tableau(tableau):\n",
    "    tableaux = list_all_2x2_tableaux_with_same_marginals(tableau)\n",
    "    probabilities = [probability_of_a_tableau(t) for t in tableaux]\n",
    "    threshold_probability = probabilities[tableaux.index(tableau)]\n",
    "    return sum([p for p in probabilities if p <= threshold_probability])"
   ]
  },
  {
   "cell_type": "code",
   "execution_count": 66,
   "metadata": {},
   "outputs": [
    {
     "name": "stdout",
     "output_type": "stream",
     "text": [
      "<tableau>\n",
      "[ 3][ 1][ 4]\n",
      "[ 2][ 0][ 2]\n",
      "[ 5][ 1][ 6]\n",
      "</tableau>\n",
      "p-value 1.0\n",
      "<tableau>\n",
      "[ 4][ 0][ 4]\n",
      "[ 1][ 1][ 2]\n",
      "[ 5][ 1][ 6]\n",
      "</tableau>\n",
      "p-value 0.3333333333333333\n"
     ]
    }
   ],
   "source": [
    "for t in all_tableaux:\n",
    "    print_tableau(t)\n",
    "    print(f'p-value {p_value_of_tableau(t)}')"
   ]
  },
  {
   "cell_type": "markdown",
   "metadata": {},
   "source": [
    "### 2.3 Généralisation aux tables $n \\times n$"
   ]
  },
  {
   "cell_type": "markdown",
   "metadata": {},
   "source": [
    "Le cas des matrices $2 \\times 2$ est le plus petit, nous souhaitons étudiez sa généralisation au cas $n \\times m$."
   ]
  },
  {
   "cell_type": "markdown",
   "metadata": {},
   "source": [
    "Une hypothèse forte sur les tables de contingence est que les lois marginales sont déterminée par la table.\n",
    "Donc les autres tables possibles doivent avoir les même sommes sur les lignes et les colonnes.\n",
    "Nous allons étudier la possibilité de naviguer dans les tables de contingence possibles sous $H_0$ à l'aide de l'addition de sous-tables $2 \\times 2$ sur les données (et non les sommes partielles) de la forme soit:\n",
    "$$R_{i,j}^+:= \\left(\\begin{array}{cc} \n",
    "1 & -1 \\\\\n",
    "-1 & 1 \\\\\n",
    "\\end{array}\\right) \\mbox{ et } \n",
    "R_{i,j}^-:= \\left(\\begin{array}{cc} \n",
    "-1 & 1 \\\\\n",
    "1 & -1 \\\\\n",
    "\\end{array}\\right)\n",
    "$$\n",
    "et appliqué sur les cases $(i,j),(i+1,j),(i,j+1),(i+1,j+1)$ de la partie donnée de la table de contingence."
   ]
  },
  {
   "cell_type": "markdown",
   "metadata": {},
   "source": [
    "TODO 2.7: Combien de matrice $R^+_{i,j}$ existe t il ? Cela coincide ici avec le degré de liberté $k$ du futur test d'indépendance du $\\chi^2$. Notez la formule générale de Fisher pour évaluer sous $H_0$ la probabilité d'une table de contingence. "
   ]
  },
  {
   "cell_type": "markdown",
   "metadata": {},
   "source": [
    "Supposons disposer d'une table de contingence, par exemple les données que nous avons collectée. Nous souhaitons explorer toute les tables vérifiant les même sommes partielles en déclarant deux tables voisines si elle ne diffère que par une addition de sous-table $R^+_{i,j}$ ou $R^-_{i,j}$. Nous allons alors calculer un graphe explorant toutes les tables connexes par ces opérations.   \n",
    "\n",
    "Une table de contingence est un tuple de tuple pour être \"hashable\"."
   ]
  },
  {
   "cell_type": "code",
   "execution_count": 67,
   "metadata": {},
   "outputs": [],
   "source": [
    "import networkx # graph library\n",
    "\n",
    "def convert_dict_to_table(d):\n",
    "    n = max([ p[0] for p in d])+1\n",
    "    m = max([ p[1] for p in d])+1\n",
    "    return tuple([ tuple([ d[(x,y)] for y in range(m)]) for x in range(n)])\n",
    "\n",
    "\n",
    "def convert_table_to_dict(table):\n",
    "    n = len(table)\n",
    "    m = len(table[0])\n",
    "    return { (x,y): table[x][y] for x in range(n) for y in range(m)}\n",
    "    \n",
    "def generate_random_table(n:int, m:int, total:int)->Tuple[Tuple[int]]:\n",
    "    d = { (x,y) : 0 for x in range(n) for y in range(m)}\n",
    "    for _ in range(total):\n",
    "        x = random.randint(0,n-1)\n",
    "        y = random.randint(0,m-1)\n",
    "        d[(x,y)] += 1\n",
    "    return convert_dict_to_table(d)\n"
   ]
  },
  {
   "cell_type": "code",
   "execution_count": 68,
   "metadata": {},
   "outputs": [
    {
     "data": {
      "text/plain": [
       "((0, 0, 1), (4, 2, 3))"
      ]
     },
     "execution_count": 68,
     "metadata": {},
     "output_type": "execute_result"
    }
   ],
   "source": [
    "generate_random_table(2,3,10)"
   ]
  },
  {
   "cell_type": "markdown",
   "metadata": {},
   "source": [
    "TODO 2.8: Complétez la fonction applicant une transformation $R_{i,j}^pm$ à un tableau puis celle construisant de graphe des tableaux."
   ]
  },
  {
   "cell_type": "code",
   "execution_count": 70,
   "metadata": {},
   "outputs": [],
   "source": [
    "def apply_R_on_table(i:int,j:int,sign:int,table:Tuple[Tuple[int]])->(bool,Tuple[Tuple[int]]):\n",
    "    d = convert_table_to_dict(table)\n",
    "    d[i,j] += sign\n",
    "    d[i+1,j] -= sign\n",
    "    d[i,j+1] -= sign\n",
    "    d[i+1,j+1] += sign\n",
    "    result_table = convert_dict_to_table(d)\n",
    "    if d[i,j] < 0 or d[i+1,j] < 0 or d[i,j+1] < 0 or d[i+1,j+1] < 0:\n",
    "        return (False,None)\n",
    "    return (True,convert_dict_to_table(d))\n",
    "\n",
    "def graph_of_table(table:Tuple[Tuple[int]])->networkx.Graph:\n",
    "    n = len(table)\n",
    "    m = len(table[0])\n",
    "    graph = networkx.Graph()\n",
    "    unexplored_tables = [table]\n",
    "    graph.add_node(table)\n",
    "    while unexplored_tables != []:\n",
    "        explored_table = unexplored_tables.pop()\n",
    "        for i in range(n-1):\n",
    "            for j in range(m-1):\n",
    "                for sign in [-1,1]:\n",
    "                    (does_exist, neighbor_table) = apply_R_on_table(i,j,sign,explored_table)\n",
    "                    if does_exist:\n",
    "                        if not neighbor_table in graph.nodes():\n",
    "                            unexplored_tables += [neighbor_table]\n",
    "                            graph.add_node(neighbor_table)\n",
    "                            graph.add_edge(explored_table,neighbor_table)\n",
    "                        elif neighbor_table in unexplored_tables:\n",
    "                            graph.add_edge(explored_table,neighbor_table)\n",
    "                        else:\n",
    "                            pass\n",
    "    return graph\n"
   ]
  },
  {
   "cell_type": "code",
   "execution_count": 73,
   "metadata": {},
   "outputs": [
    {
     "data": {
      "image/png": "[encoded data removed]",
      "text/plain": [
       "<Figure size 640x480 with 1 Axes>"
      ]
     },
     "metadata": {},
     "output_type": "display_data"
    }
   ],
   "source": [
    "import matplotlib.pyplot as plt\n",
    "random_table = generate_random_table(2,3,15)\n",
    "graph = graph_of_table(random_table)\n",
    "layout = networkx.spring_layout(graph)\n",
    "networkx.draw(graph,pos=layout)\n",
    "plt.show()"
   ]
  },
  {
   "cell_type": "markdown",
   "metadata": {},
   "source": [
    "### 2.4 Expérimentation du test exact de Fisher vers le test approximative du $\\chi^2$."
   ]
  },
  {
   "cell_type": "markdown",
   "metadata": {},
   "source": [
    "TO BE CONTINUED"
   ]
  },
  {
   "cell_type": "code",
   "execution_count": null,
   "metadata": {},
   "outputs": [],
   "source": []
  }
 ],
 "metadata": {
  "kernelspec": {
   "display_name": "Python 3.10.2 64-bit",
   "language": "python",
   "name": "python3"
  },
  "language_info": {
   "codemirror_mode": {
    "name": "ipython",
    "version": 3
   },
   "file_extension": ".py",
   "mimetype": "text/x-python",
   "name": "python",
   "nbconvert_exporter": "python",
   "pygments_lexer": "ipython3",
   "version": "3.10.2"
  },
  "vscode": {
   "interpreter": {
    "hash": "97ee55dfb33b9927a622f5c9bd96b1a91655453cc031e550b25fc9030a8478a2"
   }
  }
 },
 "nbformat": 4,
 "nbformat_minor": 2
}
