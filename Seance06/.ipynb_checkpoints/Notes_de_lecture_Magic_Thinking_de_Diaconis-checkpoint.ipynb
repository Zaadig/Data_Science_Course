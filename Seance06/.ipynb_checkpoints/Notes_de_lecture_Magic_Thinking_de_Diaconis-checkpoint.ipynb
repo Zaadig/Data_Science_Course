{
 "cells": [
  {
   "cell_type": "markdown",
   "metadata": {},
   "source": [
    "# Notes de lecture de Theories of data analysis from magical through classical statistics de Diaconis (1985)"
   ]
  },
  {
   "cell_type": "markdown",
   "metadata": {},
   "source": [
    "L'article (en anglais) semble disponible sur une sauvergade de la page web de l'auteur:\n",
    "https://statweb.stanford.edu/~cgates/PERSI/papers/magicalthinking.pdf"
   ]
  },
  {
   "cell_type": "markdown",
   "metadata": {},
   "source": [
    "##  Introduction\n",
    "\n",
    "L'analyse de données exploratoire consiste à trouver des structures ou des descriptions simples dans des données.\n",
    "Nous regardons des nombres ou des graphiques et essayons de trouver des régularités.\n",
    "Notre quête s'appuie sur des informations sur le context, notre imagination, notre perception de régularités, et notre expérience sur d'autres analyses de données."
   ]
  },
  {
   "cell_type": "markdown",
   "metadata": {},
   "source": [
    "### Pensée magique.\n",
    "\n",
    "Pensée magique = notre tendance à interpréter des faits pour leur donner une cohérence à la difficulté à remettre en cause cette vision même lorsque de nouveaux faits les remettent en cause.\n",
    "\n",
    "=> Culte du Cargo (sur des iles du Vanuatu)\n",
    "\n",
    "Nous aussi: lancer une pièce de bias 0.7 pour face et prédire le plus souvent possible le résultat. En pratique, même après une centaines de tirage, les sujets trouvent plein de théories expliquant les résultat, et ne convergent pas vers la meilleur stratégie. \n",
    "\n",
    "=> Les techniques de l'analyse de données exploratoire sont à un certains extrème de cet ordre pour révéler des régularités dans les données.\n",
    "Après la divination, il faut savoir si la régularité s'interprète dans le langage du modèle initial générant les données pour voir s'il peut y faire sens, sinon nous tombons dans la possibilité de la pensée magique.\n",
    "\n",
    "Ce n'est pas une erreur, ni inutile de faire de l'exploration de données, l'objet est d'en faire des hypothèses de travail ce qui est un précieux ingrédient du progrès scientifique."
   ]
  },
  {
   "cell_type": "markdown",
   "metadata": {},
   "source": [
    "### Statistiques mathématiques classiques\n",
    "\n",
    "En théorie, avant de voir les données, l'analyste pose son modèle et ses hypothèses.\n",
    "Ensuite il calcule des estimations et fait des tests de ses hypothèses.\n",
    "Cela semble un bon antidote contre la pensée magique.\n",
    "\n",
    "Cependant, en pratique, l'analyste confronté à une base de données ne procède pas ainsi et la démarche théorique lui parait comme un rituel bien primitif.\n",
    "\n",
    "\n",
    "Il y a donc une sorte de conciliation des deux mondes: intuiter le modèle et les hypothèses parfois par une inspection (d'une partie) des données  puis les confirmer par la partie théorique. \n",
    "Dans cette démarche ambigue il faut garder à l'esprit les deux origines de la démarche (la pensée magique et le rituel primitif pour les renvoyer dos à dos). \n",
    "\n",
    "\n",
    "Expérience du statisticien: \"Le F-test est toujours significatif sur ce type de problème, il n'y a pas à s'en exciter. Ce sont les tailles relatives pour les t tests des contrastes que tu dois regarder.\"\n",
    "Les erreurs standard et p-values ne sont plus que des moyens de communication, qu'il est important d'étudier pour leur valeur. \n",
    "Un des rôle du statisticien, une fois qu'il a abandonné sa volonté d'être un décideur est de permettre à diverses communautés (médecine, agriculture, ...) de comprendre leurs résultats respectifs sur leurs sujets et modèles.\n",
    "Les aspects qualitatifs de l'étude statistique doivent être jugées par les experts du domaine.\n",
    "\n",
    "Parfois les statistiques mathématiques facilites la pensée magique: la \"personne qui a des données\" voit le \"statisticien\" comme quelqu'un qui va lui donner des réponses et lever les incertitudes, comme l'homme tribal consulte son shaman pour qu'il fasse des rituels éloignant la maladie."
   ]
  },
  {
   "cell_type": "markdown",
   "metadata": {},
   "source": [
    "### La pensée scientifique\n",
    "\n",
    "Les gens ont différents points de vue sur la science.\n",
    "\n",
    "\n",
    "A un extrème : est ce une structure magnifique pour l'éternité constituée de fait irréfutables ?\n",
    "Khun (1970) dit que les revolutions scientifiques revisite cette structure et certains problèmes et erreurs sont oubliés.\n",
    "\n",
    "\n",
    "A l'autre extrème, Feyerabend (1978) dit qu'il n' y a pas de rationalité cannonique ou d'ensemble à privilégier de bonnes raisons.\n",
    "C'est un peu excessif, la science a montrer qu'elle faisait de bons pas en faisant le tri.\n",
    "Il faut garder de cet extrème la possibilité de tout remettre en cause, même si ensuite cela doit être étayé.\n",
    "\n",
    "Tukey : Toutes les lois de la physiques sont fausses à un certains niveau de précision mais beaucoup d'entre elles sont d'extrèmement bonnes approximations.\n",
    "\n",
    "Dans la plupart des sciences, la collecte de nouvelles données est possible et utile.\n",
    "\n",
    "La science avance en combinant l'exploration associé aux tentatives de confirmation.\n",
    "La reproductibilité, par des expérimentateurs ou obsevateurs, s'appuyant sur la collecte de données indépendantes est la frontière entre la science et\n",
    " la pensée magique même si les deux s'appuie beaucoup sur l'exploration.\n",
    "\n",
    "La plupart des sciences sont qualifiées, toujours par John Tukey d'\"inconfortable\" car la vraie reproductibilité n'est pas possible ou utile. \n",
    "Par exemple, la géologie, la macroéconomie (crise de 1929, en 1985), l'astronomie. \n",
    "\n",
    "La pensée scientifique en science inconfortable est délicate, elle s'appuie souvent sur des parallèles entre des situations jugées parallèles au moins\n",
    " sous certains aspects spécifiques.\n",
    "Ainsi, une nouvelle interprétation des même données peuvent avoir un grand impact sur ce type de science."
   ]
  },
  {
   "cell_type": "markdown",
   "metadata": {},
   "source": [
    "### Résumé du chapitre\n",
    "\n",
    "La suite de ce texte examine des théories de l'analyse de données entre les deux extrèmes que sont les statistiques mathématiques et la pensée magique.\n",
    "Il propose donc :\n",
    "\n",
    "- un survol du travail empirique avec des statistics intuitives, proposant des remèdes pour les problèmes les plus communs,\n",
    "\n",
    "- un survol partiel des méthodes spécifiques à l'analyse de données exploratoire, discutant ensuite de la place des mathématiques dans ces méthodes.\n",
    "\n",
    "Il concluera par une importance de l'analyse exploratoire et argumente pour une forme controlée de pensée magique."
   ]
  },
  {
   "cell_type": "markdown",
   "metadata": {},
   "source": [
    "## 1.A Statistiques intuitives - Quelques problèmes d'inférence\n",
    "\n",
    "Les compétences, le contexte et les biais d'un analyste de donnée peuvent influencer les conclusions au sujet d'un jeu de données.\n",
    "Les gens peuvent imaginer des régularités dans les données.\n",
    "Les fluctuations des échantillons peuvent produire une apparence de structure.\n",
    "Sans un rituel standardisé, différents analystes peuvent aboutir à différentes conclusion en partant des même faits.\n",
    "\n",
    "Cette section survole des études qui quantifie ces déclarations."
   ]
  },
  {
   "cell_type": "markdown",
   "metadata": {},
   "source": [
    "### Dessiner des nuages de points\n",
    "\n",
    "Un nuage de points à une échelle plus petite donc dans un espace plus confinée suggère plus d'association entre les deux coordonnées des points.\n",
    "(même pour les même nuages de points et ce aussi bien pour les statisticiens que les autres scientifiques).\n",
    "Empiriquement, sur des cobayes, le cadrage des nuages de points à une influence de l'ordre de 10 à 15% sur le lecteur quant à l'association des deux coordonnées."
   ]
  },
  {
   "cell_type": "markdown",
   "metadata": {},
   "source": [
    "### Effet d'ancrage et biais de l'expérimentateur\n",
    "\n",
    "Quelques exemples où les préjugés de l'expérimentateur affecte l'inférence sur les données."
   ]
  },
  {
   "cell_type": "markdown",
   "metadata": {},
   "source": [
    "#### Ancrage par la roulette\n",
    "\n",
    "Considérons l'expérience suivante:\n",
    "\n",
    "- Les cobayes devaient estimer des pourcentages (donc entre 0 et 100), par exemple la proportion de pays africains parmi les pays aux nations unis.\n",
    "\n",
    "- Avant de donner leur réponse, on faisait tourner une roue devant eux donnant un résultat entre 0 et 100. Les cobayes devaient dire si leur réponse envisagée était au moins la valeur du résultat de la roue.\n",
    "\n",
    "- Ensuite, les cobayes donnaient leur réponse en indiquant la différence avec le résultat de la roue.\n",
    "\n",
    "Le résultat aléatoire a eu une influence sur la réponse des cobayes.\n",
    "\n",
    "Sur l'exemple des pays africains, pour une roue donnant 10, la valeur médiane des réponses était 25 alors que pour une roue donnant 65, la valeur médiane des réponses était 45.  "
   ]
  },
  {
   "cell_type": "markdown",
   "metadata": {},
   "source": [
    "#### Définition de l'ancrage\n",
    "\n",
    "Le phénomène d'ancrage signifie qu'une données aléatoire initiale peut modifier la réponse.\n",
    "Autrement dit, lorsque les gens ont une théorie avant de recontrer les faits, c'est la théorie qui prime.\n",
    "Des études suggère que de nouveaux faits auront du mal à remettre en cause cette théorie initiale."
   ]
  },
  {
   "cell_type": "markdown",
   "metadata": {},
   "source": [
    "#### Bias de confirmation ? \n",
    "\n",
    "Une expérience sur des étudiants de Standford.\n",
    "\n",
    "- Chaque étudiant indique si il pense que la peine de mort est dissuasive.\n",
    "\n",
    "- On propose à chaque étudiant une étude démontrant qu'elle est dissuasive et une autre démontrant le contraire.\n",
    "\n",
    "Les étudiants ont tendance à trouver les études supportant leur opinion initiale, \"plus convaincante\" et \"mieux conduite\" que l'autre.  \n",
    "Après la lecture des deux études présentant des faits, leur opinion initiale était renforcée."
   ]
  },
  {
   "cell_type": "markdown",
   "metadata": {},
   "source": [
    "#### La \"loi des petits nombres\"\n",
    "\n",
    "Même les statisticiens expérimentés trouve plus représentatif qu'il ne devrait une sélection aléatoire de membre d'une population.\n",
    "Les gens ne font pas très attention à la taille de l'échantillon et la différence entre un échantillon aléatoire et un autre sélectionné pour prouver quelque chose ne leur semble pas important."
   ]
  },
  {
   "cell_type": "markdown",
   "metadata": {},
   "source": [
    "### Disponibilité et représentativité\n",
    "\n",
    "En plus de montrer les abbérations précédentes, les psychologues en ont proposé des explications s'appuyant sur des heuristiques qui semblent naturelles.       \n",
    "\n",
    "- Pour l'heuristique de disponibilité: Lorsqu'on présente une liste de personnalité des deux sexes, les gens surestiment la proportion du sexe des personnalités les plus célèbres.\n",
    "\n",
    "- Pour l'heuristique de représentativité: nous associons plus de poids à un échantillon selon sa ressemblance à la population. Par exemple, si on demande à des cobayes de classer du plus fréquent au moins fréquent les ordres de naissance de filles (F) et garçons (G) dans une maternité:\n",
    "    + (1) GGGGGG\n",
    "    + (2) FGGFFG\n",
    "    + (3) FFFGGG\n",
    "\n",
    "    ont obtient en général fréquence(2) > fréquence(3) > fréquence(1).\n",
    "\n",
    "    En fait, comme il y a légèrement plus de naissances de garçons que de fille fréquence(1) > fréquence(3)=fréquence(2).\n",
    "    Mais (2) corresponds le plus à l'image que l'on se fait d'une suite aléatoire."
   ]
  },
  {
   "cell_type": "markdown",
   "metadata": {},
   "source": [
    "### Encore de la pensée magique\n",
    "\n",
    "La différence entre la pensée et la pensée magique est dans le changement de croyance après une expérience.\n",
    "Si une théorie ou une expérience ne peut pas être répliquée, elle doit être rejetée.\n",
    "Les faits psychologiques que nous venons d'énoncer montre qu'apprendre de son expérience peut être très difficile.\n",
    "Des cobayes avec des années d'entrainement aux statistiques (comme l'auteur) se trompent souvent de la même manière que des débutants. \n",
    "C'est particulièrement le cas si le problème vient de situation de la vie réelle."
   ]
  },
  {
   "cell_type": "markdown",
   "metadata": {},
   "source": [
    "#### Exemples d'analyse de données\n",
    "\n",
    "Les expériences de psychologie peuvent semblées un peu trop éloigner du travail de l'analyste pour que de tels biais s'expriment.\n",
    "Voici des exemples importants d'analyse où les erreurs se manifestent."
   ]
  },
  {
   "cell_type": "markdown",
   "metadata": {},
   "source": [
    "##### Essai de médicaments sans observation controlée.\n",
    "\n",
    "Un médecin note une régularité dans les dossier disponibles des patients et s'appuie sur cela pour faire des recommandations.\n",
    "Une étude a montrer l'importance des essais sophistiqués randomisé et des tests.\n",
    "Sans cela, trop de résultat trop optimiste sont déclarés et des traitement inutiles voir dangereux sont utilisés à large échelle.\n",
    "\n",
    "Cependant, sans enthousiasme pour ces nouveaux traitement peu testé cela pourrait être pire car nous aurions du mal à recruter des cobayes.\n",
    "Une étude a montrer qu'en chirurgie environ la moitié des nouveaux traitements s'avère plus efficace.\n",
    "Peut-être que ce pourcentage est ajusté avec la vraissemblance initiale qui permets de faire le test. "
   ]
  },
  {
   "cell_type": "markdown",
   "metadata": {},
   "source": [
    "##### Témoignages d'experts en justice.\n",
    "\n",
    "En cas de procès, il est fréquent de voir deux équipes de statisticiens, partant des même faits, qui en déduise des conclusions très différentes."
   ]
  },
  {
   "cell_type": "markdown",
   "metadata": {},
   "source": [
    "##### Recherche sur les phénomène de perception extrasensorielle.\n",
    "\n",
    "La perception extrasensorielle, après plus d'un siècle d'effort, a encore à proposer une expérience replicable.\n",
    "Pourtant ce domaine dispose (NDLR en 1985) d'une douzaine de journaux, certains de plus de 40 ans (NDLR en 1985).\n",
    "De quoi discute t on dans ces journaux ?\n",
    "Souvent de fouiner dans les données.\n",
    "\n",
    "Un exemple: Dans une expérience des cobayes doivent deviner un symbole parmi 10 symboles.\n",
    "Certains cobayes devinent avec une fréquence bien supérieure à ce que la chance pourrait prédire.\n",
    "Des statisticiens ont détecter une erreur dans le générateur aléatoire de symbole qui condamne le protocole.\n",
    "De plus, il y a des variantes d'observation dans ce domaine, les cobayes pouvant être créditer aussi si ils devinents des suites de symbole, à un décalage près.\n",
    "L'expérience n'a pu être reproduite, mais son auteur à multiplier les analyses jusqu'à trouver des régularites significative dans les données expérimentales."
   ]
  },
  {
   "cell_type": "markdown",
   "metadata": {},
   "source": [
    "#### Bilan de cette partie\n",
    "\n",
    "Pour résumer, dans les études réelles on peut faire des erreurs. \n",
    "Le travail des psychologues fourni déjà une liste de problèmes potentiels.\n",
    "Des expériences montrent que l'on peut être entraîné à reconnaitre puis corriger ces problèmes."
   ]
  },
  {
   "cell_type": "markdown",
   "metadata": {},
   "source": [
    "## 1B La multiplicité:  un problème omniprésent\n",
    "\n",
    "Si suffisamment de statistiques sont envisagées, certaines vont inévitablement montrer de la structure.\n",
    "Avec l'ordinateur (NDLR déjà en 1985), de multiples statistiques sont misent à notre disposition.\n",
    "(NDLR: Cela semble un début du surapprentissage en Machine Learning actuel, avec la perte en généralisation puisqu'on s'est ajusté aux données disponibles plutôt qu'au mécanisme générant ces données)"
   ]
  },
  {
   "cell_type": "markdown",
   "metadata": {},
   "source": [
    "### Exemple en parapsychologie\n",
    "\n",
    "Encore une étude sur la transmission de pensée dont le protocole est le suivant:\n",
    "\n",
    "- Un sujet émetteur pense à une image parmi 4 connue.\n",
    "- Un sujet recepteur classe les 4 images dans l'ordre décroissant de probabilité de transmission selon lui.\n",
    "On répète cette communication 30 fois.\n",
    "\n",
    "Estimateurs envisagés pour définir l'extrémalité et la p-value:\n",
    "\n",
    "- Le nombre de bonne prédictions (rang 1 de l'image émise): à partir de 12 succès, la p-value est <= à 1/20\n",
    "\n",
    "- Le nombre de bonnes et presque bonne prédiction (image émise de rang 1 ou 2)\n",
    "\n",
    "- La somme des rangs des images émise.\n",
    "\n",
    "Pour ces 3 estimateurs, des simulations sous H0 = réponse aléatoire suggèrent une probabilité de succès pour au moins un estimateur de 12.5%.\n",
    "\n",
    "Un seul succès pour un estimateur suffit aux promotteur de l'expérience de déclarer la transmission de pensée effective.\n",
    "\n",
    "De multiples autres estimateurs ont été envisagé, et les simulations indique une probabilité de signifiance pour une des p-value d'environ 25%.\n",
    "\n",
    "Dans les 42 études disponible, c'est la fréquence de succès observée."
   ]
  },
  {
   "cell_type": "markdown",
   "metadata": {},
   "source": [
    "### Psychologie de l'affichage \n",
    "\n",
    "L'auteur lui même dans son article sur l'effet du zoom sur les nuages de points à eu 78 nombres à étudier.\n",
    "Il a testé plusieurs estimateurs: moyenne, median, moyenne coupé à 10% (ce dernier finalement retenu),...\n",
    "Il est possible, mais plus compliqué, de calculer une p-value sur plusieurs estimateurs.\n",
    "Dans son cas, c'est la reproductibilité sur un nouveau jeu de donnée qui l'a convaincu.\n",
    "(NDLR: on retrouve des techniques actuelles de machine learning avec le partitionnement en jeu de donnée d'apprentissage, de validation, ...)"
   ]
  },
  {
   "cell_type": "markdown",
   "metadata": {},
   "source": [
    "### Regression linéaire\n",
    "\n",
    "Freedman propose un exemple clair comment des tests formels peuvent nous égarer si ils sont appliqués à des données sélectionnées par une analyse préliminaire.\n",
    "On cherche un modèle linéaire pour une matrice de 100 lignes (les points de données) et 51 colonnes (les variables observés). \n",
    "Les coefficients de cette matrices sont tirés __independamment__  selon la loi normale.\n",
    "On veut prédire la 51ème variables Y à partir des 50 premières $X1,X2,...,X50$.\n",
    "Par construction, Y est indépendant des autres variables.\n",
    "Nous allons proposer une procédure formelle permettant de nous convaincre du contraire."
   ]
  },
  {
   "cell_type": "markdown",
   "metadata": {},
   "source": [
    "TO BE CONTINUED ..."
   ]
  },
  {
   "cell_type": "code",
   "execution_count": null,
   "metadata": {},
   "outputs": [],
   "source": []
  }
 ],
 "metadata": {
  "kernelspec": {
   "display_name": "Python 3",
   "language": "python",
   "name": "python3"
  },
  "language_info": {
   "codemirror_mode": {
    "name": "ipython",
    "version": 3
   },
   "file_extension": ".py",
   "mimetype": "text/x-python",
   "name": "python",
   "nbconvert_exporter": "python",
   "pygments_lexer": "ipython3",
   "version": "3.6.8"
  }
 },
 "nbformat": 4,
 "nbformat_minor": 2
}
