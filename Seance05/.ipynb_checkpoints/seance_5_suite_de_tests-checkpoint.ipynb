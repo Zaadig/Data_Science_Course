{
 "cells": [
  {
   "cell_type": "markdown",
   "metadata": {},
   "source": [
    "## Tests"
   ]
  },
  {
   "cell_type": "markdown",
   "metadata": {},
   "source": [
    "### C. Souvent variance empirique varie\n",
    "\n",
    "Soit $Y$ une variable aléatoire à valeur dans $\\mathbb{R}$ et densité de probabilité $\\rho$, de moyenne $\\mu = \\int_\\mathbb{R} Y\\rho(Y)dY$ et de variance $\\sigma^2 = \\int_{\\mathbb{R}} (Y-\\mu)^2\\rho(Y)dY$ __inconnus__ d'un expérimentateur."
   ]
  },
  {
   "cell_type": "markdown",
   "metadata": {},
   "source": [
    "TODOC.1 Étant donné une moyenne $\\mu$ et une variance $\\sigma$, compléter la fonction créant une fonction anonyme dont l'évaluation sans argument donne des réalisations d'une variable aléatoire de votre choix de moyenne $\\mu$ et variance $\\sigma$."
   ]
  },
  {
   "cell_type": "code",
   "execution_count": 1,
   "metadata": {},
   "outputs": [],
   "source": [
    "from typing import *\n",
    "import random\n",
    "import math\n",
    "\n",
    "def create_random_variable_of_given_average_and_variance(an_average:float,a_variance:float)->Callable[[],float]:\n",
    "    def f():\n",
    "        sign = {0:-1,1:1}[random.randint(0,1)]\n",
    "        return an_average+ sign*math.sqrt(a_variance)\n",
    "    return f"
   ]
  },
  {
   "cell_type": "code",
   "execution_count": 2,
   "metadata": {},
   "outputs": [
    {
     "name": "stdout",
     "output_type": "stream",
     "text": [
      "[-0.31657508881031005, 2.71657508881031, 2.71657508881031, -0.31657508881031005, -0.31657508881031005, 2.71657508881031, 2.71657508881031, -0.31657508881031005, -0.31657508881031005, -0.31657508881031005]\n"
     ]
    }
   ],
   "source": [
    "true_average = 1.2\n",
    "true_variance = 2.3\n",
    "generator = create_random_variable_of_given_average_and_variance(true_average,true_variance)\n",
    "experimentations = [generator() for _ in range(10)]\n",
    "print(experimentations)"
   ]
  },
  {
   "cell_type": "markdown",
   "metadata": {},
   "source": [
    "L'expérimentateur a accès à $(Y_i)_{i=1,\\ldots n}$, à savoir $n$ réalisations de cette variable supposée identiquement distribué (à la mesure de probabilité de $Y$) indépendant.\n",
    "(Une façon de briser l'indépendance est d'observer ces $(Y_i)_i$ après un tri en ordre croissant)\n",
    "\n",
    "Pour estimer la moyenne, il utilise l'estimateur empirique $$\\hat{Y} := \\frac{1}{n}\\sum_{i=1}^n Y_i.$$\n",
    "\n",
    "Cet estimateur n'est pas biaisée car $E[\\hat{Y}-\\mu] = \\frac{1}{n}\\sum_{i=1} E[Y_i-\\mu] = \\frac{1}{n}\\sum_{i=1}\\int(Y-Y_i)\\rho(Y)dY =  0$ car la différence de deux réalisation $Y$ et $Y_i$ sous la même loi est d'espérance nulle donc $\\int(Y-Y_i)dY = 0$."
   ]
  },
  {
   "cell_type": "code",
   "execution_count": 3,
   "metadata": {},
   "outputs": [],
   "source": [
    "from statcoin import average"
   ]
  },
  {
   "cell_type": "markdown",
   "metadata": {},
   "source": [
    "Pour estimer la variance, si il connaissait la moyenne $\\mu$ il aurait pu utiliser le premier estimateur\n",
    "$$ \\hat{S_{|\\mu}^2} = \\frac{1}{n} \\sum_{i=1}^n (Y_i-\\mu)^2.$$\n",
    "\n",
    "Cependant nous supposons qu'il ne connait pas $\\mu$ donc il en est réduit à utiliser la moyenne empirique comme valeur de $\\mu$, ce qui le même au second estimateur empirique $$ \\hat{S}^2 := \\frac{1}{n}\\sum_{i=1}^n(Y_i-\\hat{Y})^2.$$\n",
    "\n"
   ]
  },
  {
   "cell_type": "markdown",
   "metadata": {},
   "source": [
    "Cependant de part la définition de $\\hat{Y}$ et les $(Y_i)_i$ ne sont pas (linéairement) indépendants en particulier le dernier terme de la somme satisfait\n",
    "$$ (Y_n-\\hat{Y})^2=(n\\hat{Y}-\\sum_{i=1}^{n-1}Y_i)^2 = f(Y,Y_1,\\ldots Y_{n-1}).$$"
   ]
  },
  {
   "cell_type": "markdown",
   "metadata": {},
   "source": [
    "TODO C.2 A partir de $m$ expérimentations d'au plus $N$ réalisations de variable. Tracez les esperances empiriques de $E[S_{\\mu}^2]$ et $E[\\hat{S}^2]$ après $n \\leq N$ réalisations."
   ]
  },
  {
   "cell_type": "code",
   "execution_count": 4,
   "metadata": {},
   "outputs": [],
   "source": [
    "def variance_estimator_given_average(realisations:List[float],an_average:float)->float:\n",
    "    return (1/n)*sum((realisations[i]- an_average)**2 for i in range(len(realisations)))\n",
    "\n",
    "def first_variance_estimator_without_average(realisations:List[float])->float:\n",
    "    return variance_estimator_given_average(realisations,average(realisations))"
   ]
  },
  {
   "cell_type": "code",
   "execution_count": 5,
   "metadata": {},
   "outputs": [],
   "source": [
    "N = 100\n",
    "m = 100\n",
    "realisations = [ [generator() for _ in range(N)] for _ in range(m)]"
   ]
  },
  {
   "cell_type": "code",
   "execution_count": 6,
   "metadata": {},
   "outputs": [],
   "source": [
    "variance_averages = {}\n",
    "variance_empirical_averages = {}\n",
    "for n in range(2,N):\n",
    "    variance_averages[n] = average([variance_estimator_given_average(realisations[k][:n],true_average)\\\n",
    "                                    for k in range(m)])\n",
    "    variance_empirical_averages[n] = average(\\\n",
    "            [first_variance_estimator_without_average(realisations[k][:n])\\\n",
    "                                    for k in range(m)])"
   ]
  },
  {
   "cell_type": "code",
   "execution_count": 7,
   "metadata": {},
   "outputs": [
    {
     "data": {
      "image/png": "[encoded data removed]",
      "text/plain": [
       "<Figure size 432x288 with 1 Axes>"
      ]
     },
     "metadata": {
      "needs_background": "light"
     },
     "output_type": "display_data"
    }
   ],
   "source": [
    "import matplotlib.pyplot as plt\n",
    "\n",
    "ns = list(variance_averages.keys())\n",
    "ys = [ variance_averages[n] for n in variance_averages]\n",
    "zs = [ variance_empirical_averages[n] for n in variance_empirical_averages]\n",
    "\n",
    "plt.plot(ns,ys)\n",
    "plt.plot(ns,zs)\n",
    "plt.show()"
   ]
  },
  {
   "cell_type": "markdown",
   "metadata": {},
   "source": [
    "TODO C.3 Ajoutez la courbe $n \\longrightarrow \\frac{n-1}{n}\\sigma^2$. Que pensez vous de cette indication ?"
   ]
  },
  {
   "cell_type": "code",
   "execution_count": 8,
   "metadata": {},
   "outputs": [
    {
     "data": {
      "image/png": "[encoded data removed]",
      "text/plain": [
       "<Figure size 432x288 with 1 Axes>"
      ]
     },
     "metadata": {
      "needs_background": "light"
     },
     "output_type": "display_data"
    }
   ],
   "source": [
    "xs =  [(n-1)/n*true_variance for n in ns]\n",
    "\n",
    "\n",
    "plt.plot(ns,ys)\n",
    "plt.plot(ns,zs)\n",
    "plt.plot(ns,xs)\n",
    "plt.show()\n"
   ]
  },
  {
   "cell_type": "markdown",
   "metadata": {},
   "source": [
    "On conjecture de cette expérimentation que l'estimateur sans la vraie moyenne est biaisée.\n",
    "\n",
    "Le troisième estimateur:\n",
    "\n",
    "$$ \\hat{S'} := \\frac{1}{n-1}\\sum_{i=1}^n(Y_i-\\hat{Y})^2 $$\n",
    "\n",
    "(qui compte bien $n$ termes et non $n-1$ comme indiqué par erreur dans la première séance.)"
   ]
  },
  {
   "cell_type": "markdown",
   "metadata": {},
   "source": [
    "TODO C.4 Notez les éléments de preuves du biais de $\\hat{S}^2$ menant à la version non-biaisé $\\hat{S'}^2$."
   ]
  },
  {
   "cell_type": "markdown",
   "metadata": {},
   "source": [
    "Plus de détails ici:\n",
    "https://en.wikipedia.org/wiki/Bessel%27s_correction\n",
    "\n",
    "et même un plaidoyer pour ignorer cette discussion:\n",
    "\n",
    "https://imstat.org/2015/11/17/the-kids-are-alright-divide-by-n-when-estimating-variance/"
   ]
  },
  {
   "cell_type": "markdown",
   "metadata": {},
   "source": [
    "### Définition de la $p$-value."
   ]
  },
  {
   "cell_type": "markdown",
   "metadata": {},
   "source": [
    "Soit $H_0$ une hypothèse statistique permettant de faire des calculs probabilistes.\n",
    "\n",
    "Exemple de $H_0$: Nous observons la somme de $n$ lancers indépendant d'une pièce de biais $p$ connu donnant donc $1$ avec probabilité $p$ et $0$ avec probabilité $1-p$.\n",
    "\n",
    "Sous cette hypothèse, la probabilité que la somme des lancers soit $k$ est donc ${n \\choose k}p^k(1-p)^k$.\n",
    "\n",
    "Supposons que l'expérience donne la somme $S$ pour les $n$ lancers.\n",
    "\n",
    "__Définition partielle__: La __$p$-value__ de ce résultat $S$ est la probabilité d'obtenir un résultat au moins aussi extrème que $S$ sous l'hypothèse $H_0$.\n",
    "\n",
    "Cette notion de résultat extrème est encore à préciser. \n",
    "\n",
    "Sur l'exemple il y a au moins trois variantes pour qualifier un autre résultat $S'$ d'au moins aussi extrème que le résultat $S$:\n",
    "- pour un test d'un seul coté sur la queue (de distribution) droite: $S'\\geq S$, donc dans ce cas la $p$-value est la probabilité $\\sum_{k \\geq S}{n \\choose k}p^k(1-p)^k$,\n",
    "- pour un test d'un seul coté sur la queue (de distribution) gauche: $S' \\leq S$, donc dans ce cas la $p$-value est la probabilité $\\sum_{k\\leq S}{n \\choose k}p^k(1-p)^k$,\n",
    "- pour un test à deux cotés $|S'-np| \\geq |S-np|$ dans ce cas la $p$-value est $2\\min\\left(\\mathsf{Proba}(S'\\leq S),\\mathsf{Proba}(S'\\geq S)\\right)$ qui sont toute deux calculées ci-dessus.\n",
    "\n",
    "Plus généralement, on se donne un ensemble $W$ de résultats qualifiés d'extrèmes de l'expérience permettant de rejeter l'hypothèse $H_0$.\n",
    "\n",
    "Soit $S \\in \\mathcal{S}$ un résultat possible de l'expérience.\n",
    "Supposons disposer d'une \"distance\" $d(S,\\overline{S})$ au résultat le plus probable $\\overline{S}$.\n",
    "\n",
    "\n",
    "__Définition moins partielle__: La $p$-value du resultat $S$ est $\\mathsf{Proba}(d(S',\\overline{S}) \\geq d(S,\\overline{S}) | H_0)$, autrement dit la probabilité que sous $H_0$ le résultat soit au moins aussi extrème que $S$. \n",
    "\n",
    "\n",
    "On voit que la $p$-value dépends de ce qui a été planifié sous $H_0$ et de la définition de la notion d'extrème."
   ]
  },
  {
   "cell_type": "markdown",
   "metadata": {},
   "source": [
    "### X. Exemple d'expérience de durées variables.\n",
    "\n",
    "(traduction modifiée de https://en.wikipedia.org/wiki/P-value )\n",
    "\n",
    "Nous voulons tester si une pièce est équilibrée (notre $H_0$) à l'aide du protocole suivant:\n",
    "\n",
    "- Si les deux premiers lancers sont égaux, arrêter l'expérience.\n",
    "- Sinon faire quatre lancers de plus.\n",
    "\n",
    "TODOX.1: Lister tout les résultats possible de l'expérience en ne considérant que les __nombres__ de pile ou face obtenus."
   ]
  },
  {
   "cell_type": "markdown",
   "metadata": {},
   "source": []
  },
  {
   "cell_type": "markdown",
   "metadata": {},
   "source": [
    "Nous observons trois fois pile et trois fois face.\n",
    "\n",
    "TODOX.2: Utiliser la statistique $|\\mbox{nb pile}|/|\\mbox{ nb face}|$ pour calculer les $p$-values pour un seul coté sur la queue droite, puis gauche, puis un test à deux cotés."
   ]
  },
  {
   "cell_type": "raw",
   "metadata": {},
   "source": [
    "(nb_pile,nb_face):\n",
    "                   Statistique           Proba\n",
    "                    \n",
    "(2,0)              +oo                   8/32\n",
    "(0,2)               0                    8/32\n",
    "(1,5)               0.2                  1/32\n",
    "(2,4)               0.5                  4/32\n",
    "(3,3)               1                    6/32\n",
    "(4,2)               2                    4/32\n",
    "(5,1)               5                    1/32\n",
    "\n",
    "On observe (3,3):\n",
    "p-value sur la queue droite: (6+4+1+8)/32=19/12\n",
    "p-value sur le tout à deux cotés: 1 (ou 19/32 si on dit que la queue droite est plus proche de la moyenne)\n",
    "p-value sur les probabilités: 1/2\n"
   ]
  },
  {
   "cell_type": "markdown",
   "metadata": {},
   "source": []
  },
  {
   "cell_type": "markdown",
   "metadata": {},
   "source": [
    "TODOX.3: Au lieu du ratio, nous utilisons les probabilités de chaque résultat de l'expérience. Les résultats plus extrèmes qu'un résultat $S$ sont ceux de probabilité au plus égal à celle de $S$. Calculez sous ce modèle d'extrème la $p$-value."
   ]
  },
  {
   "cell_type": "markdown",
   "metadata": {},
   "source": []
  },
  {
   "cell_type": "markdown",
   "metadata": {},
   "source": [
    "TODOX.4: Devons nous modifier la page wikipedia ? \n"
   ]
  },
  {
   "cell_type": "markdown",
   "metadata": {},
   "source": []
  },
  {
   "cell_type": "markdown",
   "metadata": {},
   "source": [
    "TODOX.5: Modifier le protocole en arrêtant après deux lancers uniquement si ils sont distincts. Reprendre les calculs."
   ]
  },
  {
   "cell_type": "markdown",
   "metadata": {},
   "source": [
    "Laissé pour le DM à la maison."
   ]
  },
  {
   "cell_type": "markdown",
   "metadata": {},
   "source": [
    "### Y. Analyse d'un médicament pour la grippe"
   ]
  },
  {
   "cell_type": "markdown",
   "metadata": {},
   "source": [
    "Notre objectif est de savoir si un nouveau médicament contre la grippe est efficace pour réduire la durée de la maladie."
   ]
  },
  {
   "cell_type": "markdown",
   "metadata": {},
   "source": [
    "TODOY.1 Récupérer les fonctions __time_length_flue_with_drug__ et __time_length_flue_without_drug__ depuis la matrice. Lire leur documentation."
   ]
  },
  {
   "cell_type": "code",
   "execution_count": 9,
   "metadata": {},
   "outputs": [],
   "source": [
    "from the_matrix import time_length_flue_without_drug,time_length_flue_with_drug"
   ]
  },
  {
   "cell_type": "code",
   "execution_count": 10,
   "metadata": {},
   "outputs": [
    {
     "name": "stdout",
     "output_type": "stream",
     "text": [
      "Help on built-in function time_length_flue_without_drug in module the_matrix:\n",
      "\n",
      "time_length_flue_without_drug(...)\n",
      "    number of days of a flue without drug (or placebo)\n",
      "\n"
     ]
    }
   ],
   "source": [
    "help(time_length_flue_without_drug)"
   ]
  },
  {
   "cell_type": "code",
   "execution_count": 11,
   "metadata": {},
   "outputs": [
    {
     "name": "stdout",
     "output_type": "stream",
     "text": [
      "Help on built-in function time_length_flue_with_drug in module the_matrix:\n",
      "\n",
      "time_length_flue_with_drug(...)\n",
      "    number of days of a flue with drug\n",
      "\n"
     ]
    }
   ],
   "source": [
    "help(time_length_flue_with_drug)"
   ]
  },
  {
   "cell_type": "markdown",
   "metadata": {},
   "source": [
    "TODOY.2 Completer la fonction __simulate_cohort__ qui renvoit la durée de la grippe pour __nb_patients__ patient selon le traitement passé sous forme de fonction. Par défaut dans cette étude, les cohortes sont formées de $25$ patients. Utiliser cette fonction pour simuler une cohorte sans traitement et une cohorte avec traitement."
   ]
  },
  {
   "cell_type": "code",
   "execution_count": 12,
   "metadata": {},
   "outputs": [],
   "source": [
    "from typing import *\n",
    "\n",
    "def simulate_cohort(nb_patients:int,treatement:Callable[[],float])->List[float]:\n",
    "    return [treatement() for i in range(nb_patients)]"
   ]
  },
  {
   "cell_type": "code",
   "execution_count": 13,
   "metadata": {},
   "outputs": [
    {
     "name": "stdout",
     "output_type": "stream",
     "text": [
      "cohort with drug [4, 4, 7, 15, 7, 6, 4, 5, 9, 2, 10, 2, 2, 6, 10, 11, 4, 7, 2, 14, 2, 4, 1, 1, 4]\n",
      "cohort without drug [9, 3, 12, 15, 5, 8, 4, 9, 7, 4, 2, 8, 12, 4, 15, 5, 10, 29, 5, 9, 8, 16, 5, 4, 22]\n"
     ]
    }
   ],
   "source": [
    "nb_patients_per_cohort = 25\n",
    "a_cohort_with_drug = simulate_cohort(nb_patients_per_cohort,time_length_flue_with_drug)\n",
    "a_cohort_without_drug = simulate_cohort(nb_patients_per_cohort,time_length_flue_without_drug)\n",
    "print(f'cohort with drug {a_cohort_with_drug}')\n",
    "print(f'cohort without drug {a_cohort_without_drug}')"
   ]
  },
  {
   "cell_type": "markdown",
   "metadata": {},
   "source": [
    "TODOY.3 Une cohorte est réduite à une estimation de la durée représentative du traitement. Récupérez la fonction pour la moyenne dans le module __statcoin__ qui recopie des éléments de vos notebooks précédents et implémentez le calcul de la médiane par la fonction __median__ dont le type vous est donné."
   ]
  },
  {
   "cell_type": "code",
   "execution_count": 14,
   "metadata": {},
   "outputs": [],
   "source": [
    "from statcoin import average"
   ]
  },
  {
   "cell_type": "code",
   "execution_count": 15,
   "metadata": {},
   "outputs": [],
   "source": [
    "from typing import *\n",
    "from copy import deepcopy\n",
    "\n",
    "def median(floats:List[float])->float:\n",
    "    L = deepcopy(floats)\n",
    "    L.sort()\n",
    "    return L[len(L)//2]"
   ]
  },
  {
   "cell_type": "markdown",
   "metadata": {},
   "source": [
    "TODOY.4 Les estimateurs __average__ et __median__ sont \"idem pas pareil\", plus sérieusement il résume à un nombre de jour la durée typique de la grippe pour une cohorte mais de façon différentes. Pour vous en rendre compte, générer une centaines de cohortes sans traitement et tracés les points de coordonnées $(average(c),median(c))$ pour chaque cohorte $c$ en utilisant la fonction __.scatter__ de __matplotlib.pyplot__. Une fois le programme mise au point, jouez sur le nombre de cohortes et le nombre de patients par cohorte et commentez."
   ]
  },
  {
   "cell_type": "code",
   "execution_count": 16,
   "metadata": {},
   "outputs": [
    {
     "data": {
      "image/png": "[encoded data removed]",
      "text/plain": [
       "<Figure size 432x288 with 1 Axes>"
      ]
     },
     "metadata": {
      "needs_background": "light"
     },
     "output_type": "display_data"
    }
   ],
   "source": [
    "# demo élementaire de l'utilisation de matplotlib.pyplot.scatter\n",
    "import matplotlib.pyplot as plt\n",
    "\n",
    "xs = [1,2,3]\n",
    "ys = [0,3,2]\n",
    "plt.scatter(xs,ys,marker='o',c='orange')\n",
    "plt.show()"
   ]
  },
  {
   "cell_type": "code",
   "execution_count": 17,
   "metadata": {},
   "outputs": [
    {
     "data": {
      "image/png": "[encoded data removed]",
      "text/plain": [
       "<Figure size 432x288 with 1 Axes>"
      ]
     },
     "metadata": {
      "needs_background": "light"
     },
     "output_type": "display_data"
    }
   ],
   "source": [
    "nb_patients_per_cohort = 25\n",
    "nb_cohorts_sousH0 = 100\n",
    "\n",
    "cohorte_sous_H0 = [simulate_cohort(nb_patients_per_cohort,time_length_flue_without_drug) for i in range(nb_cohorts_sousH0)]\n",
    "data_average = [average(simulate_cohort(nb_patients_per_cohort,time_length_flue_without_drug)) for i in range(nb_cohorts_sousH0)]\n",
    "data_median = [median(simulate_cohort(nb_patients_per_cohort,time_length_flue_without_drug)) for i in range(nb_cohorts_sousH0)]\n",
    "plt.scatter(data_average,data_median,marker='.',c='red')\n",
    "plt.show()"
   ]
  },
  {
   "cell_type": "markdown",
   "metadata": {},
   "source": [
    "Notre hypothèse $H_0$ est que le médicament n'a aucun effet et donc qu'il se comporte comme le placebo, pour lequel nous avons de nombreuses données car des cohortes ont été accumulées pour tester d'autres médicaments.\n",
    "Comme notre but est de savoir si le médicament réduit la durée de la grippe, nous allons utiliser pour chaque estimateur, qui est monodimensionel, un test sur la queue de distribution gauche: $\\mathsf{Proba}\\left((\\mathsf{estimateur}(S') \\leq \\mathsf{estimateur}(S)|H_0\\right)$ pour estimer la $p$-value du  résultat $S$ d'une cohorte avec le médicament.\n",
    "Remarquez que cette $p$-value dépends de l'estimateur choisi (ici la moyenne ou la médianne).\n",
    "En pratique la probabilité sous $H_0$ de la valeur de chaque estimateur n'est pas connue.\n",
    "Nous allons nous appuyer sur la fréquence d'apparition et donc la fréquence d'apparition cumulée pour approcher cette distribution $H_0$.\n",
    "Justement à la question précédente nous avons généré de nombreuses cohortes sous le placebo que nous allons utiliser pour evaluer empiriquement la $p$-value."
   ]
  },
  {
   "cell_type": "markdown",
   "metadata": {},
   "source": [
    "TODOY.5 Étant donné $[\\mathsf{estimateur}(c)\\mbox{ for $c$ in $cohortes$ }]$ et $e := \\mathsf{estimateur(c)}$ comment connaitre la $p$-value \"empirique\" de $e$ ? Indication: c'est bien plus simple que prévu. Seconde indication pour l'optimisation facultative __help(list.index)__. Compléter ensuite la fonction calculant la $p$-value empirique. Puis générez une cohorte sous traitement et calculer la $p$-value empirique selon les deux estimateur moyenne et médianne et tester la signifiance au seuil $\\frac{1}{20}$. Faite plusieurs essais avec le médicaments et commentez les résultats."
   ]
  },
  {
   "cell_type": "markdown",
   "metadata": {},
   "source": [
    "Il suffit de sélectionner les estimations inférieures à $e$, de les compter et de diviser par le nombre total de cohortes. "
   ]
  },
  {
   "cell_type": "code",
   "execution_count": 18,
   "metadata": {},
   "outputs": [],
   "source": [
    "def empirical_p_value(cohortes_under_H0:List[List[float]],estimator:Callable[[List[float]],float],\\\n",
    "                     empirical_cohorte)->float:\n",
    "    e = estimator(empirical_cohorte)\n",
    "    return len([c for c in cohortes_under_H0 if estimator(c) <= e])/len(cohortes_under_H0)"
   ]
  },
  {
   "cell_type": "code",
   "execution_count": 19,
   "metadata": {},
   "outputs": [
    {
     "name": "stdout",
     "output_type": "stream",
     "text": [
      "0.0\n",
      "0.05\n"
     ]
    }
   ],
   "source": [
    "cohorte_with_drug = simulate_cohort(nb_patients_per_cohort,time_length_flue_with_drug)\n",
    "print(empirical_p_value(cohorte_sous_H0,average,cohorte_with_drug))\n",
    "print(empirical_p_value(cohorte_sous_H0,median,cohorte_with_drug))"
   ]
  },
  {
   "cell_type": "code",
   "execution_count": 20,
   "metadata": {},
   "outputs": [],
   "source": [
    "significative_p_value = 1/20\n",
    "nb_cohorts_with_drug = 100\n",
    "results = {(sign_with_average, sign_with_median): 0\\\n",
    "          for sign_with_average in [True,False] for sign_with_median in [True,False]}\n"
   ]
  },
  {
   "cell_type": "markdown",
   "metadata": {},
   "source": [
    "Nous constatons que le choix de l'estimateur à une forte influence sur le résultat du test."
   ]
  },
  {
   "cell_type": "markdown",
   "metadata": {},
   "source": [
    "TODOY.6 Sélectionner les cohortes sous $H_0$ qui sont significativement extrèmes pour:\n",
    "- la moyenne et la médiane (violet)\n",
    "- la moyenne mais pas la médiane (bleu)\n",
    "- la médiane mais pas la moyenne (rouge)\n",
    "- aucun estimateur (jaune).\n",
    "\n",
    "Dessiner chaque type de points $(average(c),median(c))$ sous $H_0$ de la couleur indiquée en utilisant __.scatter__"
   ]
  },
  {
   "cell_type": "code",
   "execution_count": null,
   "metadata": {},
   "outputs": [],
   "source": []
  },
  {
   "cell_type": "markdown",
   "metadata": {},
   "source": [
    "TODOY.7 Factoriser votre code de TODOY.6 dans la fonction ci-dessous, sauf pour le __plt.show()__ final. Vous pouvez le faire en deux temps: d'abord en commençant votre fonction par \n",
    "\n",
    "__(average,median) = estimator_pair__\n",
    "\n",
    "Pour les plus motivé (c'est optionnel) anonymiser les estimateurs en les plaçant dans une liste et en leur laissant la possibilité d'être deux ou trois. Indication: dans la seconde version vous pouvez utiliser le module __itertools__ et en particulier la fonction __.product__. Il existe une version 3d de __.scatter__ qu'idéalement nous pourrions utiliser."
   ]
  },
  {
   "cell_type": "code",
   "execution_count": null,
   "metadata": {},
   "outputs": [],
   "source": [
    "def scatter_bi_estimor_partition(cohortes:List[List[float]],\\\n",
    "                                 estimator_pair:Tuple[Callable[[List[float]],float]])->None:\n",
    "    assert(False)"
   ]
  },
  {
   "cell_type": "code",
   "execution_count": null,
   "metadata": {},
   "outputs": [],
   "source": [
    "scatter_bi_estimor_partition(cohortes,(average,median))\n",
    "plt.show()"
   ]
  },
  {
   "cell_type": "code",
   "execution_count": null,
   "metadata": {},
   "outputs": [],
   "source": [
    "import itertools\n",
    "\n",
    "def scatter_estimators_partition(cohortes:List[List[float]],\\\n",
    "                                 estimators:List[Callable[[List[float]],float]])->None:\n",
    "    assert(False)"
   ]
  },
  {
   "cell_type": "code",
   "execution_count": null,
   "metadata": {},
   "outputs": [],
   "source": [
    "scatter_estimators_partition(cohortes,[average,median])\n",
    "plt.show()"
   ]
  },
  {
   "cell_type": "markdown",
   "metadata": {},
   "source": [
    "TODOY.8 Ajouter au dessin précédent (en vert), une vingtaine de points associés à des cohortes avec le médicament. Concluez. "
   ]
  },
  {
   "cell_type": "code",
   "execution_count": null,
   "metadata": {},
   "outputs": [],
   "source": []
  },
  {
   "cell_type": "markdown",
   "metadata": {},
   "source": [
    "Même si on voit que la performance moyenne des cohortes avec le médicament est meilleur, cela ne dépasse pas le seuil significatif."
   ]
  },
  {
   "cell_type": "markdown",
   "metadata": {},
   "source": [
    "### B. Choix de tests"
   ]
  },
  {
   "cell_type": "markdown",
   "metadata": {},
   "source": [
    "Nous allons illustrer la conception de tests statistiques en s'appuyant sur un modèle simple de distribution de probabilité totalement discrétisé.\n",
    "\n",
    "Fixons deux entiers positifs $n$ et $M$.\n",
    "Considérons une variable aléatoire $X$ à valeur dans $[M] := \\{0,\\ldots M-1\\}$ pour laquelle la probabilité de chaque $i\\in[M]$ est $\\mathsf{Proba}(X=i) = \\frac{a_i}{n}$ avec $a_i$ un entier positif (ou nul). \n",
    "\n",
    "Si on interprète chaque fraction de probabilité $\\frac{1}{n}$ comme une balle et chaque valeur possible $i\\in[M]$ comme un casier, la loi de probabilité corresponds à la distribution de $a_i$ balles dans chaque casier $i$.\n",
    "Ainsi une loi de probabilité peut être écrite par la suite/liste d'entiers positifs (ou nuls) $[a_i\\mbox{ for i in range(M)}]$ telle que $\\sum_i a_i = n$.\n",
    "\n",
    "La réalisation de la variable aléatoire consiste donc à tirer une balle au hasard selon la mesure uniforme parmi les $n$ puis à retourner pour valeur de $X$ l'entier $i$ numérotant le casier qui le contient."
   ]
  },
  {
   "cell_type": "markdown",
   "metadata": {},
   "source": [
    "TODOB.1 Implémentez la fonction suivante qui tire aléatoirement une distribution aléatoire en ajoutant au hasard $n$ balles dans $M$ casiers."
   ]
  },
  {
   "cell_type": "code",
   "execution_count": null,
   "metadata": {},
   "outputs": [],
   "source": [
    "import random\n",
    "\n",
    "def random_distribution(nb_balles:int,nb_casiers:int)->Tuple[int]:\n",
    "    assert(False)"
   ]
  },
  {
   "cell_type": "code",
   "execution_count": null,
   "metadata": {},
   "outputs": [],
   "source": [
    "nb_balles = 10\n",
    "nb_casiers = 7\n",
    "une_distribution = random_distribution(nb_balles,nb_casiers)\n",
    "print(une_distribution)"
   ]
  },
  {
   "cell_type": "markdown",
   "metadata": {},
   "source": [
    "TODOB.2 On suppose que les casiers sont alignés horizontalement en colonnes de balles. Ainsi la $y$-ième balle du casier $x$ corresponds à un point de coordonnée $(x,y)$. Implémentez la fonction qui a une distribution associe sont ensemble de points. Puis une autre qui dessine une distribution à l'aide de __.scatter__."
   ]
  },
  {
   "cell_type": "code",
   "execution_count": null,
   "metadata": {},
   "outputs": [],
   "source": [
    "def points_of_distribution(distribution:Tuple[int])->List[Tuple[int]]:\n",
    "    assert(False)"
   ]
  },
  {
   "cell_type": "code",
   "execution_count": null,
   "metadata": {},
   "outputs": [],
   "source": [
    "def scatter_distribution(distribution:Tuple[int],color='blue')->None:\n",
    "    assert(False)"
   ]
  },
  {
   "cell_type": "code",
   "execution_count": null,
   "metadata": {},
   "outputs": [],
   "source": [
    "scatter_distribution(une_distribution)\n",
    "plt.show()"
   ]
  },
  {
   "cell_type": "markdown",
   "metadata": {},
   "source": [
    "Supposons que notre hypothèse $H_0$ est que la variable $X$ est décrite par une telle distribution $d^0=(d^0_i)_{i\\in [M]}\\in \\mathbb{N}^M$.\n",
    "\n",
    "Nous cherchons un sous-ensemble dit de rejection $R \\subseteq [M]$ car il permet de rejeter l'hypothèse $H_0$ si le résultat de l'expérience est dans $R$.\n",
    "\n",
    "Notons $\\overline{R} := [M]-R$ le complémentaire de $R$ dans $[M]$."
   ]
  },
  {
   "cell_type": "markdown",
   "metadata": {},
   "source": [
    "TODOB.3 Etant donné l'ensemble $R$, et la distribution $d^0 = (d^0_i)_{i\\in [M]}$ quelle est la probabilité $\\alpha$ d'un faux négatif (erreur de type 1) ? A t on en toute généralité pour une valeur $\\alpha$ unicité de l'ensemble $R$ ?"
   ]
  },
  {
   "cell_type": "markdown",
   "metadata": {},
   "source": []
  },
  {
   "cell_type": "markdown",
   "metadata": {},
   "source": [
    "À ce stade nous ne pouvons rien dire que la probabilité $\\beta$ des faux positifs car nous n'avons aucune hypothèse lorsque $H_0$ n'est pas satisfait (hormis la faible information que c'est différent de $H_0$, cela pourrait par exemple être déterministe, ou bien les tirages non-indépendants...).  "
   ]
  },
  {
   "cell_type": "markdown",
   "metadata": {},
   "source": [
    "Pour arriver à dire des choses très précise commençons par supposer que si $H_0$ n'est pas satisfaite, alors les données sont générés selon une distribution $d^a=(d^a_i)_{i\\in[M]}$ une autre __hypothèse__ dite __alternative__ $H_a$ (avec pour seule contraintes $d^a \\neq d^0$ mais le même $n$ et le même $M$). "
   ]
  },
  {
   "cell_type": "markdown",
   "metadata": {},
   "source": [
    "TODOB.4 Etant donné l'ensemble $R$ permettant de rejeter $H_0$, quelle est la probabilité $\\beta$ d'accepter l'hypothèse $H_0$ alors que les données sont générées par $H_a$ ?"
   ]
  },
  {
   "cell_type": "markdown",
   "metadata": {},
   "source": []
  },
  {
   "cell_type": "markdown",
   "metadata": {},
   "source": [
    "Pour tout ensemble $R$ nous pouvons donc calculer les probabilités $(\\alpha,\\beta)$ des erreurs de type I et II. "
   ]
  },
  {
   "cell_type": "markdown",
   "metadata": {},
   "source": [
    "TODOB.5 Implémentez la fonction qui calcule pour tout choix possible de $R$ cette distribution de paires $(\\alpha(R),\\beta(R))$, puis la seconde fonction qui teste tout les ensembles possibles sous forme de vecteur booleen indiquant l'appartenance de chaque casier à $R$ et renvoit un dictionnaire indexé par ces vecteurs et dont les valeurs sont les paires $(\\alpha,\\beta)$. Quelles sont les limites de votre seconde fonction ?"
   ]
  },
  {
   "cell_type": "code",
   "execution_count": null,
   "metadata": {},
   "outputs": [],
   "source": [
    "def alpha_beta_from_rejection_set(d0:Tuple[int],da:Tuple[int],r:Set)->Tuple[float]:\n",
    "    assert(False)\n",
    "    \n",
    "    \n",
    "import itertools\n",
    "\n",
    "def convert_boolean_vector_to_set(boolean_vector:Tuple[bool])->Set[int]:\n",
    "    assert(False)\n",
    "    \n",
    "def alpha_beta_of_all_rejection_sets(d0:Tuple[int],da:Tuple[int])->Dict:\n",
    "    assert(False)"
   ]
  },
  {
   "cell_type": "code",
   "execution_count": null,
   "metadata": {},
   "outputs": [],
   "source": [
    "n = 10\n",
    "m = 10\n",
    "d0 = random_distribution(n,m)\n",
    "while True:\n",
    "    da = random_distribution(n,m)\n",
    "    if da != d0:\n",
    "        break\n",
    "alpha_betas = alpha_beta_of_all_rejection_sets(d0,da)"
   ]
  },
  {
   "cell_type": "markdown",
   "metadata": {},
   "source": [
    "TODOB.6 Dessiner à l'aide de __.scatter__ sous forme de nuage de points les $(\\alpha(R),\\beta(R))_{R \\subset [M]}$. Discutez si un meilleur choix s'impose naturellement pour $R$ ? Pourquoi les paires $(\\alpha=0,\\beta=1)$ et $(\\alpha=1,\\beta=0)$ semblent toujours présentes ?"
   ]
  },
  {
   "cell_type": "code",
   "execution_count": null,
   "metadata": {},
   "outputs": [],
   "source": []
  },
  {
   "cell_type": "markdown",
   "metadata": {},
   "source": []
  }
 ],
 "metadata": {
  "kernelspec": {
   "display_name": "Python 3",
   "language": "python",
   "name": "python3"
  },
  "language_info": {
   "codemirror_mode": {
    "name": "ipython",
    "version": 3
   },
   "file_extension": ".py",
   "mimetype": "text/x-python",
   "name": "python",
   "nbconvert_exporter": "python",
   "pygments_lexer": "ipython3",
   "version": "3.6.8"
  }
 },
 "nbformat": 4,
 "nbformat_minor": 2
}
