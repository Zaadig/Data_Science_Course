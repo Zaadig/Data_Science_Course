{
 "cells": [
  {
   "cell_type": "markdown",
   "metadata": {},
   "source": [
    "# La théorie de l'inférence de causes de Judea Pearl"
   ]
  },
  {
   "cell_type": "markdown",
   "metadata": {},
   "source": [
    "Judea Pearl a obtenu le prix Turing en 2011 principalement pour deux travaux.\n",
    "Un algorithme de résolution des réseaux bayesiens dont nous ne discutons pas dans ce cours.\n",
    "Une théorie de l'inférence de cause qui est l'objet de la dernière partie de ce cours.\n",
    "Les plus motivés peuvent aller lire une présentation de ses travaux ici: https://amturing.acm.org/award_winners/pearl_2658896.cfm"
   ]
  },
  {
   "cell_type": "markdown",
   "metadata": {},
   "source": [
    "Plan des séances à venir:\n",
    "\n",
    "+ Notion de probabilité conditionnelle $P(X,Y|Z)$ et d'indépendance conditionnelle $P(X \\perp\\!\\!\\!\\perp Y | Z)$.\n",
    "\n",
    "+ Exemples de modélisation et hypothèses statistiques en résultant (Modèles graphiques probabilistes). \n",
    "\n",
    "+ Modèle (probabiliste) de causes comme des programmes à affectation unique des variables (en amont de la théorie).\n",
    "\n",
    "+ Représentation par un graphe (variantes Markovienne et semi-Markovienne) des hypothèses statistiques.\n",
    "\n",
    "+ Projection semi-Markovienne de tout graphe de cause [Verma 1993].\n",
    "\n",
    "+ L'ensemble des indépendances conditionnelles d'un modèle de cause.\n",
    "\n",
    "+ Terminologie en théorie des graphes.\n",
    "\n",
    "+ Digression: Graphoids et séparation des ensembles de sommets $X$ et $Y$ par l'ensemble $Z$ comme autre incarnation des axiomes.\n",
    "\n",
    "+ $d$-séparation de $X$ et $Y$ par $Z$ dans le graphe de cause impliquant l'indépendance conditionnelle $P(X \\perp\\!\\!\\!\\perp Y | Z)$ \n",
    "\n",
    "+ Notion d'intervention, l'opérateur __do__ comme dans $P(...|do(X=x))$ et la différence avec $P(...|X=x)$.\n",
    "\n",
    "+ Les trois barreaux de l'échelle de Pearl: __Observer__ (avec $P(...|X)$), __Expérimenter__ (avec $P(...|do(X=x)$), __Imaginer__ (hors de ce cours). \n",
    "\n",
    "+ Exemples de réduction d'une intervention à des observations: __back-door criterion__ de [Pearl 1993].\n",
    "\n",
    "+ Les trois règles du __do-calculus__ de [ Pearl 2000] autorisées par des indépendances conditionnelles.\n",
    "\n",
    "+ Exemples de __haies__ (hedges), les obstacles à l'observation des interventions.\n",
    "\n",
    "+ Complétude du do-calculus: Les trois régles et les calculs de probabilité suffisent à calculer les interventions $P(...|do(X=x))$ lorsque c'est possible.\n",
    "\n",
    "+ Algorithme de [Shpister et Pearl 2006]  pour décider si et si oui comment calculer une intervention $P(...|do(X=x))$ à partir d'observations.\n",
    "\n",
    "+ Éléments de preuve de l'algorithme de Shpister et Pearl\n",
    "\n",
    "+ De la preuve d'observabilité aux estimateurs statistiques (en aval de la théorie)."
   ]
  },
  {
   "cell_type": "markdown",
   "metadata": {},
   "source": [
    "## Modéle de causes et leurs graphes de causes"
   ]
  },
  {
   "cell_type": "markdown",
   "metadata": {},
   "source": [
    "Principalement au tableau."
   ]
  },
  {
   "cell_type": "markdown",
   "metadata": {},
   "source": [
    "- Probabilités\n",
    "- Variables aléatoires indépendantes\n",
    "- indépendance conditionnelle $X \\perp \\!\\!\\! \\perp Y | Z$ sur un premier exemple.\n",
    "- Reformulation de cette indépendance par un modèle de cause\n",
    "- Modèles de cause et le graphe associé\n",
    "- Énoncé de la projection de Verma sur les modèles de cause semi-markovien introduisant les arêtes bi-dirigées. \n",
    "- Exemple de modélisation\n",
    "- Critère d'indépendances conditionnelles sur le graphe de cause ($d$-séparabilité). "
   ]
  },
  {
   "cell_type": "markdown",
   "metadata": {},
   "source": [
    "TODO 0.1: Nous formalisons (au tableau) l'exemple 3.19 du rapport technique \"Algorithmique causal effect identification with causaleffect\" de Pedemonte, Vitria, Parafita:    https://arxiv.org/abs/2107.04632"
   ]
  },
  {
   "cell_type": "markdown",
   "metadata": {},
   "source": [
    "Example 3.19. Suppose we want to know how the salary of an employee in a given company depends on\n",
    "the gender of the worker. It is reasonable to suppose that salary (Y) could depend on the level of education\n",
    "(E) of the employee (better academic records usually translate to higher payroll), the field the employee is\n",
    "working in (F) and the amount of time he has been working for the company (S for seniority). Clearly, the\n",
    "age (A) of the worker influences both the level of education and the seniority, and gender (X) may have an\n",
    "impact on the seniority as well as the field of the employee. In addition, we might think that both age and\n",
    "gender may be related through a third unobserved variable (U), which could be that perhaps the company\n",
    "used to hire only men in the past, and thus the average age of men is higher than that of women in the\n",
    "company."
   ]
  },
  {
   "cell_type": "markdown",
   "metadata": {},
   "source": [
    "## Probabilité conditionnelle $P(X,Y|Z)$."
   ]
  },
  {
   "cell_type": "markdown",
   "metadata": {},
   "source": [
    "Ici $X$ dénote un ensemble de variables aléatoires $X=\\{X_0,\\ldots X_{n_X-1}\\}$, ainsi que $Y=\\{Y_0,\\ldots,Y_{n_Y-1}\\}$ et $Z=\\{Z_0,\\ldots Z_{n_Z-1}\\}$.\n",
    "Mais pour le début de la discussion vous pouvez supposer que $n_X=1=n_Y=n_Z$.\n",
    "\n",
    "\n",
    "\n",
    "Dans une analogie avec le langage python, supposons que l'ensemble des observations soit $\\{(X(\\omega),Y(\\omega),Z(\\omega))\\}_{\\omega \\in \\Omega}$ où $\\Omega$ est le maintenant si familier espace de probabilité (supposé dans ce cours discret et fini) munissant chaque événement $\\omega$ d'une probabilité $p(\\omega)$."
   ]
  },
  {
   "cell_type": "markdown",
   "metadata": {},
   "source": [
    "### Variables \"jointes\" et \"disjointes\""
   ]
  },
  {
   "cell_type": "markdown",
   "metadata": {},
   "source": [
    "TODO 1.1: Réviser la notion d'espace de probabilité sur la classe Python proposée. Complétez la fonction __join__ qui calcule à partir de la liste de variables $(X_1,\\ldots X_n)$, $(Y_1,\\ldots Y_k)$ et $(Z_1,\\ldots Z_m)$, la variable \"jointe\" $(X_1,\\ldots X_n,Y_1,\\ldots Y_k,Z_1,\\ldots Z_m)$. De même pour la fonction __split__ qui étant donné $(X_1,\\ldots X_n)$ et un sous-ensemble $I$ de ses indices sépare les variables jointes en deux ensembles de variables jointe: les $(X_i)_{i\\in I}$ et les autres $(X_i)_{i\\notin I}$.\n"
   ]
  },
  {
   "cell_type": "code",
   "execution_count": 16,
   "metadata": {},
   "outputs": [],
   "source": [
    "import copy\n",
    "from typing import *\n",
    "import fractions\n",
    "import itertools\n",
    "\n",
    "class ProbabilitySpace:\n",
    "    \n",
    "    def __init__(self,nb_events=None,measure:Dict=None):\n",
    "        assert(nb_events != None or measure != None)\n",
    "        if measure == None: # uniform measure on events by default\n",
    "            self.measure = {omega: fractions.Fraction(1,nb_events) for omega in range(nb_events)}\n",
    "        else:\n",
    "            self.measure = measure\n",
    "            \n",
    "    def all_omegas(self):\n",
    "        return self.measure.keys()"
   ]
  },
  {
   "cell_type": "code",
   "execution_count": 17,
   "metadata": {},
   "outputs": [
    {
     "name": "stdout",
     "output_type": "stream",
     "text": [
      "0 1/12\n",
      "1 1/12\n",
      "2 1/12\n",
      "3 1/12\n",
      "4 1/12\n",
      "5 1/12\n",
      "6 1/12\n",
      "7 1/12\n",
      "8 1/12\n",
      "9 1/12\n",
      "10 1/12\n",
      "11 1/12\n"
     ]
    }
   ],
   "source": [
    "d12 = ProbabilitySpace(nb_events=12)\n",
    "for omega in d12.all_omegas():\n",
    "    print(omega,d12.measure[omega])"
   ]
  },
  {
   "cell_type": "markdown",
   "metadata": {},
   "source": [
    "Nous nous donnons la possibilité de nommer une fonction anonyme au moment de sa déclaration."
   ]
  },
  {
   "cell_type": "code",
   "execution_count": 18,
   "metadata": {},
   "outputs": [],
   "source": [
    "def name(name:str,function:Callable)->Callable:\n",
    "    function.__name__ = name\n",
    "    function.__qualname__ = name\n",
    "    return function"
   ]
  },
  {
   "cell_type": "code",
   "execution_count": 19,
   "metadata": {},
   "outputs": [
    {
     "name": "stdout",
     "output_type": "stream",
     "text": [
      "<function X at 0x00000185B811CA60>\n"
     ]
    }
   ],
   "source": [
    "toto = name('X',lambda omega: omega%2)\n",
    "print(toto)"
   ]
  },
  {
   "cell_type": "markdown",
   "metadata": {},
   "source": [
    "Nous adoptons la convention de __refuser__ les variables aléatoires qui ne sont pas nommées."
   ]
  },
  {
   "cell_type": "code",
   "execution_count": 22,
   "metadata": {},
   "outputs": [],
   "source": [
    "class RandomVariables:\n",
    "    \n",
    "    def __init__(self,Omega:ProbabilitySpace,Xs:Tuple[Callable]=None,Ys:Tuple[Callable]=None):\n",
    "        ''' \n",
    "            .Xs: (may be) conditionned variables\n",
    "            .Ys: (may be) conditionning variables\n",
    "            .Zs: (may be) hidden variables\n",
    "            '''\n",
    "        if type(Xs) == tuple:\n",
    "            self.Xs = Xs\n",
    "        elif Xs == None:\n",
    "            self.Xs = tuple([])\n",
    "        else:\n",
    "            self.Xs = (Xs,)\n",
    "        if type(Ys) == tuple:\n",
    "            self.Ys = Ys\n",
    "        elif Ys == None:\n",
    "            self.Ys = tuple([])\n",
    "        else:\n",
    "            self.Ys = (Ys,)\n",
    "        self.Zs = tuple([])\n",
    "        for i in range(len(self.Xs)):\n",
    "            #print(f'{i}: {self.Xs[i].__qualname__}')\n",
    "            assert( self.Xs[i].__qualname__ != '<lambda>')\n",
    "        self.Omega = Omega\n",
    "        \n",
    "    def eval_at_event(self,omega):\n",
    "        #print(f'eval_at_event self {self} omega {omega}')\n",
    "        return tuple([ self.Xs[i](omega) for i in range(len(self.Xs)) ])\n",
    "        \n",
    "    def distribution(self):\n",
    "        # Remark: it corresponds to conditionning by all free variables !\n",
    "        assert(len(self.Ys) == 0) # Make sens only if no conditionning variables\n",
    "        d = {}\n",
    "        for omega in self.Omega.all_omegas():\n",
    "            #print(f'omega {omega}')\n",
    "            Xomega = self.eval_at_event(omega)\n",
    "            if Xomega not in d:\n",
    "                d[Xomega] = 0\n",
    "            d[Xomega] += self.Omega.measure[omega]\n",
    "        return d\n",
    "    \n",
    "    def distributions(self)->Dict:\n",
    "        # Return distributions indexed by evaluation of conditionning variables:\n",
    "        # - probabilities of evaluation\n",
    "        # - random variable of a part of the original probability space (with change of measure)\n",
    "        Omega_partition = {}\n",
    "        for omega in self.Omega.all_omegas():\n",
    "            ys = tuple([ self.Ys[j](omega) for j in range(len(self.Ys))])\n",
    "            #print(f'omega {omega} ys {ys}')\n",
    "            if ys not in Omega_partition:\n",
    "                Omega_partition[ys] = {}\n",
    "            Omega_partition[ys][omega] = self.Omega.measure[omega]\n",
    "        #print(f'Omega_partition {Omega_partition}')\n",
    "        ys_probabilities = { ys: sum(p for p in Omega_partition[ys].values()) for ys in Omega_partition}\n",
    "        #print(f'ys_probabilities {ys_probabilities}')\n",
    "        ys_probabilities = { ys: ys_probabilities[ys] for ys in ys_probabilities if ys_probabilities[ys] > 0}\n",
    "        Omega_partition = { ys: {omega : Omega_partition[ys][omega]/ys_probabilities[ys]\\\n",
    "                                 for omega in Omega_partition[ys]} for ys in ys_probabilities}\n",
    "        ys_conditional_variables = {ys: RandomVariables(ProbabilitySpace(measure=Omega_partition[ys]),Xs=self.Xs)\\\n",
    "                                   for ys in ys_probabilities}\n",
    "        return (ys_conditional_variables,ys_probabilities)\n",
    "       \n",
    "    def move_by_name_from_to(self,names,from_Zs,to_Zs):\n",
    "        for a_name in names:\n",
    "            for Z in from_Zs:\n",
    "                if Z.__qualname__ == a_name:\n",
    "                    from_Zs.remove(Z)\n",
    "                    to_Zs.insert(0,Z)\n",
    "        return (from_Zs,to_Zs)\n",
    "        \n",
    "    def condition(self,names_new_conditionning_variables:List[str]):\n",
    "        (new_Xs,new_Ys) = self.move_by_name_from_to(names_new_conditionning_variables,list(self.Xs),list(self.Ys))\n",
    "        self.Xs = tuple(new_Xs)\n",
    "        self.Ys = tuple(new_Ys)\n",
    "        #for a_name in names_new_conditionning_variables:\n",
    "        #    for i in range(len(self.Xs)):\n",
    "        #        if self.Xs[i].__qualname__ == a_name:\n",
    "        #            self.Ys = tuple([self.Xs.pop(i)]+list(self.Ys))\n",
    "        \n",
    "    def uncondition(self,names_new_conditionned_variables:List[str]):\n",
    "        (new_Ys,new_Xs) = self.move_by_name_from_to(names_new_conditionned_variables,list(self.Ys),list(self.Xs))\n",
    "        self.Xs = tuple(new_Xs)\n",
    "        self.Ys = tuple(new_Ys)\n",
    "        \n",
    "    def hide(self,names_hidden_variables:List[str]):\n",
    "        (new_Xs,new_Zs) = self.move_by_name_from_to(names_hidden_variables,list(self.Xs),list(self.Zs))\n",
    "        self.Xs = tuple(new_Xs)\n",
    "        self.Zs = tuple(new_Zs)\n",
    "        \n",
    "    def show(self,name_shown_variables:List[str]):\n",
    "        (new_Zs,new_Xs) = self.move_by_name_from_to(name_shown_variables,list(self.Zs),list(self.Xs))\n",
    "        self.Zs = tuple(new_Zs)\n",
    "        self.Xs = tuple(new_Xs)\n",
    "        \n",
    "    def are_independant(self,name_Xs:List[str],name_Ys:List[str],print_counter_example=False):\n",
    "        Xs = [ X for X in list(self.Xs+self.Ys+self.Zs) if X.__qualname__ in name_Xs ]\n",
    "        Ys = [ Y for Y in list(self.Xs+self.Ys+self.Zs) if Y.__qualname__ in name_Ys ]\n",
    "        marginal_X = RandomVariables(self.Omega,tuple(Xs)).distribution()\n",
    "        marginal_Y = RandomVariables(self.Omega,tuple(Ys)).distribution()\n",
    "        joint_XY = RandomVariables(self.Omega,tuple(Xs+Ys)).distribution()\n",
    "        for x in marginal_X:\n",
    "            for y in marginal_Y:\n",
    "                if joint_XY[x+y] != marginal_X[x]*marginal_Y[y]:\n",
    "                    if print_counter_example:\n",
    "                        print(f'join({x+y}) = {joint_XY[x+y]},'+\\\n",
    "                        f'marginal_X[{x}]={marginal_X[x]}, marginal_Y[{y}]={marginal_Y[y]},'+\\\n",
    "                        f'marginal_X[{x}]*marginal_Y[{y}]={marginal_X[x]*marginal_Y[y]}')\n",
    "                    return False\n",
    "        return True\n",
    "        \n",
    "    \n",
    "    def are_conditionaly_independant(self,name_Xs,name_Ys,name_Zs):\n",
    "        Xs = [ X for X in list(self.Xs+self.Ys+self.Zs) if X.__qualname__ in name_Xs ]\n",
    "        Ys = [ Y for Y in list(self.Xs+self.Ys+self.Zs) if Y.__qualname__ in name_Ys ]\n",
    "        Zs = [ Z for Z in list(self.Xs+self.Ys+self.Zs) if Z.__qualname__ in name_Zs ]\n",
    "        XYZ = RandomVariables(self.Omega,Xs=tuple(Xs+Ys),Ys=tuple(Zs))\n",
    "        (zs_conditional_variables,zs_probabilities) = XYZ.distributions()\n",
    "        for zs in zs_probabilities:\n",
    "            are_Xs_Ys_independant_given_Zs_set_to_zs = \\\n",
    "                    zs_conditional_variables[zs].are_independant(name_Xs,name_Ys)\n",
    "            #print(f'Zs={zs}  Xs and Ys independant ? {are_Xs_Ys_independant_given_Zs_set_to_zs}.')\n",
    "            if not are_Xs_Ys_independant_given_Zs_set_to_zs:\n",
    "                return False\n",
    "        return True\n",
    "    \n",
    "    def list_all_possible_conditional_independances(self):\n",
    "        # TODO\n",
    "        pass\n",
    "        \n",
    "    def list_all_conditional_independances(self,debug=False):\n",
    "        # TODO\n",
    "        pass\n",
    "    \n",
    "    \n",
    "    def print_distribution(self):\n",
    "        d = self.distribution()\n",
    "        names = [self.Xs[i].__qualname__ for i in range(len(self.Xs))]\n",
    "        concatenated_names = ','.join(names)\n",
    "        result = f'Distribution of ({concatenated_names})<:>\\n'\n",
    "        for xs in d:\n",
    "            data = '('+','.join([ (f'{names[i]}={xs[i]}')for i in range(len(xs))])+')'\n",
    "            result += f'P{data}={d[xs]}\\n'\n",
    "        result += '</:>'\n",
    "        print(result)\n",
    "        \n",
    "    def print_distributions(self):\n",
    "        (ys_conditional_variables,ys_probabilities) = self.distributions()\n",
    "        print(f'ys conditional variables {list(ys_conditional_variables.keys())}')\n",
    "        for ys in ys_conditional_variables:\n",
    "            conditioning_evaluations = [f'{self.Ys[j].__qualname__}={ys[j]}' for j in range(len(self.Ys))]\n",
    "            print('|('+','.join(conditioning_evaluations)+f') has probability {ys_probabilities[ys]}')\n",
    "            ys_conditional_variables[ys].print_distribution()\n",
    "            \n",
    "    def print_variables(self):\n",
    "        str_indices = ''\n",
    "        str_variables = ''\n",
    "        for i in range(len(self.Xs)):\n",
    "            index_size = len(str(i))+1\n",
    "            variable_size = len(self.Xs[i].__qualname__)\n",
    "            if i < len(self.Xs)-1:\n",
    "                variable_size += 1\n",
    "            str_indices += f'{i}:'+max(variable_size-index_size,0)*' '\n",
    "            str_variables += self.Xs[i].__qualname__+max(index_size-variable_size,0)*' '\n",
    "            if i < len(self.Xs)-1:\n",
    "                str_variables += ','\n",
    "        str_indices += '|'\n",
    "        str_variables += '|'\n",
    "        for i in range(len(self.Ys)):\n",
    "            index_size = len(str(len(self.Xs)+i))+1\n",
    "            variable_size = len(self.Ys[i].__qualname__)\n",
    "            if i < len(self.Ys)-1:\n",
    "                variable_size += 1\n",
    "            str_indices += f'{len(self.Xs)+i}:'+max(variable_size-index_size,0)*' '\n",
    "            str_variables += self.Ys[i].__qualname__+max(index_size-variable_size,0)*' '\n",
    "            if i < len(self.Ys)-1:\n",
    "                str_variables += ','\n",
    "        print(str_indices)\n",
    "        print(str_variables)"
   ]
  },
  {
   "cell_type": "code",
   "execution_count": 23,
   "metadata": {},
   "outputs": [
    {
     "ename": "AssertionError",
     "evalue": "",
     "output_type": "error",
     "traceback": [
      "\u001b[1;31m---------------------------------------------------------------------------\u001b[0m",
      "\u001b[1;31mAssertionError\u001b[0m                            Traceback (most recent call last)",
      "Cell \u001b[1;32mIn [23], line 2\u001b[0m\n\u001b[0;32m      1\u001b[0m \u001b[39m## Check that unamed lambda functions fails:\u001b[39;00m\n\u001b[1;32m----> 2\u001b[0m X \u001b[39m=\u001b[39m RandomVariables(d12,Xs\u001b[39m=\u001b[39;49m\u001b[39mlambda\u001b[39;49;00m omega: omega\u001b[39m%\u001b[39;49m\u001b[39m3\u001b[39;49m)\n\u001b[0;32m      3\u001b[0m \u001b[39mprint\u001b[39m(X\u001b[39m.\u001b[39mXs[\u001b[39m0\u001b[39m])\n\u001b[0;32m      4\u001b[0m \u001b[39mprint\u001b[39m(X\u001b[39m.\u001b[39mdistribution())\n",
      "Cell \u001b[1;32mIn [22], line 24\u001b[0m, in \u001b[0;36mRandomVariables.__init__\u001b[1;34m(self, Omega, Xs, Ys)\u001b[0m\n\u001b[0;32m     21\u001b[0m \u001b[39mself\u001b[39m\u001b[39m.\u001b[39mZs \u001b[39m=\u001b[39m \u001b[39mtuple\u001b[39m([])\n\u001b[0;32m     22\u001b[0m \u001b[39mfor\u001b[39;00m i \u001b[39min\u001b[39;00m \u001b[39mrange\u001b[39m(\u001b[39mlen\u001b[39m(\u001b[39mself\u001b[39m\u001b[39m.\u001b[39mXs)):\n\u001b[0;32m     23\u001b[0m     \u001b[39m#print(f'{i}: {self.Xs[i].__qualname__}')\u001b[39;00m\n\u001b[1;32m---> 24\u001b[0m     \u001b[39massert\u001b[39;00m( \u001b[39mself\u001b[39m\u001b[39m.\u001b[39mXs[i]\u001b[39m.\u001b[39m\u001b[39m__qualname__\u001b[39m \u001b[39m!=\u001b[39m \u001b[39m'\u001b[39m\u001b[39m<lambda>\u001b[39m\u001b[39m'\u001b[39m)\n\u001b[0;32m     25\u001b[0m \u001b[39mself\u001b[39m\u001b[39m.\u001b[39mOmega \u001b[39m=\u001b[39m Omega\n",
      "\u001b[1;31mAssertionError\u001b[0m: "
     ]
    }
   ],
   "source": [
    "## Check that unamed lambda functions fails:\n",
    "X = RandomVariables(d12,Xs=lambda omega: omega%3)\n",
    "print(X.Xs[0])\n",
    "print(X.distribution())"
   ]
  },
  {
   "cell_type": "markdown",
   "metadata": {},
   "source": [
    "TODO: Sur l'espace de probabilité d'un dé équilibré à 12 faces, créer la variable aléatoire donnant le résultat modulo 3 du dé. "
   ]
  },
  {
   "cell_type": "code",
   "execution_count": 24,
   "metadata": {},
   "outputs": [
    {
     "name": "stdout",
     "output_type": "stream",
     "text": [
      "0:|\n",
      "X |\n"
     ]
    },
    {
     "data": {
      "text/plain": [
       "{(0,): Fraction(1, 2), (1,): Fraction(1, 2)}"
      ]
     },
     "execution_count": 24,
     "metadata": {},
     "output_type": "execute_result"
    }
   ],
   "source": [
    "Rs = RandomVariables(d12,name('X',lambda omega: omega%2))\n",
    "Rs.print_variables()\n",
    "Rs.distribution()"
   ]
  },
  {
   "cell_type": "markdown",
   "metadata": {},
   "source": [
    "TODO: Compléter la fonction suivante qui joint les variables aléatoires donnée en paramètre."
   ]
  },
  {
   "cell_type": "code",
   "execution_count": 74,
   "metadata": {},
   "outputs": [],
   "source": [
    "def join(variables:List[RandomVariables])->RandomVariables: #TODO\n",
    "    ()"
   ]
  },
  {
   "cell_type": "markdown",
   "metadata": {},
   "source": [
    "TODO: Définir la variable aléatoire $Y$ calculant la valeur modulo 4 d'un dé à d12 faces et tester l'indépendance de $X$ et $Y$ en utilisant une méthode de __RandomVariables__."
   ]
  },
  {
   "cell_type": "code",
   "execution_count": 25,
   "metadata": {},
   "outputs": [
    {
     "name": "stdout",
     "output_type": "stream",
     "text": [
      "0:1:|\n",
      "X,Y |\n"
     ]
    },
    {
     "data": {
      "text/plain": [
       "{(0, 0): Fraction(1, 12),\n",
       " (1, 1): Fraction(1, 12),\n",
       " (2, 2): Fraction(1, 12),\n",
       " (0, 3): Fraction(1, 12),\n",
       " (1, 0): Fraction(1, 12),\n",
       " (2, 1): Fraction(1, 12),\n",
       " (0, 2): Fraction(1, 12),\n",
       " (1, 3): Fraction(1, 12),\n",
       " (2, 0): Fraction(1, 12),\n",
       " (0, 1): Fraction(1, 12),\n",
       " (1, 2): Fraction(1, 12),\n",
       " (2, 3): Fraction(1, 12)}"
      ]
     },
     "execution_count": 25,
     "metadata": {},
     "output_type": "execute_result"
    }
   ],
   "source": [
    "variables = [name('X',lambda omega: omega%3),name('Y',lambda omega: omega%4)]\n",
    "RsXY = RandomVariables(d12,tuple(variables))\n",
    "RsXY.print_variables()\n",
    "RsXY.distribution()"
   ]
  },
  {
   "cell_type": "markdown",
   "metadata": {},
   "source": [
    "TODO: Conditionner selon la variable $X$ puis $Y$ et afficher les distributions $X|Y$ et $Y|X$."
   ]
  },
  {
   "cell_type": "code",
   "execution_count": null,
   "metadata": {},
   "outputs": [],
   "source": []
  },
  {
   "cell_type": "code",
   "execution_count": 77,
   "metadata": {},
   "outputs": [],
   "source": [
    "def split(Xs:RandomVariables,selected_indices:List[int])->Tuple[RandomVariables]:\n",
    "    number_of_decomposed_variables = len(list(Xs.distribution().keys())[0]) # XXX\n",
    "    assert(max(selected_indices) < number_of_decomposed_variables)\n",
    "    unselected_indices = [ i for i in range(number_of_decomposed_variables) if i not in selected_indices]\n",
    "    selected_variables = tuple([ Xs.Xs[i] for i in selected_indices])\n",
    "    unselected_variables = tuple([ Xs.Xs[i] for i in unselected_indices])\n",
    "    return (RandomVariables(Xs.Omega,selected_variables),\\\n",
    "           RandomVariables(Xs.Omega,unselected_variables))"
   ]
  },
  {
   "cell_type": "code",
   "execution_count": 78,
   "metadata": {},
   "outputs": [
    {
     "name": "stdout",
     "output_type": "stream",
     "text": [
      "{(0,): Fraction(1, 4), (1,): Fraction(1, 4), (2,): Fraction(1, 4), (3,): Fraction(1, 4)}\n",
      "Distribution of (Y)<:>\n",
      "P(Y=0)=1/4\n",
      "P(Y=1)=1/4\n",
      "P(Y=2)=1/4\n",
      "P(Y=3)=1/4\n",
      "</:>\n",
      "Distribution of (X)<:>\n",
      "P(X=0)=1/3\n",
      "P(X=1)=1/3\n",
      "P(X=2)=1/3\n",
      "</:>\n"
     ]
    }
   ],
   "source": [
    "(Xr,Yr) = split(XY,[0])\n",
    "print(Xr.distribution())\n",
    "Xr.print_distribution()\n",
    "Yr.print_distribution()"
   ]
  },
  {
   "cell_type": "code",
   "execution_count": 79,
   "metadata": {},
   "outputs": [
    {
     "name": "stdout",
     "output_type": "stream",
     "text": [
      "Help on built-in function insert:\n",
      "\n",
      "insert(...) method of builtins.list instance\n",
      "    L.insert(index, object) -- insert object before index\n",
      "\n"
     ]
    }
   ],
   "source": [
    "toto = [1,2]\n",
    "help(toto.insert)"
   ]
  },
  {
   "cell_type": "markdown",
   "metadata": {},
   "source": [
    "### Conditionnement menant aux probabilités conditionnelles $P(X|Z)$ (et $P(X,Y|Z)$)"
   ]
  },
  {
   "cell_type": "markdown",
   "metadata": {},
   "source": [
    "Soit $\\Omega=\\{1,\\ldots 77\\}$ l'espace de probabilité naturelement associé à un dé à $77$ faces équilibré munissant donc chaque évènement d'une probabilité uniforme $\\frac{1}{77}$.\n",
    "\n",
    "Considérons les variables aléatoires définient par \n",
    "\n",
    "$X(\\omega) := \\omega \\mod 4$ en python lambda omega: omega % 4\n",
    "\n",
    "et \n",
    "\n",
    "$Z(\\omega) := \\omega \\mod 3$ en python lambda omega: omega % 2."
   ]
  },
  {
   "cell_type": "code",
   "execution_count": 80,
   "metadata": {},
   "outputs": [
    {
     "name": "stdout",
     "output_type": "stream",
     "text": [
      "{(0, 0): Fraction(1, 11), (1, 1): Fraction(1, 11), (2, 2): Fraction(1, 11), (3, 0): Fraction(1, 11), (0, 1): Fraction(1, 11), (1, 2): Fraction(6, 77), (2, 0): Fraction(6, 77), (3, 1): Fraction(6, 77), (0, 2): Fraction(6, 77), (1, 0): Fraction(6, 77), (2, 1): Fraction(6, 77), (3, 2): Fraction(6, 77)}\n",
      "join((0, 0)) = 1/11,marginal_X[(0,)]=20/77, marginal_Y[(0,)]=26/77,marginal_X[(0,)]*marginal_Y[(0,)]=520/5929\n",
      "False\n",
      "Distribution of (Xd7,Zd7)<:>\n",
      "P(Xd7=0,Zd7=0)=1/11\n",
      "P(Xd7=1,Zd7=1)=1/11\n",
      "P(Xd7=2,Zd7=2)=1/11\n",
      "P(Xd7=3,Zd7=0)=1/11\n",
      "P(Xd7=0,Zd7=1)=1/11\n",
      "P(Xd7=1,Zd7=2)=6/77\n",
      "P(Xd7=2,Zd7=0)=6/77\n",
      "P(Xd7=3,Zd7=1)=6/77\n",
      "P(Xd7=0,Zd7=2)=6/77\n",
      "P(Xd7=1,Zd7=0)=6/77\n",
      "P(Xd7=2,Zd7=1)=6/77\n",
      "P(Xd7=3,Zd7=2)=6/77\n",
      "</:>\n",
      "0:  1: |\n",
      "Xd7,Zd7|\n",
      "ys conditional variables [(0,), (1,), (2,)]\n",
      "|(Zd7=0) has probability 26/77\n",
      "Distribution of (Xd7)<:>\n",
      "P(Xd7=0)=7/26\n",
      "P(Xd7=3)=7/26\n",
      "P(Xd7=2)=3/13\n",
      "P(Xd7=1)=3/13\n",
      "</:>\n",
      "|(Zd7=1) has probability 26/77\n",
      "Distribution of (Xd7)<:>\n",
      "P(Xd7=1)=7/26\n",
      "P(Xd7=0)=7/26\n",
      "P(Xd7=3)=3/13\n",
      "P(Xd7=2)=3/13\n",
      "</:>\n",
      "|(Zd7=2) has probability 25/77\n",
      "Distribution of (Xd7)<:>\n",
      "P(Xd7=2)=7/25\n",
      "P(Xd7=1)=6/25\n",
      "P(Xd7=0)=6/25\n",
      "P(Xd7=3)=6/25\n",
      "</:>\n",
      "ys conditional variables [()]\n",
      "|() has probability 1\n",
      "Distribution of (Zd7,Xd7)<:>\n",
      "P(Zd7=0,Xd7=0)=1/11\n",
      "P(Zd7=1,Xd7=1)=1/11\n",
      "P(Zd7=2,Xd7=2)=1/11\n",
      "P(Zd7=0,Xd7=3)=1/11\n",
      "P(Zd7=1,Xd7=0)=1/11\n",
      "P(Zd7=2,Xd7=1)=6/77\n",
      "P(Zd7=0,Xd7=2)=6/77\n",
      "P(Zd7=1,Xd7=3)=6/77\n",
      "P(Zd7=2,Xd7=0)=6/77\n",
      "P(Zd7=0,Xd7=1)=6/77\n",
      "P(Zd7=1,Xd7=2)=6/77\n",
      "P(Zd7=2,Xd7=3)=6/77\n",
      "</:>\n",
      "ys conditional variables [(0,), (1,), (2,), (3,)]\n",
      "|(Xd7=0) has probability 20/77\n",
      "Distribution of (Zd7)<:>\n",
      "P(Zd7=0)=7/20\n",
      "P(Zd7=1)=7/20\n",
      "P(Zd7=2)=3/10\n",
      "</:>\n",
      "|(Xd7=1) has probability 19/77\n",
      "Distribution of (Zd7)<:>\n",
      "P(Zd7=1)=7/19\n",
      "P(Zd7=2)=6/19\n",
      "P(Zd7=0)=6/19\n",
      "</:>\n",
      "|(Xd7=2) has probability 19/77\n",
      "Distribution of (Zd7)<:>\n",
      "P(Zd7=2)=7/19\n",
      "P(Zd7=0)=6/19\n",
      "P(Zd7=1)=6/19\n",
      "</:>\n",
      "|(Xd7=3) has probability 19/77\n",
      "Distribution of (Zd7)<:>\n",
      "P(Zd7=0)=7/19\n",
      "P(Zd7=1)=6/19\n",
      "P(Zd7=2)=6/19\n",
      "</:>\n"
     ]
    }
   ],
   "source": [
    "d7 = ProbabilitySpace(77)\n",
    "\n",
    "Xd7 = RandomVariables(d7,name('Xd7',lambda omega: omega%4))\n",
    "Zd7 = RandomVariables(d7,name('Zd7',lambda omega: omega%3))\n",
    "XZd7 = join([Xd7,Zd7])\n",
    "print(XZd7.distribution())\n",
    "print(XZd7.are_independant(['Xd7'],['Zd7'],print_counter_example=True))\n",
    "XZd7.print_distribution()\n",
    "XZd7.print_variables()\n",
    "XZd7.condition(['Zd7'])\n",
    "XZd7.print_distributions()\n",
    "XZd7.uncondition(['Zd7'])\n",
    "XZd7.print_distributions()\n",
    "XZd7.condition(['Xd7'])\n",
    "XZd7.print_distributions()"
   ]
  },
  {
   "cell_type": "markdown",
   "metadata": {},
   "source": [
    "### Une autre relation d'indépendance conditionnelle avec $\\Omega$ espace de mots binaires."
   ]
  },
  {
   "cell_type": "markdown",
   "metadata": {},
   "source": [
    "Supposons que $\\Omega$ soit l'ensemble des mots binaires de taille $5$, donc $\\Omega := \\{00000,00001,\\ldots 11111\\}$.\n",
    "Pour en faire un espace probabilisé nous mettons une probabilité uniforme $\\frac{1}{2^5}=\\frac{1}{32}$ à chacun de ces mots.\n",
    "\n",
    "Nous allons d'abord construire $3$ variables aléatoires $X',Y'$ et $Z'$ sur $\\Omega$ qui seront évidemment indépendantes. Pour un mot $w:=\\omega$ on utilise pour tout sous-ensemble de ses indices, la notation $w_I$ pour le sous-mot de $w=w_0w_1w_2w_3w_4$ formé des lettres aux indices de $I$ (et donc dans le même ordre). Nous utilisons aussi $\\mathsf{bin}(w)$ pour la valeur en binaire de $w$.\n",
    "\n",
    "$$ X'(w) = \\mathsf{bin}(w_{\\{0\\}}), Y'(w) = \\mathsf{bin}(w_{\\{1,2,3\\}}), Z'(w)=\\mathsf{bin}(w_{\\{4\\}}).$$\n",
    "\n",
    "Comme dans $\\Omega$ les lettres $w_i$ sont indépendantes nous en déduisons que les variables $X',Y,'$ et $Z'$ le sont aussi\n",
    "\n",
    "$$ P(X'=x',Y'=y',Z'=z') = P(X'=x')P(Y'=y')P(Z'=z').$$\n",
    "\n",
    "Nous voyons donc que la lecture indépendante de lettres indépendantes conduit à des variables indépendantes."
   ]
  },
  {
   "cell_type": "markdown",
   "metadata": {},
   "source": [
    "Si nos considération sont valable pour toute réalisation de $Z'$ (ici $z'(w)=0$ aussi bien $z'(w)=1$), nous pouvons rassembler ces réalisations dans la notation $P(X',Y'|Z')$ sans discuter de la valeur de $z'(w)$.\n",
    "\n",
    "Autrement dit, la notation $|Z'=z'(w)$ dans $P(X',Y'|Z'=z'(w))$ indique que parmi les triplets $(X'(w),Y'(w),Z'(w))$ nous ne retenons que les triplets où $Z'(w)=z'(w)$.\n",
    "\n",
    "En python, dans une compréhension cela s'écrit [ (X'(w),Y'(w),Z'(w)) for w in Omega.all_omegas() if Z'(w) == k] avec $k=0$ ou $k=1$\n",
    "\n",
    "Ici nous obtenons la partition des variables jointes, en deux, chacune définie par la valeur de $z'(w) = k$:\n",
    "\n",
    "[ (X(w),Y(w), 1) for w in $1(0+1)^4$]\n",
    "\n",
    "et \n",
    "\n",
    "[ (X(w),Y(w), 0) for w in $0(0+1)^4$]."
   ]
  },
  {
   "cell_type": "markdown",
   "metadata": {},
   "source": [
    "induits l'indépendance de $X(w)$ et $Y(w)$, nous notons cette indépendance conditionnelle  sans discuter de la valeur de $Z$ par $P(X,Y |Z)$. \n",
    "    \n",
    "\n",
    "\n",
    "Nous allons briser, _mais pas trop_, cette belle régularité qui jusque là permettait de factoriser les probabilités.\n",
    "\n",
    "Nous allons définir les variables $X$, $Y$ et $Z$ de la façon suivante:\n",
    "\n",
    "- $Z(w) = \\mathsf{bin}(w_{\\{0,\\}})$ est le résultat d'une pièce non-biaisée qui va influencer la définition des variables $X$ et $Y$ car on utilise la notation $w=z(w)w'$ donc $w=0w'$ ou bien $w=1w'$.\n",
    "\n",
    "- Si $Z(w)=0$: $X(0w') = \\mathsf{bin}(w_{\\{1\\}})$ et $Y(0w') = \\mathsf{bin}(w_{\\{2,3,4\\}})$.\n",
    "\n",
    "- Si $Z(w)=1$: $X(1w') = \\mathsf{bin}(w_{\\{1,2,3\\}})$ et $Y(1w')=\\mathsf{bin}(w_{\\{4\\}})$.\n",
    "    \n",
    "Nous observons par les arguments précédents, que si $Z(w)$ est connu $X$ et $Y$ sont bien indépendants:\n",
    "\n",
    "$$ P(X,Y|Z=z(w)) = P(X|Z=z(w))P(Y|Z=z(w))$$\n",
    "\n",
    "où la notation $|Z=z(w)$ indique que parmi les triplets $(X(w),Y(w),Z(w))$ nous ne retenons que les triplets où $Z(w)=z(w)$.\n",
    "\n",
    "\n",
    " "
   ]
  },
  {
   "cell_type": "markdown",
   "metadata": {},
   "source": [
    "TODO: Calculer l'entier en binaire associé par un tuple de bits."
   ]
  },
  {
   "cell_type": "code",
   "execution_count": 5,
   "metadata": {},
   "outputs": [],
   "source": [
    "def my_bin(w:Tuple[int])->int:\n",
    "    return sum((2**i)*w[i] for i in range(len(w)))"
   ]
  },
  {
   "cell_type": "code",
   "execution_count": 6,
   "metadata": {},
   "outputs": [
    {
     "name": "stdout",
     "output_type": "stream",
     "text": [
      "5\n",
      "0\n"
     ]
    }
   ],
   "source": [
    "print(my_bin((1,0,1)))\n",
    "print(my_bin(()))\n"
   ]
  },
  {
   "cell_type": "markdown",
   "metadata": {},
   "source": [
    "TODO: Définir le générateur d'espaces probabiliste donnant la mesure uniforme sur tout les tuples binaire de taille $k$:"
   ]
  },
  {
   "cell_type": "code",
   "execution_count": 54,
   "metadata": {},
   "outputs": [],
   "source": [
    "def generate_OmegaBin_k(k:int)->ProbabilitySpace:\n",
    "    mes={bin:1/(2**k) for bin in itertools.product(range(2),repeat=k)}\n",
    "    space = ProbabilitySpace(nb_events=len(mes),measure=mes)\n",
    "    return space"
   ]
  },
  {
   "cell_type": "code",
   "execution_count": 55,
   "metadata": {},
   "outputs": [
    {
     "name": "stdout",
     "output_type": "stream",
     "text": [
      "{(0, 0, 0, 0, 0): 0.03125, (0, 0, 0, 0, 1): 0.03125, (0, 0, 0, 1, 0): 0.03125, (0, 0, 0, 1, 1): 0.03125, (0, 0, 1, 0, 0): 0.03125, (0, 0, 1, 0, 1): 0.03125, (0, 0, 1, 1, 0): 0.03125, (0, 0, 1, 1, 1): 0.03125, (0, 1, 0, 0, 0): 0.03125, (0, 1, 0, 0, 1): 0.03125, (0, 1, 0, 1, 0): 0.03125, (0, 1, 0, 1, 1): 0.03125, (0, 1, 1, 0, 0): 0.03125, (0, 1, 1, 0, 1): 0.03125, (0, 1, 1, 1, 0): 0.03125, (0, 1, 1, 1, 1): 0.03125, (1, 0, 0, 0, 0): 0.03125, (1, 0, 0, 0, 1): 0.03125, (1, 0, 0, 1, 0): 0.03125, (1, 0, 0, 1, 1): 0.03125, (1, 0, 1, 0, 0): 0.03125, (1, 0, 1, 0, 1): 0.03125, (1, 0, 1, 1, 0): 0.03125, (1, 0, 1, 1, 1): 0.03125, (1, 1, 0, 0, 0): 0.03125, (1, 1, 0, 0, 1): 0.03125, (1, 1, 0, 1, 0): 0.03125, (1, 1, 0, 1, 1): 0.03125, (1, 1, 1, 0, 0): 0.03125, (1, 1, 1, 0, 1): 0.03125, (1, 1, 1, 1, 0): 0.03125, (1, 1, 1, 1, 1): 0.03125}\n",
      "(0, 0, 0, 0, 0)\n",
      "(0, 0, 0, 0, 1)\n",
      "(0, 0, 0, 1, 0)\n",
      "(0, 0, 0, 1, 1)\n",
      "(0, 0, 1, 0, 0)\n",
      "(0, 0, 1, 0, 1)\n",
      "(0, 0, 1, 1, 0)\n",
      "(0, 0, 1, 1, 1)\n",
      "(0, 1, 0, 0, 0)\n",
      "(0, 1, 0, 0, 1)\n",
      "(0, 1, 0, 1, 0)\n",
      "(0, 1, 0, 1, 1)\n",
      "(0, 1, 1, 0, 0)\n",
      "(0, 1, 1, 0, 1)\n",
      "(0, 1, 1, 1, 0)\n",
      "(0, 1, 1, 1, 1)\n",
      "(1, 0, 0, 0, 0)\n",
      "(1, 0, 0, 0, 1)\n",
      "(1, 0, 0, 1, 0)\n",
      "(1, 0, 0, 1, 1)\n",
      "(1, 0, 1, 0, 0)\n",
      "(1, 0, 1, 0, 1)\n",
      "(1, 0, 1, 1, 0)\n",
      "(1, 0, 1, 1, 1)\n",
      "(1, 1, 0, 0, 0)\n",
      "(1, 1, 0, 0, 1)\n",
      "(1, 1, 0, 1, 0)\n",
      "(1, 1, 0, 1, 1)\n",
      "(1, 1, 1, 0, 0)\n",
      "(1, 1, 1, 0, 1)\n",
      "(1, 1, 1, 1, 0)\n",
      "(1, 1, 1, 1, 1)\n"
     ]
    }
   ],
   "source": [
    "OmegaBin_5 = generate_OmegaBin_k(5)\n",
    "print(OmegaBin_5.measure)\n",
    "for w in OmegaBin_5.all_omegas():\n",
    "    print(w)"
   ]
  },
  {
   "cell_type": "markdown",
   "metadata": {},
   "source": [
    "TODO: Définir les variables $X$, $Y$ et $Z$ sur les mots binaires de 5 bits vue précédemment."
   ]
  },
  {
   "cell_type": "code",
   "execution_count": 56,
   "metadata": {},
   "outputs": [],
   "source": [
    "Bin_5_variables = [\\\n",
    "        name('X',lambda w: bin(w[1:4]) if w[0]==0 else bin(w[1:2])),\\\n",
    "        name('Y',lambda w: bin(w[4:5]) if w[0]==0 else bin(w[2:5])),\\\n",
    "        name('Z',lambda w: bin(w[0:1])),\\\n",
    "    ]\n",
    "\n",
    "RBin_5 = RandomVariables(OmegaBin_5,tuple(Bin_5_variables))"
   ]
  },
  {
   "cell_type": "code",
   "execution_count": 57,
   "metadata": {},
   "outputs": [
    {
     "name": "stdout",
     "output_type": "stream",
     "text": [
      "ys conditional variables [()]\n",
      "|() has probability 1.0\n"
     ]
    },
    {
     "ename": "TypeError",
     "evalue": "'tuple' object cannot be interpreted as an integer",
     "output_type": "error",
     "traceback": [
      "\u001b[1;31m---------------------------------------------------------------------------\u001b[0m",
      "\u001b[1;31mTypeError\u001b[0m                                 Traceback (most recent call last)",
      "Cell \u001b[1;32mIn [57], line 1\u001b[0m\n\u001b[1;32m----> 1\u001b[0m RBin_5\u001b[39m.\u001b[39;49mprint_distributions()\n\u001b[0;32m      2\u001b[0m are_XY_independant \u001b[39m=\u001b[39m RBin_5\u001b[39m.\u001b[39mare_independant([\u001b[39m'\u001b[39m\u001b[39mX\u001b[39m\u001b[39m'\u001b[39m],[\u001b[39m'\u001b[39m\u001b[39mY\u001b[39m\u001b[39m'\u001b[39m])\n\u001b[0;32m      3\u001b[0m \u001b[39mprint\u001b[39m(\u001b[39mf\u001b[39m\u001b[39m'\u001b[39m\u001b[39mare X,Y independant \u001b[39m\u001b[39m{\u001b[39;00mare_XY_independant\u001b[39m}\u001b[39;00m\u001b[39m \u001b[39m\u001b[39m'\u001b[39m)\n",
      "Cell \u001b[1;32mIn [22], line 153\u001b[0m, in \u001b[0;36mRandomVariables.print_distributions\u001b[1;34m(self)\u001b[0m\n\u001b[0;32m    151\u001b[0m conditioning_evaluations \u001b[39m=\u001b[39m [\u001b[39mf\u001b[39m\u001b[39m'\u001b[39m\u001b[39m{\u001b[39;00m\u001b[39mself\u001b[39m\u001b[39m.\u001b[39mYs[j]\u001b[39m.\u001b[39m\u001b[39m__qualname__\u001b[39m\u001b[39m}\u001b[39;00m\u001b[39m=\u001b[39m\u001b[39m{\u001b[39;00mys[j]\u001b[39m}\u001b[39;00m\u001b[39m'\u001b[39m \u001b[39mfor\u001b[39;00m j \u001b[39min\u001b[39;00m \u001b[39mrange\u001b[39m(\u001b[39mlen\u001b[39m(\u001b[39mself\u001b[39m\u001b[39m.\u001b[39mYs))]\n\u001b[0;32m    152\u001b[0m \u001b[39mprint\u001b[39m(\u001b[39m'\u001b[39m\u001b[39m|(\u001b[39m\u001b[39m'\u001b[39m\u001b[39m+\u001b[39m\u001b[39m'\u001b[39m\u001b[39m,\u001b[39m\u001b[39m'\u001b[39m\u001b[39m.\u001b[39mjoin(conditioning_evaluations)\u001b[39m+\u001b[39m\u001b[39mf\u001b[39m\u001b[39m'\u001b[39m\u001b[39m) has probability \u001b[39m\u001b[39m{\u001b[39;00mys_probabilities[ys]\u001b[39m}\u001b[39;00m\u001b[39m'\u001b[39m)\n\u001b[1;32m--> 153\u001b[0m ys_conditional_variables[ys]\u001b[39m.\u001b[39;49mprint_distribution()\n",
      "Cell \u001b[1;32mIn [22], line 137\u001b[0m, in \u001b[0;36mRandomVariables.print_distribution\u001b[1;34m(self)\u001b[0m\n\u001b[0;32m    136\u001b[0m \u001b[39mdef\u001b[39;00m \u001b[39mprint_distribution\u001b[39m(\u001b[39mself\u001b[39m):\n\u001b[1;32m--> 137\u001b[0m     d \u001b[39m=\u001b[39m \u001b[39mself\u001b[39;49m\u001b[39m.\u001b[39;49mdistribution()\n\u001b[0;32m    138\u001b[0m     names \u001b[39m=\u001b[39m [\u001b[39mself\u001b[39m\u001b[39m.\u001b[39mXs[i]\u001b[39m.\u001b[39m\u001b[39m__qualname__\u001b[39m \u001b[39mfor\u001b[39;00m i \u001b[39min\u001b[39;00m \u001b[39mrange\u001b[39m(\u001b[39mlen\u001b[39m(\u001b[39mself\u001b[39m\u001b[39m.\u001b[39mXs))]\n\u001b[0;32m    139\u001b[0m     concatenated_names \u001b[39m=\u001b[39m \u001b[39m'\u001b[39m\u001b[39m,\u001b[39m\u001b[39m'\u001b[39m\u001b[39m.\u001b[39mjoin(names)\n",
      "Cell \u001b[1;32mIn [22], line 37\u001b[0m, in \u001b[0;36mRandomVariables.distribution\u001b[1;34m(self)\u001b[0m\n\u001b[0;32m     34\u001b[0m d \u001b[39m=\u001b[39m {}\n\u001b[0;32m     35\u001b[0m \u001b[39mfor\u001b[39;00m omega \u001b[39min\u001b[39;00m \u001b[39mself\u001b[39m\u001b[39m.\u001b[39mOmega\u001b[39m.\u001b[39mall_omegas():\n\u001b[0;32m     36\u001b[0m     \u001b[39m#print(f'omega {omega}')\u001b[39;00m\n\u001b[1;32m---> 37\u001b[0m     Xomega \u001b[39m=\u001b[39m \u001b[39mself\u001b[39;49m\u001b[39m.\u001b[39;49meval_at_event(omega)\n\u001b[0;32m     38\u001b[0m     \u001b[39mif\u001b[39;00m Xomega \u001b[39mnot\u001b[39;00m \u001b[39min\u001b[39;00m d:\n\u001b[0;32m     39\u001b[0m         d[Xomega] \u001b[39m=\u001b[39m \u001b[39m0\u001b[39m\n",
      "Cell \u001b[1;32mIn [22], line 29\u001b[0m, in \u001b[0;36mRandomVariables.eval_at_event\u001b[1;34m(self, omega)\u001b[0m\n\u001b[0;32m     27\u001b[0m \u001b[39mdef\u001b[39;00m \u001b[39meval_at_event\u001b[39m(\u001b[39mself\u001b[39m,omega):\n\u001b[0;32m     28\u001b[0m     \u001b[39m#print(f'eval_at_event self {self} omega {omega}')\u001b[39;00m\n\u001b[1;32m---> 29\u001b[0m     \u001b[39mreturn\u001b[39;00m \u001b[39mtuple\u001b[39m([ \u001b[39mself\u001b[39m\u001b[39m.\u001b[39mXs[i](omega) \u001b[39mfor\u001b[39;00m i \u001b[39min\u001b[39;00m \u001b[39mrange\u001b[39m(\u001b[39mlen\u001b[39m(\u001b[39mself\u001b[39m\u001b[39m.\u001b[39mXs)) ])\n",
      "Cell \u001b[1;32mIn [22], line 29\u001b[0m, in \u001b[0;36m<listcomp>\u001b[1;34m(.0)\u001b[0m\n\u001b[0;32m     27\u001b[0m \u001b[39mdef\u001b[39;00m \u001b[39meval_at_event\u001b[39m(\u001b[39mself\u001b[39m,omega):\n\u001b[0;32m     28\u001b[0m     \u001b[39m#print(f'eval_at_event self {self} omega {omega}')\u001b[39;00m\n\u001b[1;32m---> 29\u001b[0m     \u001b[39mreturn\u001b[39;00m \u001b[39mtuple\u001b[39m([ \u001b[39mself\u001b[39;49m\u001b[39m.\u001b[39;49mXs[i](omega) \u001b[39mfor\u001b[39;00m i \u001b[39min\u001b[39;00m \u001b[39mrange\u001b[39m(\u001b[39mlen\u001b[39m(\u001b[39mself\u001b[39m\u001b[39m.\u001b[39mXs)) ])\n",
      "Cell \u001b[1;32mIn [56], line 2\u001b[0m, in \u001b[0;36m<lambda>\u001b[1;34m(w)\u001b[0m\n\u001b[0;32m      1\u001b[0m Bin_5_variables \u001b[39m=\u001b[39m [\\\n\u001b[1;32m----> 2\u001b[0m         name(\u001b[39m'\u001b[39m\u001b[39mX\u001b[39m\u001b[39m'\u001b[39m,\u001b[39mlambda\u001b[39;00m w: \u001b[39mbin\u001b[39;49m(w[\u001b[39m1\u001b[39;49m:\u001b[39m4\u001b[39;49m]) \u001b[39mif\u001b[39;00m w[\u001b[39m0\u001b[39m]\u001b[39m==\u001b[39m\u001b[39m0\u001b[39m \u001b[39melse\u001b[39;00m \u001b[39mbin\u001b[39m(w[\u001b[39m1\u001b[39m:\u001b[39m2\u001b[39m])),\\\n\u001b[0;32m      3\u001b[0m         name(\u001b[39m'\u001b[39m\u001b[39mY\u001b[39m\u001b[39m'\u001b[39m,\u001b[39mlambda\u001b[39;00m w: \u001b[39mbin\u001b[39m(w[\u001b[39m4\u001b[39m:\u001b[39m5\u001b[39m]) \u001b[39mif\u001b[39;00m w[\u001b[39m0\u001b[39m]\u001b[39m==\u001b[39m\u001b[39m0\u001b[39m \u001b[39melse\u001b[39;00m \u001b[39mbin\u001b[39m(w[\u001b[39m2\u001b[39m:\u001b[39m5\u001b[39m])),\\\n\u001b[0;32m      4\u001b[0m         name(\u001b[39m'\u001b[39m\u001b[39mZ\u001b[39m\u001b[39m'\u001b[39m,\u001b[39mlambda\u001b[39;00m w: \u001b[39mbin\u001b[39m(w[\u001b[39m0\u001b[39m:\u001b[39m1\u001b[39m])),\\\n\u001b[0;32m      5\u001b[0m     ]\n\u001b[0;32m      7\u001b[0m RBin_5 \u001b[39m=\u001b[39m RandomVariables(OmegaBin_5,\u001b[39mtuple\u001b[39m(Bin_5_variables))\n",
      "\u001b[1;31mTypeError\u001b[0m: 'tuple' object cannot be interpreted as an integer"
     ]
    }
   ],
   "source": [
    "RBin_5.print_distributions()\n",
    "are_XY_independant = RBin_5.are_independant(['X'],['Y'])\n",
    "print(f'are X,Y independant {are_XY_independant} ')"
   ]
  },
  {
   "cell_type": "markdown",
   "metadata": {},
   "source": [
    "### Toutes les relations d'indépendance conditionnelle"
   ]
  },
  {
   "cell_type": "markdown",
   "metadata": {},
   "source": [
    "Pour un ensemble de $k$ variables aléatoires $X_1,\\ldots X_k$ sur le même espace de probabilité $\\Omega$, on se donne: $X$, $Y$ et $Z$ trois sous-ensembles disjoints de variables tels que $X$ et $Y$ soient non-vide.\n",
    "\n",
    "Pour chaque triplet, nous voulons savoir si $X$ et $Y$ sont indépendants sachant $Z$. \n",
    "\n",
    "Autrement dit, dans une approximation intuitive que nous revisiterons plus tard, l'ensemble $Z$ contient tout ce qui pourrait être commun à la définition de $X$ et $Y$ et rien de ce qui pourrait être déduit à la fois des réalisations $X$ et $Y$.\n",
    "\n",
    "Cela se donne $I(X,Y,Z) := X\\perp\\!\\!\\!\\perp Y | Z$\n",
    "et se nomme l'__indépendance de $X$ et $Y$ conditionellement à $Z$__. \n",
    "\n",
    "Par définition \n",
    "$$ X\\perp\\!\\!\\!\\perp Y | Z \\iff \\forall z \\left(,\\exists \\omega\\in \\Omega,z=Z(\\omega) \\implies \\right) P(X,Y|Z=z)=P(X|Z=z)P(Y|Z=z).$$\n",
    "\n",
    "C'est cette définition que nous pouvons tester avec __RandomVariables.are_conditionaly_independant__ sur tous les triplets de variables qu'il est possible d'énumérer avec __RandomVariables.list_all_possible_conditional_independances__ "
   ]
  },
  {
   "cell_type": "code",
   "execution_count": 58,
   "metadata": {},
   "outputs": [
    {
     "name": "stdout",
     "output_type": "stream",
     "text": [
      "ys conditional variables [()]\n",
      "|() has probability 1\n",
      "Distribution of (X,Y,Z,T)<:>\n",
      "P(X=0,Y=5,Z=0,T=0)=1/60\n",
      "P(X=1,Y=1,Z=2,T=1)=1/60\n",
      "P(X=0,Y=4,Z=4,T=4)=1/60\n",
      "P(X=1,Y=0,Z=6,T=9)=1/60\n",
      "P(X=0,Y=3,Z=8,T=3)=1/60\n",
      "P(X=1,Y=6,Z=1,T=12)=1/60\n",
      "P(X=0,Y=2,Z=3,T=10)=1/60\n",
      "P(X=1,Y=5,Z=5,T=10)=1/60\n",
      "P(X=0,Y=1,Z=7,T=12)=1/60\n",
      "P(X=1,Y=4,Z=0,T=3)=1/60\n",
      "P(X=0,Y=0,Z=2,T=9)=1/60\n",
      "P(X=1,Y=3,Z=4,T=4)=1/60\n",
      "P(X=0,Y=6,Z=6,T=1)=1/60\n",
      "P(X=1,Y=2,Z=8,T=0)=1/60\n",
      "P(X=0,Y=5,Z=1,T=1)=1/60\n",
      "P(X=1,Y=1,Z=3,T=4)=1/60\n",
      "P(X=0,Y=4,Z=5,T=9)=1/60\n",
      "P(X=1,Y=0,Z=7,T=3)=1/60\n",
      "P(X=0,Y=3,Z=0,T=12)=1/60\n",
      "P(X=1,Y=6,Z=2,T=10)=1/60\n",
      "P(X=0,Y=2,Z=4,T=10)=1/60\n",
      "P(X=1,Y=5,Z=6,T=12)=1/60\n",
      "P(X=0,Y=1,Z=8,T=3)=1/60\n",
      "P(X=1,Y=4,Z=1,T=9)=1/60\n",
      "P(X=0,Y=0,Z=3,T=4)=1/60\n",
      "P(X=1,Y=3,Z=5,T=1)=1/60\n",
      "P(X=0,Y=6,Z=7,T=0)=1/60\n",
      "P(X=1,Y=2,Z=0,T=1)=1/60\n",
      "P(X=0,Y=5,Z=2,T=4)=1/60\n",
      "P(X=1,Y=1,Z=4,T=9)=1/60\n",
      "P(X=0,Y=4,Z=6,T=3)=1/60\n",
      "P(X=1,Y=0,Z=8,T=12)=1/60\n",
      "P(X=0,Y=3,Z=1,T=10)=1/60\n",
      "P(X=1,Y=6,Z=3,T=10)=1/60\n",
      "P(X=0,Y=2,Z=5,T=12)=1/60\n",
      "P(X=1,Y=5,Z=7,T=3)=1/60\n",
      "P(X=0,Y=1,Z=0,T=9)=1/60\n",
      "P(X=1,Y=4,Z=2,T=4)=1/60\n",
      "P(X=0,Y=0,Z=4,T=1)=1/60\n",
      "P(X=1,Y=3,Z=6,T=0)=1/60\n",
      "P(X=0,Y=6,Z=8,T=1)=1/60\n",
      "P(X=1,Y=2,Z=1,T=4)=1/60\n",
      "P(X=0,Y=5,Z=3,T=9)=1/60\n",
      "P(X=1,Y=1,Z=5,T=3)=1/60\n",
      "P(X=0,Y=4,Z=7,T=12)=1/60\n",
      "P(X=1,Y=0,Z=0,T=10)=1/60\n",
      "P(X=0,Y=3,Z=2,T=10)=1/60\n",
      "P(X=1,Y=6,Z=4,T=12)=1/60\n",
      "P(X=0,Y=2,Z=6,T=3)=1/60\n",
      "P(X=1,Y=5,Z=8,T=9)=1/60\n",
      "P(X=0,Y=1,Z=1,T=4)=1/60\n",
      "P(X=1,Y=4,Z=3,T=1)=1/60\n",
      "P(X=0,Y=0,Z=5,T=0)=1/60\n",
      "P(X=1,Y=3,Z=7,T=1)=1/60\n",
      "P(X=0,Y=6,Z=0,T=4)=1/60\n",
      "P(X=1,Y=2,Z=2,T=9)=1/60\n",
      "P(X=0,Y=5,Z=4,T=3)=1/60\n",
      "P(X=1,Y=1,Z=6,T=12)=1/60\n",
      "P(X=0,Y=4,Z=8,T=10)=1/60\n",
      "P(X=1,Y=0,Z=1,T=10)=1/60\n",
      "</:>\n"
     ]
    }
   ],
   "source": [
    "d60 = ProbabilitySpace(60)\n",
    "\n",
    "Xs = [\\\n",
    "      name('X',lambda omega: omega % 2),\\\n",
    "      name('Y',lambda omega: (3*omega+5)%7),\\\n",
    "      name('Z',lambda omega: 2*omega%9),\\\n",
    "      name('T',lambda omega: omega**2%13),\\\n",
    "     ]\n",
    "\n",
    "XYZT = RandomVariables(d60,tuple(Xs))\n",
    "\n",
    "XYZT.print_distributions()\n",
    "\n"
   ]
  },
  {
   "cell_type": "markdown",
   "metadata": {},
   "source": [
    "L'exemple \"aléatoire à la main\" étudier nous suggère donc d'étudier la distribution $TX|YZ$ qui montre pour chaque $Y$ et $Z$ fixés l'indépendance de $T$ et $X$."
   ]
  },
  {
   "cell_type": "code",
   "execution_count": 59,
   "metadata": {},
   "outputs": [
    {
     "name": "stdout",
     "output_type": "stream",
     "text": [
      "0:1:|2:3:\n",
      "X,T |Y,Z \n",
      "ys conditional variables [(5, 0), (1, 2), (4, 4), (0, 6), (3, 8), (6, 1), (2, 3), (5, 5), (1, 7), (4, 0), (0, 2), (3, 4), (6, 6), (2, 8), (5, 1), (1, 3), (4, 5), (0, 7), (3, 0), (6, 2), (2, 4), (5, 6), (1, 8), (4, 1), (0, 3), (3, 5), (6, 7), (2, 0), (5, 2), (1, 4), (4, 6), (0, 8), (3, 1), (6, 3), (2, 5), (5, 7), (1, 0), (4, 2), (0, 4), (3, 6), (6, 8), (2, 1), (5, 3), (1, 5), (4, 7), (0, 0), (3, 2), (6, 4), (2, 6), (5, 8), (1, 1), (4, 3), (0, 5), (3, 7), (6, 0), (2, 2), (5, 4), (1, 6), (4, 8), (0, 1)]\n",
      "|(Y=5,Z=0) has probability 1/60\n",
      "Distribution of (X,T)<:>\n",
      "P(X=0,T=0)=1\n",
      "</:>\n",
      "|(Y=1,Z=2) has probability 1/60\n",
      "Distribution of (X,T)<:>\n",
      "P(X=1,T=1)=1\n",
      "</:>\n",
      "|(Y=4,Z=4) has probability 1/60\n",
      "Distribution of (X,T)<:>\n",
      "P(X=0,T=4)=1\n",
      "</:>\n",
      "|(Y=0,Z=6) has probability 1/60\n",
      "Distribution of (X,T)<:>\n",
      "P(X=1,T=9)=1\n",
      "</:>\n",
      "|(Y=3,Z=8) has probability 1/60\n",
      "Distribution of (X,T)<:>\n",
      "P(X=0,T=3)=1\n",
      "</:>\n",
      "|(Y=6,Z=1) has probability 1/60\n",
      "Distribution of (X,T)<:>\n",
      "P(X=1,T=12)=1\n",
      "</:>\n",
      "|(Y=2,Z=3) has probability 1/60\n",
      "Distribution of (X,T)<:>\n",
      "P(X=0,T=10)=1\n",
      "</:>\n",
      "|(Y=5,Z=5) has probability 1/60\n",
      "Distribution of (X,T)<:>\n",
      "P(X=1,T=10)=1\n",
      "</:>\n",
      "|(Y=1,Z=7) has probability 1/60\n",
      "Distribution of (X,T)<:>\n",
      "P(X=0,T=12)=1\n",
      "</:>\n",
      "|(Y=4,Z=0) has probability 1/60\n",
      "Distribution of (X,T)<:>\n",
      "P(X=1,T=3)=1\n",
      "</:>\n",
      "|(Y=0,Z=2) has probability 1/60\n",
      "Distribution of (X,T)<:>\n",
      "P(X=0,T=9)=1\n",
      "</:>\n",
      "|(Y=3,Z=4) has probability 1/60\n",
      "Distribution of (X,T)<:>\n",
      "P(X=1,T=4)=1\n",
      "</:>\n",
      "|(Y=6,Z=6) has probability 1/60\n",
      "Distribution of (X,T)<:>\n",
      "P(X=0,T=1)=1\n",
      "</:>\n",
      "|(Y=2,Z=8) has probability 1/60\n",
      "Distribution of (X,T)<:>\n",
      "P(X=1,T=0)=1\n",
      "</:>\n",
      "|(Y=5,Z=1) has probability 1/60\n",
      "Distribution of (X,T)<:>\n",
      "P(X=0,T=1)=1\n",
      "</:>\n",
      "|(Y=1,Z=3) has probability 1/60\n",
      "Distribution of (X,T)<:>\n",
      "P(X=1,T=4)=1\n",
      "</:>\n",
      "|(Y=4,Z=5) has probability 1/60\n",
      "Distribution of (X,T)<:>\n",
      "P(X=0,T=9)=1\n",
      "</:>\n",
      "|(Y=0,Z=7) has probability 1/60\n",
      "Distribution of (X,T)<:>\n",
      "P(X=1,T=3)=1\n",
      "</:>\n",
      "|(Y=3,Z=0) has probability 1/60\n",
      "Distribution of (X,T)<:>\n",
      "P(X=0,T=12)=1\n",
      "</:>\n",
      "|(Y=6,Z=2) has probability 1/60\n",
      "Distribution of (X,T)<:>\n",
      "P(X=1,T=10)=1\n",
      "</:>\n",
      "|(Y=2,Z=4) has probability 1/60\n",
      "Distribution of (X,T)<:>\n",
      "P(X=0,T=10)=1\n",
      "</:>\n",
      "|(Y=5,Z=6) has probability 1/60\n",
      "Distribution of (X,T)<:>\n",
      "P(X=1,T=12)=1\n",
      "</:>\n",
      "|(Y=1,Z=8) has probability 1/60\n",
      "Distribution of (X,T)<:>\n",
      "P(X=0,T=3)=1\n",
      "</:>\n",
      "|(Y=4,Z=1) has probability 1/60\n",
      "Distribution of (X,T)<:>\n",
      "P(X=1,T=9)=1\n",
      "</:>\n",
      "|(Y=0,Z=3) has probability 1/60\n",
      "Distribution of (X,T)<:>\n",
      "P(X=0,T=4)=1\n",
      "</:>\n",
      "|(Y=3,Z=5) has probability 1/60\n",
      "Distribution of (X,T)<:>\n",
      "P(X=1,T=1)=1\n",
      "</:>\n",
      "|(Y=6,Z=7) has probability 1/60\n",
      "Distribution of (X,T)<:>\n",
      "P(X=0,T=0)=1\n",
      "</:>\n",
      "|(Y=2,Z=0) has probability 1/60\n",
      "Distribution of (X,T)<:>\n",
      "P(X=1,T=1)=1\n",
      "</:>\n",
      "|(Y=5,Z=2) has probability 1/60\n",
      "Distribution of (X,T)<:>\n",
      "P(X=0,T=4)=1\n",
      "</:>\n",
      "|(Y=1,Z=4) has probability 1/60\n",
      "Distribution of (X,T)<:>\n",
      "P(X=1,T=9)=1\n",
      "</:>\n",
      "|(Y=4,Z=6) has probability 1/60\n",
      "Distribution of (X,T)<:>\n",
      "P(X=0,T=3)=1\n",
      "</:>\n",
      "|(Y=0,Z=8) has probability 1/60\n",
      "Distribution of (X,T)<:>\n",
      "P(X=1,T=12)=1\n",
      "</:>\n",
      "|(Y=3,Z=1) has probability 1/60\n",
      "Distribution of (X,T)<:>\n",
      "P(X=0,T=10)=1\n",
      "</:>\n",
      "|(Y=6,Z=3) has probability 1/60\n",
      "Distribution of (X,T)<:>\n",
      "P(X=1,T=10)=1\n",
      "</:>\n",
      "|(Y=2,Z=5) has probability 1/60\n",
      "Distribution of (X,T)<:>\n",
      "P(X=0,T=12)=1\n",
      "</:>\n",
      "|(Y=5,Z=7) has probability 1/60\n",
      "Distribution of (X,T)<:>\n",
      "P(X=1,T=3)=1\n",
      "</:>\n",
      "|(Y=1,Z=0) has probability 1/60\n",
      "Distribution of (X,T)<:>\n",
      "P(X=0,T=9)=1\n",
      "</:>\n",
      "|(Y=4,Z=2) has probability 1/60\n",
      "Distribution of (X,T)<:>\n",
      "P(X=1,T=4)=1\n",
      "</:>\n",
      "|(Y=0,Z=4) has probability 1/60\n",
      "Distribution of (X,T)<:>\n",
      "P(X=0,T=1)=1\n",
      "</:>\n",
      "|(Y=3,Z=6) has probability 1/60\n",
      "Distribution of (X,T)<:>\n",
      "P(X=1,T=0)=1\n",
      "</:>\n",
      "|(Y=6,Z=8) has probability 1/60\n",
      "Distribution of (X,T)<:>\n",
      "P(X=0,T=1)=1\n",
      "</:>\n",
      "|(Y=2,Z=1) has probability 1/60\n",
      "Distribution of (X,T)<:>\n",
      "P(X=1,T=4)=1\n",
      "</:>\n",
      "|(Y=5,Z=3) has probability 1/60\n",
      "Distribution of (X,T)<:>\n",
      "P(X=0,T=9)=1\n",
      "</:>\n",
      "|(Y=1,Z=5) has probability 1/60\n",
      "Distribution of (X,T)<:>\n",
      "P(X=1,T=3)=1\n",
      "</:>\n",
      "|(Y=4,Z=7) has probability 1/60\n",
      "Distribution of (X,T)<:>\n",
      "P(X=0,T=12)=1\n",
      "</:>\n",
      "|(Y=0,Z=0) has probability 1/60\n",
      "Distribution of (X,T)<:>\n",
      "P(X=1,T=10)=1\n",
      "</:>\n",
      "|(Y=3,Z=2) has probability 1/60\n",
      "Distribution of (X,T)<:>\n",
      "P(X=0,T=10)=1\n",
      "</:>\n",
      "|(Y=6,Z=4) has probability 1/60\n",
      "Distribution of (X,T)<:>\n",
      "P(X=1,T=12)=1\n",
      "</:>\n",
      "|(Y=2,Z=6) has probability 1/60\n",
      "Distribution of (X,T)<:>\n",
      "P(X=0,T=3)=1\n",
      "</:>\n",
      "|(Y=5,Z=8) has probability 1/60\n",
      "Distribution of (X,T)<:>\n",
      "P(X=1,T=9)=1\n",
      "</:>\n",
      "|(Y=1,Z=1) has probability 1/60\n",
      "Distribution of (X,T)<:>\n",
      "P(X=0,T=4)=1\n",
      "</:>\n",
      "|(Y=4,Z=3) has probability 1/60\n",
      "Distribution of (X,T)<:>\n",
      "P(X=1,T=1)=1\n",
      "</:>\n",
      "|(Y=0,Z=5) has probability 1/60\n",
      "Distribution of (X,T)<:>\n",
      "P(X=0,T=0)=1\n",
      "</:>\n",
      "|(Y=3,Z=7) has probability 1/60\n",
      "Distribution of (X,T)<:>\n",
      "P(X=1,T=1)=1\n",
      "</:>\n",
      "|(Y=6,Z=0) has probability 1/60\n",
      "Distribution of (X,T)<:>\n",
      "P(X=0,T=4)=1\n",
      "</:>\n",
      "|(Y=2,Z=2) has probability 1/60\n",
      "Distribution of (X,T)<:>\n",
      "P(X=1,T=9)=1\n",
      "</:>\n",
      "|(Y=5,Z=4) has probability 1/60\n",
      "Distribution of (X,T)<:>\n",
      "P(X=0,T=3)=1\n",
      "</:>\n",
      "|(Y=1,Z=6) has probability 1/60\n",
      "Distribution of (X,T)<:>\n",
      "P(X=1,T=12)=1\n",
      "</:>\n",
      "|(Y=4,Z=8) has probability 1/60\n",
      "Distribution of (X,T)<:>\n",
      "P(X=0,T=10)=1\n",
      "</:>\n",
      "|(Y=0,Z=1) has probability 1/60\n",
      "Distribution of (X,T)<:>\n",
      "P(X=1,T=10)=1\n",
      "</:>\n"
     ]
    }
   ],
   "source": [
    "XYZT.condition(['Z','Y'])\n",
    "XYZT.print_variables()\n",
    "XYZT.print_distributions()"
   ]
  },
  {
   "cell_type": "markdown",
   "metadata": {},
   "source": [
    "Et sans trop de surprise, nous constatons que cette indépendance conditionnelle provient du fait que la connaissance de $Y$ et $Z$ détermine $\\omega$ et donc que les lois conditionnelle sont indépendantes car finalement réduite à un évènement atomique."
   ]
  },
  {
   "cell_type": "markdown",
   "metadata": {},
   "source": [
    "L'écriture de cette recension des relations d'indépendance conditionnelle nous permets de compléter la méthode __RandomVariables.list_all_conditional_independances__."
   ]
  },
  {
   "cell_type": "markdown",
   "metadata": {},
   "source": [
    "Nous allons considérer des indépendances un peu plus structurer sur l'exemple suivant (toujours sur $\\Omega=$__d60__) pour trouver des indépendances conditionnelles plus riches."
   ]
  },
  {
   "cell_type": "code",
   "execution_count": 60,
   "metadata": {},
   "outputs": [
    {
     "ename": "TypeError",
     "evalue": "object of type 'NoneType' has no len()",
     "output_type": "error",
     "traceback": [
      "\u001b[1;31m---------------------------------------------------------------------------\u001b[0m",
      "\u001b[1;31mTypeError\u001b[0m                                 Traceback (most recent call last)",
      "Cell \u001b[1;32mIn [60], line 11\u001b[0m\n\u001b[0;32m      9\u001b[0m R \u001b[39m=\u001b[39m RandomVariables(d60,\u001b[39mtuple\u001b[39m(Xs))\n\u001b[0;32m     10\u001b[0m triplets \u001b[39m=\u001b[39m R\u001b[39m.\u001b[39mlist_all_conditional_independances(debug\u001b[39m=\u001b[39m\u001b[39mTrue\u001b[39;00m)\n\u001b[1;32m---> 11\u001b[0m \u001b[39mprint\u001b[39m(\u001b[39mf\u001b[39m\u001b[39m'\u001b[39m\u001b[39mWe found \u001b[39m\u001b[39m{\u001b[39;00m\u001b[39mlen\u001b[39m(triplets)\u001b[39m}\u001b[39;00m\u001b[39m conditional independances\u001b[39m\u001b[39m'\u001b[39m)\n",
      "\u001b[1;31mTypeError\u001b[0m: object of type 'NoneType' has no len()"
     ]
    }
   ],
   "source": [
    "Xs = [\\\n",
    "    name('X',lambda omega: omega % 2),\n",
    "    name('Y',lambda omega: omega % 3),\n",
    "    name('Z',lambda omega: (omega+3) % 6),\n",
    "    name('T',lambda omega: omega % 7),\n",
    "    name('U',lambda omega: (2*omega+7) % 15),\n",
    "]\n",
    "\n",
    "R = RandomVariables(d60,tuple(Xs))\n",
    "triplets = R.list_all_conditional_independances(debug=True)\n",
    "print(f'We found {len(triplets)} conditional independances')"
   ]
  },
  {
   "cell_type": "code",
   "execution_count": null,
   "metadata": {},
   "outputs": [],
   "source": []
  },
  {
   "cell_type": "code",
   "execution_count": null,
   "metadata": {},
   "outputs": [],
   "source": []
  },
  {
   "cell_type": "code",
   "execution_count": null,
   "metadata": {},
   "outputs": [],
   "source": []
  }
 ],
 "metadata": {
  "kernelspec": {
   "display_name": "Python 3.10.2 64-bit",
   "language": "python",
   "name": "python3"
  },
  "language_info": {
   "codemirror_mode": {
    "name": "ipython",
    "version": 3
   },
   "file_extension": ".py",
   "mimetype": "text/x-python",
   "name": "python",
   "nbconvert_exporter": "python",
   "pygments_lexer": "ipython3",
   "version": "3.10.2"
  },
  "vscode": {
   "interpreter": {
    "hash": "97ee55dfb33b9927a622f5c9bd96b1a91655453cc031e550b25fc9030a8478a2"
   }
  }
 },
 "nbformat": 4,
 "nbformat_minor": 2
}
